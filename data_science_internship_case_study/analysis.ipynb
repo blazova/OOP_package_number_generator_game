{
 "cells": [
  {
   "cell_type": "markdown",
   "metadata": {},
   "source": [
    "# Getsafe Data Case\n",
    "\n",
    "Lucia Blazova\n",
    "\n",
    "\n",
    "\n",
    "## Introduction\n",
    "\n",
    "The case study consists of a table of users and of a csv file containing survey responses of the users.\n",
    "\n",
    "\n",
    "In my analysis I will focus on the following questions:\n",
    "\n",
    "\n",
    "_1.\tWhich are the relevant customer clusters? What makes them a good fit for an insurance company?_\n",
    "\n",
    "_2.\tWhat’s your idea for a “sweet spot” to acquire new customers and how is it characterised (age, customer acquisition channel, certain events in life or lifestyle situations)? In other words, what describes our most valuable customers at time of acquisition?_\n",
    "\n",
    "_3.\tIs “travel health insurance” a good product to acquire especially valuable customers?_\n",
    "\n",
    "\n",
    "I will create a dictionary to be able to follow the translations. "
   ]
  },
  {
   "cell_type": "markdown",
   "metadata": {},
   "source": [
    "## Assessing and Cleaning "
   ]
  },
  {
   "cell_type": "code",
   "execution_count": 1,
   "metadata": {},
   "outputs": [],
   "source": [
    "import pandas as pd\n",
    "import numpy as np\n",
    "from datetime import datetime\n",
    "import matplotlib.pyplot as plt\n",
    "import seaborn as sns; sns.set()\n",
    "% matplotlib inline\n",
    "from sklearn.cluster import KMeans\n",
    "from sklearn.preprocessing import StandardScaler\n"
   ]
  },
  {
   "cell_type": "code",
   "execution_count": 2,
   "metadata": {},
   "outputs": [
    {
     "data": {
      "text/html": [
       "<div>\n",
       "<style scoped>\n",
       "    .dataframe tbody tr th:only-of-type {\n",
       "        vertical-align: middle;\n",
       "    }\n",
       "\n",
       "    .dataframe tbody tr th {\n",
       "        vertical-align: top;\n",
       "    }\n",
       "\n",
       "    .dataframe thead th {\n",
       "        text-align: right;\n",
       "    }\n",
       "</style>\n",
       "<table border=\"1\" class=\"dataframe\">\n",
       "  <thead>\n",
       "    <tr style=\"text-align: right;\">\n",
       "      <th></th>\n",
       "      <th>id</th>\n",
       "      <th>gender</th>\n",
       "      <th>born_on</th>\n",
       "      <th>age</th>\n",
       "      <th>age_bucket</th>\n",
       "    </tr>\n",
       "  </thead>\n",
       "  <tbody>\n",
       "    <tr>\n",
       "      <th>0</th>\n",
       "      <td>5f8d6407-7638-42f2-a7ea-b7a56f127868</td>\n",
       "      <td>f</td>\n",
       "      <td>1988-05-31</td>\n",
       "      <td>30.0</td>\n",
       "      <td>30-34</td>\n",
       "    </tr>\n",
       "    <tr>\n",
       "      <th>1</th>\n",
       "      <td>89a1ba50-8096-4f34-9937-a531abbc1d73</td>\n",
       "      <td>m</td>\n",
       "      <td>1983-06-25</td>\n",
       "      <td>35.0</td>\n",
       "      <td>35-39</td>\n",
       "    </tr>\n",
       "    <tr>\n",
       "      <th>2</th>\n",
       "      <td>2ddf5d88-07cd-4135-b539-6f5d2c57b1ec</td>\n",
       "      <td>m</td>\n",
       "      <td>1991-10-16</td>\n",
       "      <td>27.0</td>\n",
       "      <td>25-29</td>\n",
       "    </tr>\n",
       "    <tr>\n",
       "      <th>3</th>\n",
       "      <td>84223cd3-fda2-42b8-a9ba-cf55fc637941</td>\n",
       "      <td>f</td>\n",
       "      <td>1987-01-15</td>\n",
       "      <td>32.0</td>\n",
       "      <td>30-34</td>\n",
       "    </tr>\n",
       "    <tr>\n",
       "      <th>4</th>\n",
       "      <td>1943e55d-a803-4c7a-9787-c30ed150db14</td>\n",
       "      <td>m</td>\n",
       "      <td>1991-02-17</td>\n",
       "      <td>28.0</td>\n",
       "      <td>25-29</td>\n",
       "    </tr>\n",
       "  </tbody>\n",
       "</table>\n",
       "</div>"
      ],
      "text/plain": [
       "                                     id gender     born_on   age age_bucket\n",
       "0  5f8d6407-7638-42f2-a7ea-b7a56f127868      f  1988-05-31  30.0      30-34\n",
       "1  89a1ba50-8096-4f34-9937-a531abbc1d73      m  1983-06-25  35.0      35-39\n",
       "2  2ddf5d88-07cd-4135-b539-6f5d2c57b1ec      m  1991-10-16  27.0      25-29\n",
       "3  84223cd3-fda2-42b8-a9ba-cf55fc637941      f  1987-01-15  32.0      30-34\n",
       "4  1943e55d-a803-4c7a-9787-c30ed150db14      m  1991-02-17  28.0      25-29"
      ]
     },
     "execution_count": 2,
     "metadata": {},
     "output_type": "execute_result"
    }
   ],
   "source": [
    "# having a look at data and its values\n",
    "users = pd.read_csv('users.csv')\n",
    "users.head()"
   ]
  },
  {
   "cell_type": "code",
   "execution_count": 3,
   "metadata": {},
   "outputs": [
    {
     "data": {
      "text/plain": [
       "id            48064\n",
       "gender            2\n",
       "born_on       11882\n",
       "age              73\n",
       "age_bucket        9\n",
       "dtype: int64"
      ]
     },
     "execution_count": 3,
     "metadata": {},
     "output_type": "execute_result"
    }
   ],
   "source": [
    "users.nunique()"
   ]
  },
  {
   "cell_type": "code",
   "execution_count": 4,
   "metadata": {},
   "outputs": [
    {
     "name": "stdout",
     "output_type": "stream",
     "text": [
      "<class 'pandas.core.frame.DataFrame'>\n",
      "RangeIndex: 48068 entries, 0 to 48067\n",
      "Data columns (total 5 columns):\n",
      "id            48068 non-null object\n",
      "gender        48043 non-null object\n",
      "born_on       48060 non-null object\n",
      "age           48060 non-null float64\n",
      "age_bucket    48068 non-null object\n",
      "dtypes: float64(1), object(4)\n",
      "memory usage: 1.8+ MB\n"
     ]
    }
   ],
   "source": [
    "# checking for the missing values\n",
    "users.info()"
   ]
  },
  {
   "cell_type": "code",
   "execution_count": 5,
   "metadata": {},
   "outputs": [],
   "source": [
    "# converting the column \"born_on\" to datetime format if needed further in the analysis\n",
    "# users['born_on']= pd.to_datetime(users['born_on'], format = '%Y-%m-%d')"
   ]
  },
  {
   "cell_type": "code",
   "execution_count": 6,
   "metadata": {},
   "outputs": [],
   "source": [
    "# checking for the correctnes of the datetime values\n",
    "# users.born_on.describe()"
   ]
  },
  {
   "cell_type": "code",
   "execution_count": 7,
   "metadata": {},
   "outputs": [
    {
     "data": {
      "text/html": [
       "<div>\n",
       "<style scoped>\n",
       "    .dataframe tbody tr th:only-of-type {\n",
       "        vertical-align: middle;\n",
       "    }\n",
       "\n",
       "    .dataframe tbody tr th {\n",
       "        vertical-align: top;\n",
       "    }\n",
       "\n",
       "    .dataframe thead th {\n",
       "        text-align: right;\n",
       "    }\n",
       "</style>\n",
       "<table border=\"1\" class=\"dataframe\">\n",
       "  <thead>\n",
       "    <tr style=\"text-align: right;\">\n",
       "      <th></th>\n",
       "      <th>#</th>\n",
       "      <th>Wie wohnst du?</th>\n",
       "      <th>Ist die Wohnung oder das Haus, wo du wohnst, dein Eigentum?</th>\n",
       "      <th>Besitzt du ein eigenes Auto?</th>\n",
       "      <th>In welchem Beschäftigungsverhältnis stehst du?</th>\n",
       "      <th>Wann wirst du voraussichtlich deinen ersten Job anfangen?</th>\n",
       "      <th>Ist dies dein erster Job?</th>\n",
       "      <th>Wie ist dein aktueller Familienstand?</th>\n",
       "      <th>Hast du Kinder?</th>\n",
       "      <th>Wie bist du auf Getsafe aufmerksam geworden?</th>\n",
       "      <th>...</th>\n",
       "      <th>Verbundenheit mit Partner/Freunde/Familie(z.B. Gruppenangebote, Grüsse schicken).1</th>\n",
       "      <th>Versicherung besser verstehen(z.B. Schadensprozess oder Prämien verstehen).1</th>\n",
       "      <th>Sorgenfrei wohnen und umziehen(z.B. Haftpflichtnachweis für Vermieter, Checklisten für den Umzug).1</th>\n",
       "      <th>Erfolg im Beruf(z.B. Bewerbertrainings, podcasts).1</th>\n",
       "      <th>In der Gesellschaft einen Beitrag leisten(z.B. Geld spenden für wohltätige Zwecke).1</th>\n",
       "      <th>user_id</th>\n",
       "      <th>first_name</th>\n",
       "      <th>Start Date (UTC)</th>\n",
       "      <th>Submit Date (UTC)</th>\n",
       "      <th>Network ID</th>\n",
       "    </tr>\n",
       "  </thead>\n",
       "  <tbody>\n",
       "    <tr>\n",
       "      <th>0</th>\n",
       "      <td>55e67301456961d2f00aa84e4a502398</td>\n",
       "      <td>allein</td>\n",
       "      <td>0.0</td>\n",
       "      <td>0</td>\n",
       "      <td>angestellt, Vollzeit</td>\n",
       "      <td>NaN</td>\n",
       "      <td>0.0</td>\n",
       "      <td>Single</td>\n",
       "      <td>0</td>\n",
       "      <td>Vergleichsportale (z.B. Check24, Verivox)</td>\n",
       "      <td>...</td>\n",
       "      <td>1</td>\n",
       "      <td>5</td>\n",
       "      <td>5</td>\n",
       "      <td>1</td>\n",
       "      <td>4</td>\n",
       "      <td>83ffd73c-9928-43f7-939e-990ef2569776</td>\n",
       "      <td>Alice</td>\n",
       "      <td>2019-02-25 21:33:51</td>\n",
       "      <td>2019-02-25 21:38:50</td>\n",
       "      <td>afbc770e41</td>\n",
       "    </tr>\n",
       "    <tr>\n",
       "      <th>1</th>\n",
       "      <td>695bb8463823fbb0b2588e40094caf25</td>\n",
       "      <td>allein</td>\n",
       "      <td>0.0</td>\n",
       "      <td>0</td>\n",
       "      <td>auf Arbeitssuche</td>\n",
       "      <td>NaN</td>\n",
       "      <td>NaN</td>\n",
       "      <td>Single</td>\n",
       "      <td>1</td>\n",
       "      <td>Empfehlung von Freunden/ Bekannten</td>\n",
       "      <td>...</td>\n",
       "      <td>3</td>\n",
       "      <td>1</td>\n",
       "      <td>3</td>\n",
       "      <td>2</td>\n",
       "      <td>1</td>\n",
       "      <td>849052a7-7b23-4419-bd12-2988f7fabb72</td>\n",
       "      <td>Silke</td>\n",
       "      <td>2019-02-25 21:27:22</td>\n",
       "      <td>2019-02-25 21:32:52</td>\n",
       "      <td>edad1b6e65</td>\n",
       "    </tr>\n",
       "    <tr>\n",
       "      <th>2</th>\n",
       "      <td>4086ec9711a5f15e65737ab71d41214a</td>\n",
       "      <td>allein</td>\n",
       "      <td>0.0</td>\n",
       "      <td>0</td>\n",
       "      <td>im Studium</td>\n",
       "      <td>später</td>\n",
       "      <td>NaN</td>\n",
       "      <td>Single</td>\n",
       "      <td>0</td>\n",
       "      <td>Vergleichsportale (z.B. Check24, Verivox)</td>\n",
       "      <td>...</td>\n",
       "      <td>1</td>\n",
       "      <td>4</td>\n",
       "      <td>4</td>\n",
       "      <td>1</td>\n",
       "      <td>1</td>\n",
       "      <td>98caf5d8-48a5-4197-a9d7-09d0244f6efc</td>\n",
       "      <td>Julian</td>\n",
       "      <td>2019-02-25 21:28:01</td>\n",
       "      <td>2019-02-25 21:31:34</td>\n",
       "      <td>df1d0b0fac</td>\n",
       "    </tr>\n",
       "    <tr>\n",
       "      <th>3</th>\n",
       "      <td>ee449a7aaf34da7450827abcbe2e829c</td>\n",
       "      <td>mit meinem Partner/meiner Partnerin</td>\n",
       "      <td>0.0</td>\n",
       "      <td>1</td>\n",
       "      <td>angestellt, Vollzeit</td>\n",
       "      <td>NaN</td>\n",
       "      <td>1.0</td>\n",
       "      <td>in einer Partnerschaft</td>\n",
       "      <td>0</td>\n",
       "      <td>Spezialangebote (z.B. MyDealz, Groupon)</td>\n",
       "      <td>...</td>\n",
       "      <td>4</td>\n",
       "      <td>4</td>\n",
       "      <td>2</td>\n",
       "      <td>4</td>\n",
       "      <td>2</td>\n",
       "      <td>d901950e-0e70-460f-a8e2-f18b9d69a837</td>\n",
       "      <td>Sabine</td>\n",
       "      <td>2019-02-25 21:12:46</td>\n",
       "      <td>2019-02-25 21:17:27</td>\n",
       "      <td>b83e3d1175</td>\n",
       "    </tr>\n",
       "    <tr>\n",
       "      <th>4</th>\n",
       "      <td>59333cfd506de01d6236a83f7ba43a72</td>\n",
       "      <td>allein</td>\n",
       "      <td>0.0</td>\n",
       "      <td>1</td>\n",
       "      <td>selbstständige Tätigkeit</td>\n",
       "      <td>NaN</td>\n",
       "      <td>0.0</td>\n",
       "      <td>geschieden</td>\n",
       "      <td>0</td>\n",
       "      <td>Vergleichsportale (z.B. Check24, Verivox)</td>\n",
       "      <td>...</td>\n",
       "      <td>2</td>\n",
       "      <td>3</td>\n",
       "      <td>2</td>\n",
       "      <td>4</td>\n",
       "      <td>2</td>\n",
       "      <td>3f0b0ffa-8f30-4050-9ecf-873b08951d7c</td>\n",
       "      <td>Maria</td>\n",
       "      <td>2019-02-25 21:01:25</td>\n",
       "      <td>2019-02-25 21:05:20</td>\n",
       "      <td>72aba531db</td>\n",
       "    </tr>\n",
       "  </tbody>\n",
       "</table>\n",
       "<p>5 rows × 62 columns</p>\n",
       "</div>"
      ],
      "text/plain": [
       "                                  #                       Wie wohnst du?  \\\n",
       "0  55e67301456961d2f00aa84e4a502398                               allein   \n",
       "1  695bb8463823fbb0b2588e40094caf25                               allein   \n",
       "2  4086ec9711a5f15e65737ab71d41214a                               allein   \n",
       "3  ee449a7aaf34da7450827abcbe2e829c  mit meinem Partner/meiner Partnerin   \n",
       "4  59333cfd506de01d6236a83f7ba43a72                               allein   \n",
       "\n",
       "   Ist die Wohnung oder das Haus, wo du wohnst, dein Eigentum?  \\\n",
       "0                                                0.0             \n",
       "1                                                0.0             \n",
       "2                                                0.0             \n",
       "3                                                0.0             \n",
       "4                                                0.0             \n",
       "\n",
       "   Besitzt du ein eigenes Auto?  \\\n",
       "0                             0   \n",
       "1                             0   \n",
       "2                             0   \n",
       "3                             1   \n",
       "4                             1   \n",
       "\n",
       "  In welchem Beschäftigungsverhältnis stehst du?  \\\n",
       "0                           angestellt, Vollzeit   \n",
       "1                               auf Arbeitssuche   \n",
       "2                                     im Studium   \n",
       "3                           angestellt, Vollzeit   \n",
       "4                       selbstständige Tätigkeit   \n",
       "\n",
       "  Wann wirst du voraussichtlich deinen ersten Job anfangen?  \\\n",
       "0                                                NaN          \n",
       "1                                                NaN          \n",
       "2                                             später          \n",
       "3                                                NaN          \n",
       "4                                                NaN          \n",
       "\n",
       "   Ist dies dein erster Job? Wie ist dein aktueller Familienstand?  \\\n",
       "0                        0.0                                Single   \n",
       "1                        NaN                                Single   \n",
       "2                        NaN                                Single   \n",
       "3                        1.0                in einer Partnerschaft   \n",
       "4                        0.0                            geschieden   \n",
       "\n",
       "   Hast du Kinder? Wie bist du auf Getsafe aufmerksam geworden?     ...      \\\n",
       "0                0    Vergleichsportale (z.B. Check24, Verivox)     ...       \n",
       "1                1           Empfehlung von Freunden/ Bekannten     ...       \n",
       "2                0    Vergleichsportale (z.B. Check24, Verivox)     ...       \n",
       "3                0      Spezialangebote (z.B. MyDealz, Groupon)     ...       \n",
       "4                0    Vergleichsportale (z.B. Check24, Verivox)     ...       \n",
       "\n",
       "  Verbundenheit mit Partner/Freunde/Familie(z.B. Gruppenangebote, Grüsse schicken).1  \\\n",
       "0                                                  1                                   \n",
       "1                                                  3                                   \n",
       "2                                                  1                                   \n",
       "3                                                  4                                   \n",
       "4                                                  2                                   \n",
       "\n",
       "  Versicherung besser verstehen(z.B. Schadensprozess oder Prämien verstehen).1  \\\n",
       "0                                                  5                             \n",
       "1                                                  1                             \n",
       "2                                                  4                             \n",
       "3                                                  4                             \n",
       "4                                                  3                             \n",
       "\n",
       "  Sorgenfrei wohnen und umziehen(z.B. Haftpflichtnachweis für Vermieter, Checklisten für den Umzug).1  \\\n",
       "0                                                  5                                                    \n",
       "1                                                  3                                                    \n",
       "2                                                  4                                                    \n",
       "3                                                  2                                                    \n",
       "4                                                  2                                                    \n",
       "\n",
       "  Erfolg im Beruf(z.B. Bewerbertrainings, podcasts).1  \\\n",
       "0                                                  1    \n",
       "1                                                  2    \n",
       "2                                                  1    \n",
       "3                                                  4    \n",
       "4                                                  4    \n",
       "\n",
       "  In der Gesellschaft einen Beitrag leisten(z.B. Geld spenden für wohltätige Zwecke).1  \\\n",
       "0                                                  4                                     \n",
       "1                                                  1                                     \n",
       "2                                                  1                                     \n",
       "3                                                  2                                     \n",
       "4                                                  2                                     \n",
       "\n",
       "                                user_id first_name     Start Date (UTC)  \\\n",
       "0  83ffd73c-9928-43f7-939e-990ef2569776      Alice  2019-02-25 21:33:51   \n",
       "1  849052a7-7b23-4419-bd12-2988f7fabb72      Silke  2019-02-25 21:27:22   \n",
       "2  98caf5d8-48a5-4197-a9d7-09d0244f6efc     Julian  2019-02-25 21:28:01   \n",
       "3  d901950e-0e70-460f-a8e2-f18b9d69a837     Sabine  2019-02-25 21:12:46   \n",
       "4  3f0b0ffa-8f30-4050-9ecf-873b08951d7c      Maria  2019-02-25 21:01:25   \n",
       "\n",
       "     Submit Date (UTC)  Network ID  \n",
       "0  2019-02-25 21:38:50  afbc770e41  \n",
       "1  2019-02-25 21:32:52  edad1b6e65  \n",
       "2  2019-02-25 21:31:34  df1d0b0fac  \n",
       "3  2019-02-25 21:17:27  b83e3d1175  \n",
       "4  2019-02-25 21:05:20  72aba531db  \n",
       "\n",
       "[5 rows x 62 columns]"
      ]
     },
     "execution_count": 7,
     "metadata": {},
     "output_type": "execute_result"
    }
   ],
   "source": [
    "# importing the responses from survey and merging the datasets on user_id\n",
    "responses = pd.read_csv('responses.csv')\n",
    "responses.head()"
   ]
  },
  {
   "cell_type": "markdown",
   "metadata": {},
   "source": [
    "The table responses lacks a bit of intuitiveness. It is not very clear which columns are missing and which were just shown to the customers.\n",
    "\n",
    "Some columns with questions seem to be repeatitive and don't provide any further guidelines. For the purpose of this analysis, I will suppose that the responses about the insurance products are evaluating how important are the particular products for customers on a scales from 0 to 5, 5 being the highest importance."
   ]
  },
  {
   "cell_type": "code",
   "execution_count": 8,
   "metadata": {},
   "outputs": [
    {
     "data": {
      "text/plain": [
       "#                                                                                                      2668\n",
       "Wie wohnst du?                                                                                            5\n",
       "Ist die Wohnung oder das Haus, wo du wohnst, dein Eigentum?                                               2\n",
       "Besitzt du ein eigenes Auto?                                                                              2\n",
       "In welchem Beschäftigungsverhältnis stehst du?                                                            8\n",
       "Wann wirst du voraussichtlich deinen ersten Job anfangen?                                                 6\n",
       "Ist dies dein erster Job?                                                                                 2\n",
       "Wie ist dein aktueller Familienstand?                                                                     5\n",
       "Hast du Kinder?                                                                                           2\n",
       "Wie bist du auf Getsafe aufmerksam geworden?                                                              8\n",
       "Other                                                                                                    30\n",
       "gesetzliche Krankenversicherung                                                                           1\n",
       "private Krankenversicherung                                                                               1\n",
       "Auslandskrankenversicherung                                                                               1\n",
       "Hausrat                                                                                                   1\n",
       "Privathaftpflicht                                                                                         1\n",
       "Rechtsschutz                                                                                              1\n",
       "Berufsunfähigkeitsversicherung                                                                            1\n",
       "KFZ Versicherung                                                                                          1\n",
       "Tierhaftpflicht                                                                                           1\n",
       "Drohnenversicherung                                                                                       1\n",
       "Unfallversicherung                                                                                        1\n",
       "Gebäudeschutzversicherung                                                                                 1\n",
       "Risikolebensversicherung                                                                                  1\n",
       "Other.1                                                                                                  44\n",
       "Warum hast du dich damals für eine Haftpflichtversicherung entschieden?                                  11\n",
       "Finanziell sorgenfrei leben                                                                               1\n",
       "Gesundheit halten und verbessern                                                                          1\n",
       "Freude im Alltag erleben                                                                                  1\n",
       "Zeit mit Partner, Freunden und Familie verbringen                                                         1\n",
       "                                                                                                       ... \n",
       "Struktur im Leben und Alltag haben                                                                        1\n",
       "einen gesellschaftlichen Beitrag leisten                                                                  1\n",
       "Other.2                                                                                                   9\n",
       "Finanzielle Sorgenfreiheit(z.B. Sparen, Ausgaben überwachen)                                              5\n",
       "Gesundheit erhalten und fördern (z.B. Erinnerungen für Routineuntersuchungen)                             5\n",
       "Sicherheit im Alltag(z.B. Wetterwarnungen, Katastrophen)                                                  5\n",
       "Leben und reisen im Ausland(z.B. Auslandskrankenversicherung, Impfempfehlungen)                           5\n",
       "Persönliche Weiterentwicklung(z.B. Sprache lernen, kreativ sein)                                          5\n",
       "Produktivität(z.B. Erinnerungen an wichtige Verpflichtungen im Jahr)                                      5\n",
       "Verbundenheit mit Partner/Freunde/Familie(z.B. Gruppenangebote, Grüsse schicken)                          5\n",
       "Versicherung besser verstehen(z.B. Schadensprozess oder Prämien verstehen)                                5\n",
       "Sorgenfrei wohnen und umziehen(z.B. Haftpflichtnachweis für Vermieter, Checklisten für den Umzug)         5\n",
       "Erfolg im Beruf(z.B. Bewerbertrainings, podcasts)                                                         5\n",
       "In der Gesellschaft einen Beitrag leisten(z.B. Geld spenden für wohltätige Zwecke)                        5\n",
       "Finanzielle Sorgenfreiheit(z.B. Sparen, Ausgaben überwachen).1                                            5\n",
       "Gesundheit erhalten und fördern (z.B. Erinnerungen für Routineuntersuchungen).1                           5\n",
       "Sicherheit im Alltag(z.B. Wetterwarnungen, Katastrophen).1                                                5\n",
       "Leben und reisen im Ausland(z.B. Auslandskrankenversicherung, Impfempfehlungen).1                         5\n",
       "Persönliche Weiterentwicklung(z.B. Sprache lernen, kreativ sein).1                                        5\n",
       "Produktivität(z.B. Erinnerungen an wichtige Verpflichtungen im Jahr).1                                    5\n",
       "Verbundenheit mit Partner/Freunde/Familie(z.B. Gruppenangebote, Grüsse schicken).1                        5\n",
       "Versicherung besser verstehen(z.B. Schadensprozess oder Prämien verstehen).1                              5\n",
       "Sorgenfrei wohnen und umziehen(z.B. Haftpflichtnachweis für Vermieter, Checklisten für den Umzug).1       5\n",
       "Erfolg im Beruf(z.B. Bewerbertrainings, podcasts).1                                                       5\n",
       "In der Gesellschaft einen Beitrag leisten(z.B. Geld spenden für wohltätige Zwecke).1                      5\n",
       "user_id                                                                                                2657\n",
       "first_name                                                                                             1294\n",
       "Start Date (UTC)                                                                                       2486\n",
       "Submit Date (UTC)                                                                                      2495\n",
       "Network ID                                                                                             2624\n",
       "Length: 62, dtype: int64"
      ]
     },
     "execution_count": 8,
     "metadata": {},
     "output_type": "execute_result"
    }
   ],
   "source": [
    "#having a look at the variety of responses from the survey\n",
    "responses.nunique()"
   ]
  },
  {
   "cell_type": "code",
   "execution_count": 9,
   "metadata": {
    "scrolled": true
   },
   "outputs": [
    {
     "data": {
      "text/html": [
       "<div>\n",
       "<style scoped>\n",
       "    .dataframe tbody tr th:only-of-type {\n",
       "        vertical-align: middle;\n",
       "    }\n",
       "\n",
       "    .dataframe tbody tr th {\n",
       "        vertical-align: top;\n",
       "    }\n",
       "\n",
       "    .dataframe thead th {\n",
       "        text-align: right;\n",
       "    }\n",
       "</style>\n",
       "<table border=\"1\" class=\"dataframe\">\n",
       "  <thead>\n",
       "    <tr style=\"text-align: right;\">\n",
       "      <th></th>\n",
       "      <th>#</th>\n",
       "      <th>Wie wohnst du?</th>\n",
       "      <th>Ist die Wohnung oder das Haus, wo du wohnst, dein Eigentum?</th>\n",
       "      <th>Besitzt du ein eigenes Auto?</th>\n",
       "      <th>In welchem Beschäftigungsverhältnis stehst du?</th>\n",
       "      <th>Wann wirst du voraussichtlich deinen ersten Job anfangen?</th>\n",
       "      <th>Ist dies dein erster Job?</th>\n",
       "      <th>Wie ist dein aktueller Familienstand?</th>\n",
       "      <th>Hast du Kinder?</th>\n",
       "      <th>Wie bist du auf Getsafe aufmerksam geworden?</th>\n",
       "      <th>...</th>\n",
       "      <th>Verbundenheit mit Partner/Freunde/Familie(z.B. Gruppenangebote, Grüsse schicken).1</th>\n",
       "      <th>Versicherung besser verstehen(z.B. Schadensprozess oder Prämien verstehen).1</th>\n",
       "      <th>Sorgenfrei wohnen und umziehen(z.B. Haftpflichtnachweis für Vermieter, Checklisten für den Umzug).1</th>\n",
       "      <th>Erfolg im Beruf(z.B. Bewerbertrainings, podcasts).1</th>\n",
       "      <th>In der Gesellschaft einen Beitrag leisten(z.B. Geld spenden für wohltätige Zwecke).1</th>\n",
       "      <th>id</th>\n",
       "      <th>first_name</th>\n",
       "      <th>Start Date (UTC)</th>\n",
       "      <th>Submit Date (UTC)</th>\n",
       "      <th>Network ID</th>\n",
       "    </tr>\n",
       "  </thead>\n",
       "  <tbody>\n",
       "    <tr>\n",
       "      <th>0</th>\n",
       "      <td>55e67301456961d2f00aa84e4a502398</td>\n",
       "      <td>allein</td>\n",
       "      <td>0.0</td>\n",
       "      <td>0</td>\n",
       "      <td>angestellt, Vollzeit</td>\n",
       "      <td>NaN</td>\n",
       "      <td>0.0</td>\n",
       "      <td>Single</td>\n",
       "      <td>0</td>\n",
       "      <td>Vergleichsportale (z.B. Check24, Verivox)</td>\n",
       "      <td>...</td>\n",
       "      <td>1</td>\n",
       "      <td>5</td>\n",
       "      <td>5</td>\n",
       "      <td>1</td>\n",
       "      <td>4</td>\n",
       "      <td>83ffd73c-9928-43f7-939e-990ef2569776</td>\n",
       "      <td>Alice</td>\n",
       "      <td>2019-02-25 21:33:51</td>\n",
       "      <td>2019-02-25 21:38:50</td>\n",
       "      <td>afbc770e41</td>\n",
       "    </tr>\n",
       "    <tr>\n",
       "      <th>1</th>\n",
       "      <td>695bb8463823fbb0b2588e40094caf25</td>\n",
       "      <td>allein</td>\n",
       "      <td>0.0</td>\n",
       "      <td>0</td>\n",
       "      <td>auf Arbeitssuche</td>\n",
       "      <td>NaN</td>\n",
       "      <td>NaN</td>\n",
       "      <td>Single</td>\n",
       "      <td>1</td>\n",
       "      <td>Empfehlung von Freunden/ Bekannten</td>\n",
       "      <td>...</td>\n",
       "      <td>3</td>\n",
       "      <td>1</td>\n",
       "      <td>3</td>\n",
       "      <td>2</td>\n",
       "      <td>1</td>\n",
       "      <td>849052a7-7b23-4419-bd12-2988f7fabb72</td>\n",
       "      <td>Silke</td>\n",
       "      <td>2019-02-25 21:27:22</td>\n",
       "      <td>2019-02-25 21:32:52</td>\n",
       "      <td>edad1b6e65</td>\n",
       "    </tr>\n",
       "    <tr>\n",
       "      <th>2</th>\n",
       "      <td>4086ec9711a5f15e65737ab71d41214a</td>\n",
       "      <td>allein</td>\n",
       "      <td>0.0</td>\n",
       "      <td>0</td>\n",
       "      <td>im Studium</td>\n",
       "      <td>später</td>\n",
       "      <td>NaN</td>\n",
       "      <td>Single</td>\n",
       "      <td>0</td>\n",
       "      <td>Vergleichsportale (z.B. Check24, Verivox)</td>\n",
       "      <td>...</td>\n",
       "      <td>1</td>\n",
       "      <td>4</td>\n",
       "      <td>4</td>\n",
       "      <td>1</td>\n",
       "      <td>1</td>\n",
       "      <td>98caf5d8-48a5-4197-a9d7-09d0244f6efc</td>\n",
       "      <td>Julian</td>\n",
       "      <td>2019-02-25 21:28:01</td>\n",
       "      <td>2019-02-25 21:31:34</td>\n",
       "      <td>df1d0b0fac</td>\n",
       "    </tr>\n",
       "    <tr>\n",
       "      <th>3</th>\n",
       "      <td>ee449a7aaf34da7450827abcbe2e829c</td>\n",
       "      <td>mit meinem Partner/meiner Partnerin</td>\n",
       "      <td>0.0</td>\n",
       "      <td>1</td>\n",
       "      <td>angestellt, Vollzeit</td>\n",
       "      <td>NaN</td>\n",
       "      <td>1.0</td>\n",
       "      <td>in einer Partnerschaft</td>\n",
       "      <td>0</td>\n",
       "      <td>Spezialangebote (z.B. MyDealz, Groupon)</td>\n",
       "      <td>...</td>\n",
       "      <td>4</td>\n",
       "      <td>4</td>\n",
       "      <td>2</td>\n",
       "      <td>4</td>\n",
       "      <td>2</td>\n",
       "      <td>d901950e-0e70-460f-a8e2-f18b9d69a837</td>\n",
       "      <td>Sabine</td>\n",
       "      <td>2019-02-25 21:12:46</td>\n",
       "      <td>2019-02-25 21:17:27</td>\n",
       "      <td>b83e3d1175</td>\n",
       "    </tr>\n",
       "    <tr>\n",
       "      <th>4</th>\n",
       "      <td>59333cfd506de01d6236a83f7ba43a72</td>\n",
       "      <td>allein</td>\n",
       "      <td>0.0</td>\n",
       "      <td>1</td>\n",
       "      <td>selbstständige Tätigkeit</td>\n",
       "      <td>NaN</td>\n",
       "      <td>0.0</td>\n",
       "      <td>geschieden</td>\n",
       "      <td>0</td>\n",
       "      <td>Vergleichsportale (z.B. Check24, Verivox)</td>\n",
       "      <td>...</td>\n",
       "      <td>2</td>\n",
       "      <td>3</td>\n",
       "      <td>2</td>\n",
       "      <td>4</td>\n",
       "      <td>2</td>\n",
       "      <td>3f0b0ffa-8f30-4050-9ecf-873b08951d7c</td>\n",
       "      <td>Maria</td>\n",
       "      <td>2019-02-25 21:01:25</td>\n",
       "      <td>2019-02-25 21:05:20</td>\n",
       "      <td>72aba531db</td>\n",
       "    </tr>\n",
       "  </tbody>\n",
       "</table>\n",
       "<p>5 rows × 62 columns</p>\n",
       "</div>"
      ],
      "text/plain": [
       "                                  #                       Wie wohnst du?  \\\n",
       "0  55e67301456961d2f00aa84e4a502398                               allein   \n",
       "1  695bb8463823fbb0b2588e40094caf25                               allein   \n",
       "2  4086ec9711a5f15e65737ab71d41214a                               allein   \n",
       "3  ee449a7aaf34da7450827abcbe2e829c  mit meinem Partner/meiner Partnerin   \n",
       "4  59333cfd506de01d6236a83f7ba43a72                               allein   \n",
       "\n",
       "   Ist die Wohnung oder das Haus, wo du wohnst, dein Eigentum?  \\\n",
       "0                                                0.0             \n",
       "1                                                0.0             \n",
       "2                                                0.0             \n",
       "3                                                0.0             \n",
       "4                                                0.0             \n",
       "\n",
       "   Besitzt du ein eigenes Auto?  \\\n",
       "0                             0   \n",
       "1                             0   \n",
       "2                             0   \n",
       "3                             1   \n",
       "4                             1   \n",
       "\n",
       "  In welchem Beschäftigungsverhältnis stehst du?  \\\n",
       "0                           angestellt, Vollzeit   \n",
       "1                               auf Arbeitssuche   \n",
       "2                                     im Studium   \n",
       "3                           angestellt, Vollzeit   \n",
       "4                       selbstständige Tätigkeit   \n",
       "\n",
       "  Wann wirst du voraussichtlich deinen ersten Job anfangen?  \\\n",
       "0                                                NaN          \n",
       "1                                                NaN          \n",
       "2                                             später          \n",
       "3                                                NaN          \n",
       "4                                                NaN          \n",
       "\n",
       "   Ist dies dein erster Job? Wie ist dein aktueller Familienstand?  \\\n",
       "0                        0.0                                Single   \n",
       "1                        NaN                                Single   \n",
       "2                        NaN                                Single   \n",
       "3                        1.0                in einer Partnerschaft   \n",
       "4                        0.0                            geschieden   \n",
       "\n",
       "   Hast du Kinder? Wie bist du auf Getsafe aufmerksam geworden?     ...      \\\n",
       "0                0    Vergleichsportale (z.B. Check24, Verivox)     ...       \n",
       "1                1           Empfehlung von Freunden/ Bekannten     ...       \n",
       "2                0    Vergleichsportale (z.B. Check24, Verivox)     ...       \n",
       "3                0      Spezialangebote (z.B. MyDealz, Groupon)     ...       \n",
       "4                0    Vergleichsportale (z.B. Check24, Verivox)     ...       \n",
       "\n",
       "  Verbundenheit mit Partner/Freunde/Familie(z.B. Gruppenangebote, Grüsse schicken).1  \\\n",
       "0                                                  1                                   \n",
       "1                                                  3                                   \n",
       "2                                                  1                                   \n",
       "3                                                  4                                   \n",
       "4                                                  2                                   \n",
       "\n",
       "  Versicherung besser verstehen(z.B. Schadensprozess oder Prämien verstehen).1  \\\n",
       "0                                                  5                             \n",
       "1                                                  1                             \n",
       "2                                                  4                             \n",
       "3                                                  4                             \n",
       "4                                                  3                             \n",
       "\n",
       "  Sorgenfrei wohnen und umziehen(z.B. Haftpflichtnachweis für Vermieter, Checklisten für den Umzug).1  \\\n",
       "0                                                  5                                                    \n",
       "1                                                  3                                                    \n",
       "2                                                  4                                                    \n",
       "3                                                  2                                                    \n",
       "4                                                  2                                                    \n",
       "\n",
       "  Erfolg im Beruf(z.B. Bewerbertrainings, podcasts).1  \\\n",
       "0                                                  1    \n",
       "1                                                  2    \n",
       "2                                                  1    \n",
       "3                                                  4    \n",
       "4                                                  4    \n",
       "\n",
       "  In der Gesellschaft einen Beitrag leisten(z.B. Geld spenden für wohltätige Zwecke).1  \\\n",
       "0                                                  4                                     \n",
       "1                                                  1                                     \n",
       "2                                                  1                                     \n",
       "3                                                  2                                     \n",
       "4                                                  2                                     \n",
       "\n",
       "                                     id first_name     Start Date (UTC)  \\\n",
       "0  83ffd73c-9928-43f7-939e-990ef2569776      Alice  2019-02-25 21:33:51   \n",
       "1  849052a7-7b23-4419-bd12-2988f7fabb72      Silke  2019-02-25 21:27:22   \n",
       "2  98caf5d8-48a5-4197-a9d7-09d0244f6efc     Julian  2019-02-25 21:28:01   \n",
       "3  d901950e-0e70-460f-a8e2-f18b9d69a837     Sabine  2019-02-25 21:12:46   \n",
       "4  3f0b0ffa-8f30-4050-9ecf-873b08951d7c      Maria  2019-02-25 21:01:25   \n",
       "\n",
       "     Submit Date (UTC)  Network ID  \n",
       "0  2019-02-25 21:38:50  afbc770e41  \n",
       "1  2019-02-25 21:32:52  edad1b6e65  \n",
       "2  2019-02-25 21:31:34  df1d0b0fac  \n",
       "3  2019-02-25 21:17:27  b83e3d1175  \n",
       "4  2019-02-25 21:05:20  72aba531db  \n",
       "\n",
       "[5 rows x 62 columns]"
      ]
     },
     "execution_count": 9,
     "metadata": {},
     "output_type": "execute_result"
    }
   ],
   "source": [
    "# renaming the user_id column to id so that it s easier to joint the dfs later on\n",
    "responses.rename(columns={\"user_id\": \"id\"}, inplace = True)\n",
    "responses.head()"
   ]
  },
  {
   "cell_type": "code",
   "execution_count": 10,
   "metadata": {},
   "outputs": [
    {
     "data": {
      "text/html": [
       "<div>\n",
       "<style scoped>\n",
       "    .dataframe tbody tr th:only-of-type {\n",
       "        vertical-align: middle;\n",
       "    }\n",
       "\n",
       "    .dataframe tbody tr th {\n",
       "        vertical-align: top;\n",
       "    }\n",
       "\n",
       "    .dataframe thead th {\n",
       "        text-align: right;\n",
       "    }\n",
       "</style>\n",
       "<table border=\"1\" class=\"dataframe\">\n",
       "  <thead>\n",
       "    <tr style=\"text-align: right;\">\n",
       "      <th></th>\n",
       "      <th>id</th>\n",
       "      <th>gender</th>\n",
       "      <th>born_on</th>\n",
       "      <th>age</th>\n",
       "      <th>age_bucket</th>\n",
       "      <th>#</th>\n",
       "      <th>Wie wohnst du?</th>\n",
       "      <th>Ist die Wohnung oder das Haus, wo du wohnst, dein Eigentum?</th>\n",
       "      <th>Besitzt du ein eigenes Auto?</th>\n",
       "      <th>In welchem Beschäftigungsverhältnis stehst du?</th>\n",
       "      <th>...</th>\n",
       "      <th>Produktivität(z.B. Erinnerungen an wichtige Verpflichtungen im Jahr).1</th>\n",
       "      <th>Verbundenheit mit Partner/Freunde/Familie(z.B. Gruppenangebote, Grüsse schicken).1</th>\n",
       "      <th>Versicherung besser verstehen(z.B. Schadensprozess oder Prämien verstehen).1</th>\n",
       "      <th>Sorgenfrei wohnen und umziehen(z.B. Haftpflichtnachweis für Vermieter, Checklisten für den Umzug).1</th>\n",
       "      <th>Erfolg im Beruf(z.B. Bewerbertrainings, podcasts).1</th>\n",
       "      <th>In der Gesellschaft einen Beitrag leisten(z.B. Geld spenden für wohltätige Zwecke).1</th>\n",
       "      <th>first_name</th>\n",
       "      <th>Start Date (UTC)</th>\n",
       "      <th>Submit Date (UTC)</th>\n",
       "      <th>Network ID</th>\n",
       "    </tr>\n",
       "  </thead>\n",
       "  <tbody>\n",
       "    <tr>\n",
       "      <th>0</th>\n",
       "      <td>84223cd3-fda2-42b8-a9ba-cf55fc637941</td>\n",
       "      <td>f</td>\n",
       "      <td>1987-01-15</td>\n",
       "      <td>32.0</td>\n",
       "      <td>30-34</td>\n",
       "      <td>ee9a36ca39ea0ae30e6af840b590f436</td>\n",
       "      <td>allein</td>\n",
       "      <td>0.0</td>\n",
       "      <td>1</td>\n",
       "      <td>angestellt, Teilzeit</td>\n",
       "      <td>...</td>\n",
       "      <td>1</td>\n",
       "      <td>1</td>\n",
       "      <td>2</td>\n",
       "      <td>1</td>\n",
       "      <td>3</td>\n",
       "      <td>3</td>\n",
       "      <td>Gloria</td>\n",
       "      <td>2019-02-22 09:21:32</td>\n",
       "      <td>2019-02-22 09:31:16</td>\n",
       "      <td>6acdad0b2d</td>\n",
       "    </tr>\n",
       "    <tr>\n",
       "      <th>1</th>\n",
       "      <td>ce1a6946-3b10-41da-b9af-17fb3cc9b526</td>\n",
       "      <td>f</td>\n",
       "      <td>1990-08-10</td>\n",
       "      <td>28.0</td>\n",
       "      <td>25-29</td>\n",
       "      <td>1cde359dd67232a723e1185c70bf36a7</td>\n",
       "      <td>allein</td>\n",
       "      <td>0.0</td>\n",
       "      <td>0</td>\n",
       "      <td>angestellt, Vollzeit</td>\n",
       "      <td>...</td>\n",
       "      <td>3</td>\n",
       "      <td>3</td>\n",
       "      <td>5</td>\n",
       "      <td>4</td>\n",
       "      <td>1</td>\n",
       "      <td>2</td>\n",
       "      <td>Annina</td>\n",
       "      <td>2019-02-21 15:17:41</td>\n",
       "      <td>2019-02-21 15:22:25</td>\n",
       "      <td>f27592ab6b</td>\n",
       "    </tr>\n",
       "    <tr>\n",
       "      <th>2</th>\n",
       "      <td>b9ad6a8a-b592-4675-8b20-c2e206abc7fb</td>\n",
       "      <td>f</td>\n",
       "      <td>1993-10-14</td>\n",
       "      <td>25.0</td>\n",
       "      <td>25-29</td>\n",
       "      <td>1a4926ebbb8dcead3b22c6e55ba92293</td>\n",
       "      <td>in einer WG</td>\n",
       "      <td>NaN</td>\n",
       "      <td>0</td>\n",
       "      <td>angestellt, Vollzeit</td>\n",
       "      <td>...</td>\n",
       "      <td>1</td>\n",
       "      <td>2</td>\n",
       "      <td>5</td>\n",
       "      <td>5</td>\n",
       "      <td>2</td>\n",
       "      <td>3</td>\n",
       "      <td>Celine</td>\n",
       "      <td>2019-02-21 11:40:29</td>\n",
       "      <td>2019-02-21 11:44:14</td>\n",
       "      <td>b3da05bc7b</td>\n",
       "    </tr>\n",
       "    <tr>\n",
       "      <th>3</th>\n",
       "      <td>8757636f-bed6-457c-8c47-363c817d04a4</td>\n",
       "      <td>m</td>\n",
       "      <td>1997-01-03</td>\n",
       "      <td>22.0</td>\n",
       "      <td>18-24</td>\n",
       "      <td>7f4b24bc3adb0c0640a538bb0e04a99f</td>\n",
       "      <td>in einer WG</td>\n",
       "      <td>NaN</td>\n",
       "      <td>1</td>\n",
       "      <td>angestellt, Teilzeit</td>\n",
       "      <td>...</td>\n",
       "      <td>2</td>\n",
       "      <td>2</td>\n",
       "      <td>4</td>\n",
       "      <td>3</td>\n",
       "      <td>2</td>\n",
       "      <td>2</td>\n",
       "      <td>Lukas</td>\n",
       "      <td>2019-02-21 11:06:07</td>\n",
       "      <td>2019-02-21 11:12:29</td>\n",
       "      <td>b3a6061939</td>\n",
       "    </tr>\n",
       "    <tr>\n",
       "      <th>4</th>\n",
       "      <td>c71e03b9-1670-47dc-89a3-c1dc27155ed7</td>\n",
       "      <td>m</td>\n",
       "      <td>1984-11-29</td>\n",
       "      <td>34.0</td>\n",
       "      <td>30-34</td>\n",
       "      <td>f16ec07de3846ee5bee4b5ecce3d912a</td>\n",
       "      <td>in einer WG</td>\n",
       "      <td>NaN</td>\n",
       "      <td>0</td>\n",
       "      <td>in Ausbildung</td>\n",
       "      <td>...</td>\n",
       "      <td>2</td>\n",
       "      <td>5</td>\n",
       "      <td>5</td>\n",
       "      <td>5</td>\n",
       "      <td>5</td>\n",
       "      <td>1</td>\n",
       "      <td>Dawid</td>\n",
       "      <td>2019-02-21 15:27:26</td>\n",
       "      <td>2019-02-21 15:31:32</td>\n",
       "      <td>d931651e5f</td>\n",
       "    </tr>\n",
       "  </tbody>\n",
       "</table>\n",
       "<p>5 rows × 66 columns</p>\n",
       "</div>"
      ],
      "text/plain": [
       "                                     id gender     born_on   age age_bucket  \\\n",
       "0  84223cd3-fda2-42b8-a9ba-cf55fc637941      f  1987-01-15  32.0      30-34   \n",
       "1  ce1a6946-3b10-41da-b9af-17fb3cc9b526      f  1990-08-10  28.0      25-29   \n",
       "2  b9ad6a8a-b592-4675-8b20-c2e206abc7fb      f  1993-10-14  25.0      25-29   \n",
       "3  8757636f-bed6-457c-8c47-363c817d04a4      m  1997-01-03  22.0      18-24   \n",
       "4  c71e03b9-1670-47dc-89a3-c1dc27155ed7      m  1984-11-29  34.0      30-34   \n",
       "\n",
       "                                  # Wie wohnst du?  \\\n",
       "0  ee9a36ca39ea0ae30e6af840b590f436         allein   \n",
       "1  1cde359dd67232a723e1185c70bf36a7         allein   \n",
       "2  1a4926ebbb8dcead3b22c6e55ba92293    in einer WG   \n",
       "3  7f4b24bc3adb0c0640a538bb0e04a99f    in einer WG   \n",
       "4  f16ec07de3846ee5bee4b5ecce3d912a    in einer WG   \n",
       "\n",
       "   Ist die Wohnung oder das Haus, wo du wohnst, dein Eigentum?  \\\n",
       "0                                                0.0             \n",
       "1                                                0.0             \n",
       "2                                                NaN             \n",
       "3                                                NaN             \n",
       "4                                                NaN             \n",
       "\n",
       "   Besitzt du ein eigenes Auto?  \\\n",
       "0                             1   \n",
       "1                             0   \n",
       "2                             0   \n",
       "3                             1   \n",
       "4                             0   \n",
       "\n",
       "  In welchem Beschäftigungsverhältnis stehst du?     ...      \\\n",
       "0                           angestellt, Teilzeit     ...       \n",
       "1                           angestellt, Vollzeit     ...       \n",
       "2                           angestellt, Vollzeit     ...       \n",
       "3                           angestellt, Teilzeit     ...       \n",
       "4                                  in Ausbildung     ...       \n",
       "\n",
       "  Produktivität(z.B. Erinnerungen an wichtige Verpflichtungen im Jahr).1  \\\n",
       "0                                                  1                       \n",
       "1                                                  3                       \n",
       "2                                                  1                       \n",
       "3                                                  2                       \n",
       "4                                                  2                       \n",
       "\n",
       "   Verbundenheit mit Partner/Freunde/Familie(z.B. Gruppenangebote, Grüsse schicken).1  \\\n",
       "0                                                  1                                    \n",
       "1                                                  3                                    \n",
       "2                                                  2                                    \n",
       "3                                                  2                                    \n",
       "4                                                  5                                    \n",
       "\n",
       "  Versicherung besser verstehen(z.B. Schadensprozess oder Prämien verstehen).1  \\\n",
       "0                                                  2                             \n",
       "1                                                  5                             \n",
       "2                                                  5                             \n",
       "3                                                  4                             \n",
       "4                                                  5                             \n",
       "\n",
       "   Sorgenfrei wohnen und umziehen(z.B. Haftpflichtnachweis für Vermieter, Checklisten für den Umzug).1  \\\n",
       "0                                                  1                                                     \n",
       "1                                                  4                                                     \n",
       "2                                                  5                                                     \n",
       "3                                                  3                                                     \n",
       "4                                                  5                                                     \n",
       "\n",
       "  Erfolg im Beruf(z.B. Bewerbertrainings, podcasts).1  \\\n",
       "0                                                  3    \n",
       "1                                                  1    \n",
       "2                                                  2    \n",
       "3                                                  2    \n",
       "4                                                  5    \n",
       "\n",
       "  In der Gesellschaft einen Beitrag leisten(z.B. Geld spenden für wohltätige Zwecke).1  \\\n",
       "0                                                  3                                     \n",
       "1                                                  2                                     \n",
       "2                                                  3                                     \n",
       "3                                                  2                                     \n",
       "4                                                  1                                     \n",
       "\n",
       "  first_name     Start Date (UTC)    Submit Date (UTC)  Network ID  \n",
       "0     Gloria  2019-02-22 09:21:32  2019-02-22 09:31:16  6acdad0b2d  \n",
       "1     Annina  2019-02-21 15:17:41  2019-02-21 15:22:25  f27592ab6b  \n",
       "2     Celine  2019-02-21 11:40:29  2019-02-21 11:44:14  b3da05bc7b  \n",
       "3      Lukas  2019-02-21 11:06:07  2019-02-21 11:12:29  b3a6061939  \n",
       "4      Dawid  2019-02-21 15:27:26  2019-02-21 15:31:32  d931651e5f  \n",
       "\n",
       "[5 rows x 66 columns]"
      ]
     },
     "execution_count": 10,
     "metadata": {},
     "output_type": "execute_result"
    }
   ],
   "source": [
    "# users around 48 000, responses around 2 660\n",
    "# performing right join\n",
    "df = users.merge(responses, how = 'right', on = 'id')\n",
    "df.head()"
   ]
  },
  {
   "cell_type": "code",
   "execution_count": 11,
   "metadata": {},
   "outputs": [
    {
     "name": "stdout",
     "output_type": "stream",
     "text": [
      "<class 'pandas.core.frame.DataFrame'>\n",
      "Int64Index: 2668 entries, 0 to 2667\n",
      "Data columns (total 66 columns):\n",
      "id                                                                                                     2668 non-null object\n",
      "gender                                                                                                 2648 non-null object\n",
      "born_on                                                                                                2650 non-null object\n",
      "age                                                                                                    2650 non-null float64\n",
      "age_bucket                                                                                             2650 non-null object\n",
      "#                                                                                                      2668 non-null object\n",
      "Wie wohnst du?                                                                                         2668 non-null object\n",
      "Ist die Wohnung oder das Haus, wo du wohnst, dein Eigentum?                                            1807 non-null float64\n",
      "Besitzt du ein eigenes Auto?                                                                           2668 non-null int64\n",
      "In welchem Beschäftigungsverhältnis stehst du?                                                         2668 non-null object\n",
      "Wann wirst du voraussichtlich deinen ersten Job anfangen?                                              799 non-null object\n",
      "Ist dies dein erster Job?                                                                              1723 non-null float64\n",
      "Wie ist dein aktueller Familienstand?                                                                  2668 non-null object\n",
      "Hast du Kinder?                                                                                        2668 non-null int64\n",
      "Wie bist du auf Getsafe aufmerksam geworden?                                                           2628 non-null object\n",
      "Other                                                                                                  40 non-null object\n",
      "gesetzliche Krankenversicherung                                                                        1640 non-null object\n",
      "private Krankenversicherung                                                                            177 non-null object\n",
      "Auslandskrankenversicherung                                                                            619 non-null object\n",
      "Hausrat                                                                                                607 non-null object\n",
      "Privathaftpflicht                                                                                      2262 non-null object\n",
      "Rechtsschutz                                                                                           333 non-null object\n",
      "Berufsunfähigkeitsversicherung                                                                         312 non-null object\n",
      "KFZ Versicherung                                                                                       809 non-null object\n",
      "Tierhaftpflicht                                                                                        83 non-null object\n",
      "Drohnenversicherung                                                                                    88 non-null object\n",
      "Unfallversicherung                                                                                     281 non-null object\n",
      "Gebäudeschutzversicherung                                                                              63 non-null object\n",
      "Risikolebensversicherung                                                                               86 non-null object\n",
      "Other.1                                                                                                66 non-null object\n",
      "Warum hast du dich damals für eine Haftpflichtversicherung entschieden?                                2668 non-null object\n",
      "Finanziell sorgenfrei leben                                                                            1473 non-null object\n",
      "Gesundheit halten und verbessern                                                                       1114 non-null object\n",
      "Freude im Alltag erleben                                                                               883 non-null object\n",
      "Zeit mit Partner, Freunden und Familie verbringen                                                      1398 non-null object\n",
      "mich persönlich weiterentwickeln                                                                       1182 non-null object\n",
      "in einem Bereich richtig gut sein (Job, Hobby)                                                         766 non-null object\n",
      "Struktur im Leben und Alltag haben                                                                     505 non-null object\n",
      "einen gesellschaftlichen Beitrag leisten                                                               181 non-null object\n",
      "Other.2                                                                                                10 non-null object\n",
      "Finanzielle Sorgenfreiheit(z.B. Sparen, Ausgaben überwachen)                                           2668 non-null int64\n",
      "Gesundheit erhalten und fördern (z.B. Erinnerungen für Routineuntersuchungen)                          2668 non-null int64\n",
      "Sicherheit im Alltag(z.B. Wetterwarnungen, Katastrophen)                                               2668 non-null int64\n",
      "Leben und reisen im Ausland(z.B. Auslandskrankenversicherung, Impfempfehlungen)                        2668 non-null int64\n",
      "Persönliche Weiterentwicklung(z.B. Sprache lernen, kreativ sein)                                       2668 non-null int64\n",
      "Produktivität(z.B. Erinnerungen an wichtige Verpflichtungen im Jahr)                                   2668 non-null int64\n",
      "Verbundenheit mit Partner/Freunde/Familie(z.B. Gruppenangebote, Grüsse schicken)                       2668 non-null int64\n",
      "Versicherung besser verstehen(z.B. Schadensprozess oder Prämien verstehen)                             2668 non-null int64\n",
      "Sorgenfrei wohnen und umziehen(z.B. Haftpflichtnachweis für Vermieter, Checklisten für den Umzug)      2668 non-null int64\n",
      "Erfolg im Beruf(z.B. Bewerbertrainings, podcasts)                                                      2668 non-null int64\n",
      "In der Gesellschaft einen Beitrag leisten(z.B. Geld spenden für wohltätige Zwecke)                     2668 non-null int64\n",
      "Finanzielle Sorgenfreiheit(z.B. Sparen, Ausgaben überwachen).1                                         2668 non-null int64\n",
      "Gesundheit erhalten und fördern (z.B. Erinnerungen für Routineuntersuchungen).1                        2668 non-null int64\n",
      "Sicherheit im Alltag(z.B. Wetterwarnungen, Katastrophen).1                                             2668 non-null int64\n",
      "Leben und reisen im Ausland(z.B. Auslandskrankenversicherung, Impfempfehlungen).1                      2668 non-null int64\n",
      "Persönliche Weiterentwicklung(z.B. Sprache lernen, kreativ sein).1                                     2668 non-null int64\n",
      "Produktivität(z.B. Erinnerungen an wichtige Verpflichtungen im Jahr).1                                 2668 non-null int64\n",
      "Verbundenheit mit Partner/Freunde/Familie(z.B. Gruppenangebote, Grüsse schicken).1                     2668 non-null int64\n",
      "Versicherung besser verstehen(z.B. Schadensprozess oder Prämien verstehen).1                           2668 non-null int64\n",
      "Sorgenfrei wohnen und umziehen(z.B. Haftpflichtnachweis für Vermieter, Checklisten für den Umzug).1    2668 non-null int64\n",
      "Erfolg im Beruf(z.B. Bewerbertrainings, podcasts).1                                                    2668 non-null int64\n",
      "In der Gesellschaft einen Beitrag leisten(z.B. Geld spenden für wohltätige Zwecke).1                   2668 non-null int64\n",
      "first_name                                                                                             2668 non-null object\n",
      "Start Date (UTC)                                                                                       2668 non-null object\n",
      "Submit Date (UTC)                                                                                      2668 non-null object\n",
      "Network ID                                                                                             2668 non-null object\n",
      "dtypes: float64(3), int64(24), object(39)\n",
      "memory usage: 1.4+ MB\n"
     ]
    }
   ],
   "source": [
    "# checking if the length corresponds to the length of the responses df\n",
    "df.info()"
   ]
  },
  {
   "cell_type": "code",
   "execution_count": 12,
   "metadata": {},
   "outputs": [
    {
     "data": {
      "text/plain": [
       "0"
      ]
     },
     "execution_count": 12,
     "metadata": {},
     "output_type": "execute_result"
    }
   ],
   "source": [
    "# double-checking for duplicated rows\n",
    "df.duplicated().sum()"
   ]
  },
  {
   "cell_type": "markdown",
   "metadata": {},
   "source": [
    "### Creating  a dictionary of the survey questions with English translations for easier access"
   ]
  },
  {
   "cell_type": "code",
   "execution_count": 13,
   "metadata": {
    "scrolled": false
   },
   "outputs": [],
   "source": [
    "# saving English translations of the German questions (columns) in a separate list, \n",
    "# so that I can work on a dictionary to get an easier access later on\n",
    "translations = ['#',\n",
    " 'How do you live?',\n",
    " 'Is the apartment or house where you live your property?',\n",
    " 'Do you own a car?',\n",
    " 'What is your employment relationship?',\n",
    " 'When will you probably start your first job?',\n",
    " 'Is this your first job?',\n",
    " 'What is your current marital status?',\n",
    " 'Do you have children?',\n",
    " 'How did you find out about Getsafe?',\n",
    " 'Other',\n",
    " 'statutory health insurance',\n",
    " 'Private health insurance',\n",
    " 'Travel insurance',\n",
    " 'Household',\n",
    " 'Personal liability',\n",
    " 'Legal',\n",
    " 'Disability insurance',\n",
    " 'Car Insurance',\n",
    " 'Animal liability',\n",
    " 'Drones insurance',\n",
    " 'Accident insurance',\n",
    " 'Building insurance',\n",
    " 'Term life insurance',\n",
    " 'Other.1',\n",
    " 'Why did you opt for liability insurance back then?',\n",
    " 'Living financially carefree',\n",
    " 'Keeping and improving health',\n",
    " 'Experiencing joy in everyday life',\n",
    " 'Spending time with partner, friends and family',\n",
    " 'personally evolve',\n",
    " 'Being really good in one area (job, hobby)',\n",
    " 'Structure in life and everyday life',\n",
    " 'make a social contribution',\n",
    " 'Other.2',\n",
    " 'Financial peace of mind (eg saving, monitoring expenditure)',\n",
    " 'Maintain and promote health (e.g., reminders for routine examinations)',\n",
    " 'Safety in everyday life (eg weather warnings, disasters)',\n",
    " 'Living and traveling abroad (eg foreign health insurance, vaccination recommendations)',\n",
    " 'Personal development (eg learning language, being creative)',\n",
    " 'Productivity (eg reminders of important commitments in the year)',\n",
    " 'Bonding with partner / friends / family (eg group offers, sending greetings)',\n",
    " 'Understand insurance better (eg understand damage process or premiums)',\n",
    " 'Living and moving without worries (eg proof of liability for landlords, checklists for moving) ',\n",
    " 'Success in the job (eg job application training, podcasts)',\n",
    " 'Contributing to society (for example donating money to charity)',\n",
    " 'Financial peace of mind (eg saving, monitoring expenditure) .1',\n",
    " 'Maintain and promote health (e.g. memories for routine examinations) .1 ',\n",
    " 'Safety in everyday life (eg weather warnings, catastrophes) .1',\n",
    " 'Living and traveling abroad (eg foreign health insurance, vaccination recommendations) .1',\n",
    " 'Personal development (eg learning language, being creative) .1',\n",
    " 'Productivity (eg reminders of important commitments in the year) .1',\n",
    " 'Bonding with partner / friends / family (eg group offers, sending greetings) .1',\n",
    " 'Understand insurance better (eg understand damage process or premiums) .1',\n",
    " 'Living and moving without worries (eg proof of liability for landlords, checklists for moving) .1 ',\n",
    " 'Success in the job (eg job application training, podcasts) .1',\n",
    " 'Contribute to society (for example donating money to charity) .1',\n",
    " 'User_id',\n",
    " 'first name',\n",
    " 'Start Date (UTC)',\n",
    " 'Submit Date (UTC)',\n",
    " 'Network ID']"
   ]
  },
  {
   "cell_type": "code",
   "execution_count": 14,
   "metadata": {},
   "outputs": [
    {
     "data": {
      "text/plain": [
       "{'#': '#',\n",
       " 'Wie wohnst du?': 'How do you live?',\n",
       " 'Ist die Wohnung oder das Haus, wo du wohnst, dein Eigentum?': 'Is the apartment or house where you live your property?',\n",
       " 'Besitzt du ein eigenes Auto?': 'Do you own a car?',\n",
       " 'In welchem Beschäftigungsverhältnis stehst du?': 'What is your employment relationship?',\n",
       " 'Wann wirst du voraussichtlich deinen ersten Job anfangen?': 'When will you probably start your first job?',\n",
       " 'Ist dies dein erster Job?': 'Is this your first job?',\n",
       " 'Wie ist dein aktueller Familienstand?': 'What is your current marital status?',\n",
       " 'Hast du Kinder?': 'Do you have children?',\n",
       " 'Wie bist du auf Getsafe aufmerksam geworden?': 'How did you find out about Getsafe?',\n",
       " 'Other': 'Other',\n",
       " 'gesetzliche Krankenversicherung': 'statutory health insurance',\n",
       " 'private Krankenversicherung': 'Private health insurance',\n",
       " 'Auslandskrankenversicherung': 'Travel insurance',\n",
       " 'Hausrat': 'Household',\n",
       " 'Privathaftpflicht': 'Personal liability',\n",
       " 'Rechtsschutz': 'Legal',\n",
       " 'Berufsunfähigkeitsversicherung': 'Disability insurance',\n",
       " 'KFZ Versicherung': 'Car Insurance',\n",
       " 'Tierhaftpflicht': 'Animal liability',\n",
       " 'Drohnenversicherung': 'Drones insurance',\n",
       " 'Unfallversicherung': 'Accident insurance',\n",
       " 'Gebäudeschutzversicherung': 'Building insurance',\n",
       " 'Risikolebensversicherung': 'Term life insurance',\n",
       " 'Other.1': 'Other.1',\n",
       " 'Warum hast du dich damals für eine Haftpflichtversicherung entschieden?': 'Why did you opt for liability insurance back then?',\n",
       " 'Finanziell sorgenfrei leben': 'Living financially carefree',\n",
       " 'Gesundheit halten und verbessern': 'Keeping and improving health',\n",
       " 'Freude im Alltag erleben': 'Experiencing joy in everyday life',\n",
       " 'Zeit mit Partner, Freunden und Familie verbringen': 'Spending time with partner, friends and family',\n",
       " 'mich persönlich weiterentwickeln': 'personally evolve',\n",
       " 'in einem Bereich richtig gut sein (Job, Hobby)': 'Being really good in one area (job, hobby)',\n",
       " 'Struktur im Leben und Alltag haben': 'Structure in life and everyday life',\n",
       " 'einen gesellschaftlichen Beitrag leisten': 'make a social contribution',\n",
       " 'Other.2': 'Other.2',\n",
       " 'Finanzielle Sorgenfreiheit(z.B. Sparen, Ausgaben überwachen)': 'Financial peace of mind (eg saving, monitoring expenditure)',\n",
       " 'Gesundheit erhalten und fördern (z.B. Erinnerungen für Routineuntersuchungen)': 'Maintain and promote health (e.g., reminders for routine examinations)',\n",
       " 'Sicherheit im Alltag(z.B. Wetterwarnungen, Katastrophen)': 'Safety in everyday life (eg weather warnings, disasters)',\n",
       " 'Leben und reisen im Ausland(z.B. Auslandskrankenversicherung, Impfempfehlungen)': 'Living and traveling abroad (eg foreign health insurance, vaccination recommendations)',\n",
       " 'Persönliche Weiterentwicklung(z.B. Sprache lernen, kreativ sein)': 'Personal development (eg learning language, being creative)',\n",
       " 'Produktivität(z.B. Erinnerungen an wichtige Verpflichtungen im Jahr)': 'Productivity (eg reminders of important commitments in the year)',\n",
       " 'Verbundenheit mit Partner/Freunde/Familie(z.B. Gruppenangebote, Grüsse schicken)': 'Bonding with partner / friends / family (eg group offers, sending greetings)',\n",
       " 'Versicherung besser verstehen(z.B. Schadensprozess oder Prämien verstehen)': 'Understand insurance better (eg understand damage process or premiums)',\n",
       " 'Sorgenfrei wohnen und umziehen(z.B. Haftpflichtnachweis für Vermieter, Checklisten für den Umzug)': 'Living and moving without worries (eg proof of liability for landlords, checklists for moving) ',\n",
       " 'Erfolg im Beruf(z.B. Bewerbertrainings, podcasts)': 'Success in the job (eg job application training, podcasts)',\n",
       " 'In der Gesellschaft einen Beitrag leisten(z.B. Geld spenden für wohltätige Zwecke)': 'Contributing to society (for example donating money to charity)',\n",
       " 'Finanzielle Sorgenfreiheit(z.B. Sparen, Ausgaben überwachen).1': 'Financial peace of mind (eg saving, monitoring expenditure) .1',\n",
       " 'Gesundheit erhalten und fördern (z.B. Erinnerungen für Routineuntersuchungen).1': 'Maintain and promote health (e.g. memories for routine examinations) .1 ',\n",
       " 'Sicherheit im Alltag(z.B. Wetterwarnungen, Katastrophen).1': 'Safety in everyday life (eg weather warnings, catastrophes) .1',\n",
       " 'Leben und reisen im Ausland(z.B. Auslandskrankenversicherung, Impfempfehlungen).1': 'Living and traveling abroad (eg foreign health insurance, vaccination recommendations) .1',\n",
       " 'Persönliche Weiterentwicklung(z.B. Sprache lernen, kreativ sein).1': 'Personal development (eg learning language, being creative) .1',\n",
       " 'Produktivität(z.B. Erinnerungen an wichtige Verpflichtungen im Jahr).1': 'Productivity (eg reminders of important commitments in the year) .1',\n",
       " 'Verbundenheit mit Partner/Freunde/Familie(z.B. Gruppenangebote, Grüsse schicken).1': 'Bonding with partner / friends / family (eg group offers, sending greetings) .1',\n",
       " 'Versicherung besser verstehen(z.B. Schadensprozess oder Prämien verstehen).1': 'Understand insurance better (eg understand damage process or premiums) .1',\n",
       " 'Sorgenfrei wohnen und umziehen(z.B. Haftpflichtnachweis für Vermieter, Checklisten für den Umzug).1': 'Living and moving without worries (eg proof of liability for landlords, checklists for moving) .1 ',\n",
       " 'Erfolg im Beruf(z.B. Bewerbertrainings, podcasts).1': 'Success in the job (eg job application training, podcasts) .1',\n",
       " 'In der Gesellschaft einen Beitrag leisten(z.B. Geld spenden für wohltätige Zwecke).1': 'Contribute to society (for example donating money to charity) .1',\n",
       " 'id': 'User_id',\n",
       " 'first_name': 'first name',\n",
       " 'Start Date (UTC)': 'Start Date (UTC)',\n",
       " 'Submit Date (UTC)': 'Submit Date (UTC)'}"
      ]
     },
     "execution_count": 14,
     "metadata": {},
     "output_type": "execute_result"
    }
   ],
   "source": [
    "# creating a ditionary for the English translations of columns\n",
    "my_dictionary = {}\n",
    "for i in range(len(list(responses))-1):\n",
    "    my_dictionary[list(responses)[i]]= translations[i]\n",
    "my_dictionary"
   ]
  },
  {
   "cell_type": "markdown",
   "metadata": {},
   "source": [
    "## Exploration part"
   ]
  },
  {
   "cell_type": "markdown",
   "metadata": {},
   "source": [
    "## Questions 1 and 2:\n",
    "\n",
    "### Which are the relevant customer clusters? What makes them a good fit for an insurance company?\n",
    "\n",
    "A relevant customer for an insurance company is the one who is in ability of purchasing an insurance product. In general we are talking about different groups of adults (working or not) who are eligible to purchase such a product. Depending on their life situation, financial situation, and risk avoidance level, each group can be targetted by a different product that is suitable to their needs. The more valuable assets the person owns, the more likely he or she is to purchase an insurance product.\n",
    "\n",
    "Customers owning cars, or older customer owning houses will obviously be a target for the car and house insurances. On the other hand, young customers might me more into the travel or tech insurance products (such as the drone insurance, for example).\n",
    "\n",
    "Both, customers having their assets insured and those who are just starting to look around their first insurance contracts might be relevant for an insurance company. These can either attract and provide the first contracts to those who don't have any yet, or offer better and more insurances to those, who already have some (e.x. better coverage for travel insurances, aninsurance for a future car, etc..).\n",
    "\n",
    "Obviously, the younger the customer is (to a certain level), the more likely he or she is going to purchase and get covered by an insurance.\n",
    "\n",
    "### What’s your idea for a “sweet spot” to acquire new customers and how is it characterised (age, customer acquisition channel, certain events in life or lifestyle situations)? In other words, what describes our most valuable customers at time of acquisition?\n",
    "\n",
    "I am going to try to answer this question in the exploration part below.\n"
   ]
  },
  {
   "cell_type": "code",
   "execution_count": 15,
   "metadata": {},
   "outputs": [
    {
     "data": {
      "image/png": "[encoded data removed]",
      "text/plain": [
       "<Figure size 432x288 with 1 Axes>"
      ]
     },
     "metadata": {
      "needs_background": "light"
     },
     "output_type": "display_data"
    }
   ],
   "source": [
    "# chart for age_buckets\n",
    "users.age_bucket.value_counts().plot(kind='bar')\n",
    "plt.ylabel(\"Count\")\n",
    "plt.xlabel(\"\")\n",
    "plt.xticks(rotation=80)\n",
    "plt.title(\"Age Buckets of Customers From the Survey\")\n",
    "plt.show();"
   ]
  },
  {
   "cell_type": "code",
   "execution_count": 16,
   "metadata": {},
   "outputs": [
    {
     "data": {
      "text/plain": [
       "count    48060.000000\n",
       "mean        30.386850\n",
       "std          9.002037\n",
       "min         18.000000\n",
       "25%         25.000000\n",
       "50%         28.000000\n",
       "75%         34.000000\n",
       "max         99.000000\n",
       "Name: age, dtype: float64"
      ]
     },
     "execution_count": 16,
     "metadata": {},
     "output_type": "execute_result"
    }
   ],
   "source": [
    "#looking at the quartiles\n",
    "users.age.describe()"
   ]
  },
  {
   "cell_type": "code",
   "execution_count": 17,
   "metadata": {},
   "outputs": [
    {
     "data": {
      "image/png": "[encoded data removed]",
      "text/plain": [
       "<Figure size 432x288 with 1 Axes>"
      ]
     },
     "metadata": {
      "needs_background": "light"
     },
     "output_type": "display_data"
    }
   ],
   "source": [
    "# plotting genders distribution\n",
    "users.gender.value_counts().plot(kind='bar')\n",
    "plt.ylabel(\"Count\")\n",
    "plt.xlabel(\"\")\n",
    "plt.xticks(rotation=0)\n",
    "plt.title(\"Gender\")\n",
    "plt.show();"
   ]
  },
  {
   "cell_type": "code",
   "execution_count": 18,
   "metadata": {},
   "outputs": [
    {
     "data": {
      "image/png": "[encoded data removed]",
      "text/plain": [
       "<Figure size 432x288 with 1 Axes>"
      ]
     },
     "metadata": {},
     "output_type": "display_data"
    }
   ],
   "source": [
    "df.groupby(['gender'])['Besitzt du ein eigenes Auto?'].count().plot(kind='pie')\n",
    "plt.xlabel(\"\")\n",
    "plt.ylabel(\"\")\n",
    "plt.title(\"Car ownership by genders\")\n",
    "plt.show();"
   ]
  },
  {
   "cell_type": "markdown",
   "metadata": {},
   "source": [
    "Majority of the clients of Getsafe seem to be mostly men in their 20s or early 30s. The generation of Millenials. Furthemore, users between 18-34 years old represent 75% of our dataset. Obviously, we can conclude this product attracts young and tech savvy people who reached the age when they are getting their insurance contracts and who are a perfect target group who doesn't have everything covered yet.\n",
    "\n",
    "\n",
    "The bigger proportion of customers being men could be explained for example by the fact that they seem to be more likely to buy cars and get them insured. Car insurance is one of the top 5 insurance products in this dataset."
   ]
  },
  {
   "cell_type": "code",
   "execution_count": 19,
   "metadata": {},
   "outputs": [
    {
     "data": {
      "text/plain": [
       "Wie bist du auf Getsafe aufmerksam geworden?    How did you find out about Getsafe?\n",
       "dtype: object"
      ]
     },
     "execution_count": 19,
     "metadata": {},
     "output_type": "execute_result"
    }
   ],
   "source": [
    "# accessing the translations\n",
    "lookup_list = pd.Series(my_dictionary)\n",
    "lookup_list[lookup_list.values == 'How did you find out about Getsafe?']"
   ]
  },
  {
   "cell_type": "code",
   "execution_count": 20,
   "metadata": {},
   "outputs": [
    {
     "data": {
      "text/plain": [
       "Vergleichsportale (z.B. Check24, Verivox)     1386\n",
       "Google Suche (z.B. Suche nach Haftpflicht)     361\n",
       "Spezialangebote (z.B. MyDealz, Groupon)        316\n",
       "Empfehlung von Freunden/ Bekannten             261\n",
       "Social Media (z.B. Facebook, Instagram)        161\n",
       "Partner (z.B. e-fellows, Drohnen.de)           102\n",
       "Textbeiträge (z.B. Blog, Tagespresse)           28\n",
       "Veranstaltung (z.B. Karrieremesse, Meetup)      13\n",
       "Name: Wie bist du auf Getsafe aufmerksam geworden?, dtype: int64"
      ]
     },
     "execution_count": 20,
     "metadata": {},
     "output_type": "execute_result"
    }
   ],
   "source": [
    "# looking at the unique values and counts of the aquisition channels\n",
    "df['Wie bist du auf Getsafe aufmerksam geworden?'].value_counts()"
   ]
  },
  {
   "cell_type": "code",
   "execution_count": 21,
   "metadata": {},
   "outputs": [
    {
     "data": {
      "image/png": "[encoded data removed]",
      "text/plain": [
       "<Figure size 432x288 with 1 Axes>"
      ]
     },
     "metadata": {
      "needs_background": "light"
     },
     "output_type": "display_data"
    }
   ],
   "source": [
    "# acquisition channels chart\n",
    "df.groupby(['Wie bist du auf Getsafe aufmerksam geworden?'])['Wie bist du auf Getsafe aufmerksam geworden?'].count().plot(kind='bar')\n",
    "plt.ylabel(\"Count\")\n",
    "plt.xlabel(\"\")\n",
    "plt.xticks(rotation=80)\n",
    "plt.title(\"Channels the Customers Were Acquired Through\")\n",
    "plt.show();"
   ]
  },
  {
   "cell_type": "markdown",
   "metadata": {},
   "source": [
    "As shown above, we can see most customers were acquired through a comparison platform Verivox, which was far more successful than all the other channels and social media efforts.\n",
    "However, supposing the results from Google search were organic, 14% is also a good result."
   ]
  },
  {
   "cell_type": "code",
   "execution_count": 22,
   "metadata": {},
   "outputs": [
    {
     "data": {
      "image/png": "[encoded data removed]",
      "text/plain": [
       "<Figure size 432x288 with 1 Axes>"
      ]
     },
     "metadata": {
      "needs_background": "light"
     },
     "output_type": "display_data"
    }
   ],
   "source": [
    "# employment status chart\n",
    "df.groupby(['In welchem Beschäftigungsverhältnis stehst du?'])[ 'In welchem Beschäftigungsverhältnis stehst du?'].count().plot(kind='bar')\n",
    "plt.ylabel(\"Count\")\n",
    "plt.xlabel(\"\")\n",
    "plt.xticks(rotation = 80)\n",
    "plt.title(\"Employment status of Customers\")\n",
    "plt.show();"
   ]
  },
  {
   "cell_type": "code",
   "execution_count": 23,
   "metadata": {},
   "outputs": [
    {
     "data": {
      "text/plain": [
       "angestellt, Vollzeit        1441\n",
       "im Studium                   594\n",
       "angestellt, Teilzeit         208\n",
       "in Ausbildung                205\n",
       "auf Arbeitssuche             110\n",
       "selbstständige Tätigkeit      83\n",
       "arbeits-/berufsunfähig        20\n",
       "im Ruhestand                   7\n",
       "Name: In welchem Beschäftigungsverhältnis stehst du?, dtype: int64"
      ]
     },
     "execution_count": 23,
     "metadata": {},
     "output_type": "execute_result"
    }
   ],
   "source": [
    "# getting the exact values\n",
    "df['In welchem Beschäftigungsverhältnis stehst du?'].value_counts()"
   ]
  },
  {
   "cell_type": "code",
   "execution_count": 24,
   "metadata": {},
   "outputs": [
    {
     "data": {
      "image/png": "[encoded data removed]",
      "text/plain": [
       "<Figure size 432x288 with 1 Axes>"
      ]
     },
     "metadata": {
      "needs_background": "light"
     },
     "output_type": "display_data"
    }
   ],
   "source": [
    "# geting a chart for \"Is this your first job\" for those who earlier replied they are working\n",
    "df.groupby(['Ist dies dein erster Job?'])['Ist dies dein erster Job?'].count().plot(kind='bar')\n",
    "plt.ylabel(\"Count\")\n",
    "plt.xticks([0, 1], ['No', 'Yes'], rotation = 0)\n",
    "plt.xlabel(\"\")\n",
    "plt.title(\"Is This Your First Job?\")\n",
    "plt.show();"
   ]
  },
  {
   "cell_type": "markdown",
   "metadata": {},
   "source": [
    "The biggest part of the customers are people working full time. More than half of these are having their first jobs, and therefore getting their first non-family insurance ocntracts.\n",
    "\n",
    "However, quite a noticable part of the customers is students. This group might be especially valuable and attarctive for the future purposes when they start acquiring assets and might consider several insurance products."
   ]
  },
  {
   "cell_type": "code",
   "execution_count": 25,
   "metadata": {},
   "outputs": [
    {
     "data": {
      "image/png": "[encoded data removed]",
      "text/plain": [
       "<Figure size 432x288 with 1 Axes>"
      ]
     },
     "metadata": {
      "needs_background": "light"
     },
     "output_type": "display_data"
    }
   ],
   "source": [
    "# Is the apartment or house where you live your property? Yes/No\n",
    "df.groupby(['Ist die Wohnung oder das Haus, wo du wohnst, dein Eigentum?'])['Ist die Wohnung oder das Haus, wo du wohnst, dein Eigentum?'].count().plot(kind='bar')\n",
    "plt.ylabel(\"Count\")\n",
    "plt.xticks([0, 1], ['No', 'Yes'], rotation = 0)\n",
    "plt.xlabel(\"\")\n",
    "plt.title(\"Is the apartment or house where you live your property? Yes/No\")\n",
    "plt.show();"
   ]
  },
  {
   "cell_type": "code",
   "execution_count": 26,
   "metadata": {},
   "outputs": [
    {
     "data": {
      "text/plain": [
       "0.0    1658\n",
       "1.0     149\n",
       "Name: Ist die Wohnung oder das Haus, wo du wohnst, dein Eigentum?, dtype: int64"
      ]
     },
     "execution_count": 26,
     "metadata": {},
     "output_type": "execute_result"
    }
   ],
   "source": [
    "df['Ist die Wohnung oder das Haus, wo du wohnst, dein Eigentum?'].value_counts()"
   ]
  },
  {
   "cell_type": "code",
   "execution_count": 27,
   "metadata": {},
   "outputs": [
    {
     "data": {
      "text/plain": [
       "0.08245711123408965"
      ]
     },
     "execution_count": 27,
     "metadata": {},
     "output_type": "execute_result"
    }
   ],
   "source": [
    "# proportion of customers who own a property they live in\n",
    "no_property = (df['Ist die Wohnung oder das Haus, wo du wohnst, dein Eigentum?'].sum() ) /(df['Ist die Wohnung oder das Haus, wo du wohnst, dein Eigentum?'].count() )\n",
    "no_property"
   ]
  },
  {
   "cell_type": "markdown",
   "metadata": {},
   "source": [
    "Only a very small % of all customers owns a property. Almost 92% claims they don't own the place they live in. Here we see potential for people getting insurances for their houses in the future. Good technical and customer experience and a good offer from Getsafe might be crucial for keeping this group of people and offer them relevant products in the future."
   ]
  },
  {
   "cell_type": "code",
   "execution_count": 28,
   "metadata": {},
   "outputs": [
    {
     "data": {
      "image/png": "[encoded data removed]",
      "text/plain": [
       "<Figure size 432x288 with 1 Axes>"
      ]
     },
     "metadata": {
      "needs_background": "light"
     },
     "output_type": "display_data"
    }
   ],
   "source": [
    "#do you have a car?\n",
    "df.groupby(['Besitzt du ein eigenes Auto?'])['Besitzt du ein eigenes Auto?'].count().plot(kind='bar')\n",
    "plt.ylabel(\"Count\")\n",
    "plt.xticks([0, 1], ['No', 'Yes'], rotation = 0)\n",
    "plt.xlabel(\"\")\n",
    "plt.title(\"Do you have a car? Yes/No\")\n",
    "plt.show();"
   ]
  },
  {
   "cell_type": "code",
   "execution_count": 29,
   "metadata": {},
   "outputs": [
    {
     "data": {
      "text/plain": [
       "Besitzt du ein eigenes Auto?\n",
       "0    1545\n",
       "1    1123\n",
       "Name: Besitzt du ein eigenes Auto?, dtype: int64"
      ]
     },
     "execution_count": 29,
     "metadata": {},
     "output_type": "execute_result"
    }
   ],
   "source": [
    "df.groupby(['Besitzt du ein eigenes Auto?'])['Besitzt du ein eigenes Auto?'].count()"
   ]
  },
  {
   "cell_type": "code",
   "execution_count": 30,
   "metadata": {},
   "outputs": [
    {
     "data": {
      "image/png": "[encoded data removed]",
      "text/plain": [
       "<Figure size 432x288 with 1 Axes>"
      ]
     },
     "metadata": {
      "needs_background": "light"
     },
     "output_type": "display_data"
    }
   ],
   "source": [
    "# has a car and 'Car Insurance'\n",
    "df.groupby([\"Besitzt du ein eigenes Auto?\", \"KFZ Versicherung\"])[\"KFZ Versicherung\"].count().plot(kind='bar')\n",
    "plt.ylabel(\"Count\")\n",
    "plt.xlabel(\"\")\n",
    "plt.xticks([0,1,2,3],['No car nor car insurance', 'No car but a car insurance', 'Car but no car insurance', 'Car and car insurance'])\n",
    "plt.title(\"Proportion of people who have cars and at the same time they do have a car insurances\")\n",
    "plt.show();"
   ]
  },
  {
   "cell_type": "code",
   "execution_count": 31,
   "metadata": {},
   "outputs": [
    {
     "data": {
      "text/html": [
       "<div>\n",
       "<style scoped>\n",
       "    .dataframe tbody tr th:only-of-type {\n",
       "        vertical-align: middle;\n",
       "    }\n",
       "\n",
       "    .dataframe tbody tr th {\n",
       "        vertical-align: top;\n",
       "    }\n",
       "\n",
       "    .dataframe thead th {\n",
       "        text-align: right;\n",
       "    }\n",
       "</style>\n",
       "<table border=\"1\" class=\"dataframe\">\n",
       "  <thead>\n",
       "    <tr style=\"text-align: right;\">\n",
       "      <th></th>\n",
       "      <th></th>\n",
       "      <th>count</th>\n",
       "      <th>unique</th>\n",
       "      <th>top</th>\n",
       "      <th>freq</th>\n",
       "    </tr>\n",
       "    <tr>\n",
       "      <th>Besitzt du ein eigenes Auto?</th>\n",
       "      <th>KFZ Versicherung</th>\n",
       "      <th></th>\n",
       "      <th></th>\n",
       "      <th></th>\n",
       "      <th></th>\n",
       "    </tr>\n",
       "  </thead>\n",
       "  <tbody>\n",
       "    <tr>\n",
       "      <th>0</th>\n",
       "      <th>KFZ Versicherung</th>\n",
       "      <td>39</td>\n",
       "      <td>1</td>\n",
       "      <td>KFZ Versicherung</td>\n",
       "      <td>39</td>\n",
       "    </tr>\n",
       "    <tr>\n",
       "      <th>1</th>\n",
       "      <th>KFZ Versicherung</th>\n",
       "      <td>770</td>\n",
       "      <td>1</td>\n",
       "      <td>KFZ Versicherung</td>\n",
       "      <td>770</td>\n",
       "    </tr>\n",
       "  </tbody>\n",
       "</table>\n",
       "</div>"
      ],
      "text/plain": [
       "                                              count unique               top  \\\n",
       "Besitzt du ein eigenes Auto? KFZ Versicherung                                  \n",
       "0                            KFZ Versicherung    39      1  KFZ Versicherung   \n",
       "1                            KFZ Versicherung   770      1  KFZ Versicherung   \n",
       "\n",
       "                                              freq  \n",
       "Besitzt du ein eigenes Auto? KFZ Versicherung       \n",
       "0                            KFZ Versicherung   39  \n",
       "1                            KFZ Versicherung  770  "
      ]
     },
     "execution_count": 31,
     "metadata": {},
     "output_type": "execute_result"
    }
   ],
   "source": [
    "df.groupby([\"Besitzt du ein eigenes Auto?\", \"KFZ Versicherung\"])[\"KFZ Versicherung\"].describe()"
   ]
  },
  {
   "cell_type": "markdown",
   "metadata": {},
   "source": [
    "Around 40% of the customers owns a car. Not surprisingly, majority of them also have a car insurance. However, there is still space to acquire the rest who either don't own a car yet (60% of customers) or do own a car but don't have a car insurance (+ another 13% of all customers).\n",
    "\n",
    "I suppose people who have car insurances but no cars might have the car insurance as a benefit included in an other product and people who have cars but no car insurances might share the cars but not pay the insurance by themselves.\n",
    "\n",
    "Having a little bit more time for the analysis, I would have a look at the age categories of people do and who don't own cars. If there was a trend of people acquiring cars in later age, we might expect the younger customers purchasing car insurances in the future."
   ]
  },
  {
   "cell_type": "code",
   "execution_count": 32,
   "metadata": {},
   "outputs": [
    {
     "data": {
      "image/png": "[encoded data removed]",
      "text/plain": [
       "<Figure size 432x288 with 1 Axes>"
      ]
     },
     "metadata": {
      "needs_background": "light"
     },
     "output_type": "display_data"
    }
   ],
   "source": [
    "# Civil status\n",
    "df.groupby(['Wie ist dein aktueller Familienstand?'])['Wie ist dein aktueller Familienstand?'].count().plot(kind='bar')\n",
    "plt.ylabel(\"Count\")\n",
    "plt.xticks(rotation = 80)\n",
    "plt.xlabel(\"\")\n",
    "plt.title(\"Civil status\")\n",
    "plt.show();"
   ]
  },
  {
   "cell_type": "code",
   "execution_count": 33,
   "metadata": {},
   "outputs": [
    {
     "data": {
      "image/png": "[encoded data removed]",
      "text/plain": [
       "<Figure size 432x288 with 1 Axes>"
      ]
     },
     "metadata": {
      "needs_background": "light"
     },
     "output_type": "display_data"
    }
   ],
   "source": [
    "# do you have kids? Yes/No\n",
    "df.groupby(['Hast du Kinder?'])['Hast du Kinder?'].count().plot(kind='bar')\n",
    "plt.xticks([0, 1], ['No', 'Yes'], rotation = 0)\n",
    "plt.xlabel(\"\")\n",
    "plt.ylabel(\"Count\")\n",
    "plt.title(\"Do you have kids?\")\n",
    "plt.show();"
   ]
  },
  {
   "cell_type": "markdown",
   "metadata": {},
   "source": [
    "Obviously, as we observe that we are mostly targetting young people, it is no surprise that the vast majority is either single or in relationship at most, bus mostly with no children. Married and divorced people are present, but they don't seem to be the most interested ones. \n",
    "\n",
    "The younger and more free the customers are, the lower is the probability they would have existing contarcts for insurance products, and therefore the bigger space there is to offer them a product that fits their needs.\n",
    "\n",
    "We could also have a look at the trends of products purchased by single people versus products purchased by married people starting their families."
   ]
  },
  {
   "cell_type": "code",
   "execution_count": 34,
   "metadata": {},
   "outputs": [
    {
     "data": {
      "text/plain": [
       "0    1.0\n",
       "1    1.0\n",
       "2    0.0\n",
       "3    0.0\n",
       "4    0.0\n",
       "Name: Auslandskrankenversicherung, dtype: float64"
      ]
     },
     "execution_count": 34,
     "metadata": {},
     "output_type": "execute_result"
    }
   ],
   "source": [
    "# converting the string values representing the purchase of a specific insurance product to binary value 1\n",
    "# so that it is easier to sum up the nuber products purchased\n",
    "df.replace(['Auslandskrankenversicherung', 'gesetzliche Krankenversicherung', 'private Krankenversicherung', 'Hausrat','Privathaftpflicht', 'Rechtsschutz', 'Berufsunfähigkeitsversicherung', 'KFZ Versicherung', 'Tierhaftpflicht', 'Drohnenversicherung', 'Unfallversicherung', 'Gebäudeschutzversicherung' , 'Risikolebensversicherung', 'Other.1'], \n",
    "                     [1, 1, 1, 1, 1, 1, 1,1, 1, 1, 1, 1, 1, 1], inplace = True)\n",
    "df[['Auslandskrankenversicherung', 'gesetzliche Krankenversicherung', 'private Krankenversicherung', 'Hausrat','Privathaftpflicht', 'Rechtsschutz', 'Berufsunfähigkeitsversicherung', 'KFZ Versicherung', 'Tierhaftpflicht', 'Drohnenversicherung', 'Unfallversicherung', 'Gebäudeschutzversicherung' , 'Risikolebensversicherung', 'Other.1']]= df[['Auslandskrankenversicherung', 'gesetzliche Krankenversicherung', 'private Krankenversicherung', 'Hausrat','Privathaftpflicht', 'Rechtsschutz', 'Berufsunfähigkeitsversicherung', 'KFZ Versicherung', 'Tierhaftpflicht', 'Drohnenversicherung', 'Unfallversicherung', 'Gebäudeschutzversicherung' , 'Risikolebensversicherung', 'Other.1']].fillna(0)\n",
    "\n",
    "df['Auslandskrankenversicherung'].head()"
   ]
  },
  {
   "cell_type": "code",
   "execution_count": 35,
   "metadata": {},
   "outputs": [],
   "source": [
    "# adding a new column summing the umber of products purchased\n",
    "for i in df:\n",
    "    df['products'] = df[['Auslandskrankenversicherung', 'gesetzliche Krankenversicherung', 'private Krankenversicherung', 'Hausrat','Privathaftpflicht', 'Rechtsschutz', 'Berufsunfähigkeitsversicherung', 'KFZ Versicherung', 'Tierhaftpflicht', 'Drohnenversicherung', 'Unfallversicherung', 'Gebäudeschutzversicherung' , 'Risikolebensversicherung', 'Other.1']].sum(axis = 1)"
   ]
  },
  {
   "cell_type": "code",
   "execution_count": 36,
   "metadata": {},
   "outputs": [
    {
     "data": {
      "text/plain": [
       "count    2668.000000\n",
       "mean        2.758621\n",
       "std         1.730920\n",
       "min         0.000000\n",
       "25%         1.000000\n",
       "50%         2.000000\n",
       "75%         4.000000\n",
       "max        13.000000\n",
       "Name: products, dtype: float64"
      ]
     },
     "execution_count": 36,
     "metadata": {},
     "output_type": "execute_result"
    }
   ],
   "source": [
    "# statistics of df.products\n",
    "df.products.describe()"
   ]
  },
  {
   "cell_type": "code",
   "execution_count": 37,
   "metadata": {},
   "outputs": [
    {
     "data": {
      "image/png": "[encoded data removed]",
      "text/plain": [
       "<Figure size 432x288 with 1 Axes>"
      ]
     },
     "metadata": {
      "needs_background": "light"
     },
     "output_type": "display_data"
    }
   ],
   "source": [
    "# average number of products purchased by men and women\n",
    "df.groupby(['gender'])['products'].mean().plot(kind='bar')\n",
    "plt.xticks(rotation = 0)\n",
    "plt.xlabel(\"\")\n",
    "plt.ylabel(\"Count\")\n",
    "plt.title(\"Average number of products purchased by men and women\")\n",
    "plt.show();"
   ]
  },
  {
   "cell_type": "code",
   "execution_count": 38,
   "metadata": {},
   "outputs": [
    {
     "data": {
      "image/png": "[encoded data removed]",
      "text/plain": [
       "<Figure size 432x288 with 1 Axes>"
      ]
     },
     "metadata": {
      "needs_background": "light"
     },
     "output_type": "display_data"
    }
   ],
   "source": [
    "#how frequent is it to have 1, 2, 3,...or 13 products? \n",
    "df.groupby(['products'])['products'].sum().plot(kind='bar')\n",
    "plt.xticks(rotation = 0)\n",
    "plt.xlabel(\"\")\n",
    "plt.ylabel(\"Customers count\")\n",
    "plt.title(\"How frequent is it to have 1, 2, 3,...or 13 products?\")\n",
    "plt.show();"
   ]
  },
  {
   "cell_type": "code",
   "execution_count": 39,
   "metadata": {},
   "outputs": [
    {
     "data": {
      "image/png": "[encoded data removed]",
      "text/plain": [
       "<Figure size 432x288 with 1 Axes>"
      ]
     },
     "metadata": {
      "needs_background": "light"
     },
     "output_type": "display_data"
    }
   ],
   "source": [
    "# average number of products purchased by age categories\n",
    "df.groupby(['age_bucket'])['products'].mean().plot(kind='bar')\n",
    "plt.xticks(rotation = 0)\n",
    "plt.xlabel(\"\")\n",
    "plt.ylabel(\"Count\")\n",
    "plt.title(\"Average number of products purchased by the age categories\")\n",
    "plt.show();"
   ]
  },
  {
   "cell_type": "code",
   "execution_count": 40,
   "metadata": {},
   "outputs": [
    {
     "data": {
      "text/plain": [
       "Auslandskrankenversicherung          9.0\n",
       "gesetzliche Krankenversicherung    118.0\n",
       "private Krankenversicherung         17.0\n",
       "Hausrat                             26.0\n",
       "Privathaftpflicht                  592.0\n",
       "Rechtsschutz                         3.0\n",
       "Berufsunfähigkeitsversicherung       3.0\n",
       "KFZ Versicherung                    14.0\n",
       "Tierhaftpflicht                      2.0\n",
       "Drohnenversicherung                 14.0\n",
       "Unfallversicherung                   5.0\n",
       "Gebäudeschutzversicherung            5.0\n",
       "Risikolebensversicherung             0.0\n",
       "products                           808.0\n",
       "dtype: float64"
      ]
     },
     "execution_count": 40,
     "metadata": {},
     "output_type": "execute_result"
    }
   ],
   "source": [
    "# products == 1 to get the most valuable insurance\n",
    "dataset = df[['Auslandskrankenversicherung', 'gesetzliche Krankenversicherung', 'private Krankenversicherung', 'Hausrat','Privathaftpflicht', 'Rechtsschutz', 'Berufsunfähigkeitsversicherung', 'KFZ Versicherung', 'Tierhaftpflicht', 'Drohnenversicherung', 'Unfallversicherung', 'Gebäudeschutzversicherung' , 'Risikolebensversicherung', 'products']]\n",
    "dataset = df.query('products == \"1\"')\n",
    "dataset[['Auslandskrankenversicherung', 'gesetzliche Krankenversicherung', 'private Krankenversicherung', 'Hausrat','Privathaftpflicht', 'Rechtsschutz', 'Berufsunfähigkeitsversicherung', 'KFZ Versicherung', 'Tierhaftpflicht', 'Drohnenversicherung', 'Unfallversicherung', 'Gebäudeschutzversicherung' , 'Risikolebensversicherung', 'products']].sum()"
   ]
  },
  {
   "cell_type": "code",
   "execution_count": null,
   "metadata": {},
   "outputs": [],
   "source": []
  },
  {
   "cell_type": "markdown",
   "metadata": {},
   "source": [
    "When talking about the most valueble customers, I had a look at the customers who have only purchased 1 insurance product so far. By looking at my results, I would say these usually have the personal liability insurance (Privathaftpflicht - 592 customers) or basic insurance (gesetzliche Krankenversicherung - 118 customers). These might be the most valuable customers to acquire considering they will purchase more. \n",
    "From this perspective, the travel insurance that I would like to have a further look at a little later doesn't seem to be the number 1 product that would attract customers who will buy a lot."
   ]
  },
  {
   "cell_type": "code",
   "execution_count": 41,
   "metadata": {},
   "outputs": [
    {
     "data": {
      "image/png": "[encoded data removed]",
      "text/plain": [
       "<Figure size 432x288 with 1 Axes>"
      ]
     },
     "metadata": {
      "needs_background": "light"
     },
     "output_type": "display_data"
    }
   ],
   "source": [
    "# average number of products by employment status\n",
    "df.groupby(['In welchem Beschäftigungsverhältnis stehst du?'])['products'].mean().plot(kind='bar')\n",
    "plt.xticks(rotation = 80)\n",
    "plt.xlabel(\"\")\n",
    "plt.ylabel(\"Count\")\n",
    "plt.title(\"Average number of products purchased by the employment status\")\n",
    "plt.show();"
   ]
  },
  {
   "cell_type": "code",
   "execution_count": 42,
   "metadata": {},
   "outputs": [
    {
     "data": {
      "image/png": "[encoded data removed]",
      "text/plain": [
       "<Figure size 432x288 with 1 Axes>"
      ]
     },
     "metadata": {
      "needs_background": "light"
     },
     "output_type": "display_data"
    }
   ],
   "source": [
    "# average number of products by civil status\n",
    "df.groupby(['Wie ist dein aktueller Familienstand?'])['products'].mean().plot(kind='bar')\n",
    "plt.xticks(rotation = 80)\n",
    "plt.xlabel(\"\")\n",
    "plt.ylabel(\"Count\")\n",
    "plt.title(\"Average number of products purchased by the civil status\")\n",
    "plt.show();"
   ]
  },
  {
   "cell_type": "markdown",
   "metadata": {},
   "source": [
    "On average, customers in our dataset have purchased from 2-3 insurance products, men and women statistics being very similar.\n",
    "\n",
    "Customers in the bucket of higher age tend to have more insurance products already. Comparing a person in his/her late 30s, this customer usually owns 1 product more than a customer in his/ her early 20s. This not only gives us an opportunity to sell more to the younger customers, but it also confirms a trend of younger people purchasing more by time. Widowed customers have on average  insurance products, which is more than a double of the products of young and single customers."
   ]
  },
  {
   "cell_type": "markdown",
   "metadata": {},
   "source": [
    "## Question 3:\n",
    "\n",
    "### Is “travel health insurance” a good product to acquire especially valuable customers?"
   ]
  },
  {
   "cell_type": "code",
   "execution_count": 43,
   "metadata": {},
   "outputs": [],
   "source": [
    "# creating a helping variable var and storing all the columns of the df that represent insurance products\n",
    "var = df[['Auslandskrankenversicherung', 'gesetzliche Krankenversicherung', 'private Krankenversicherung', 'Hausrat','Privathaftpflicht', 'Rechtsschutz', 'Berufsunfähigkeitsversicherung', 'KFZ Versicherung', 'Tierhaftpflicht', 'Drohnenversicherung', 'Unfallversicherung', 'Gebäudeschutzversicherung' , 'Risikolebensversicherung', 'Other.1']].sum()"
   ]
  },
  {
   "cell_type": "code",
   "execution_count": 44,
   "metadata": {
    "scrolled": true
   },
   "outputs": [
    {
     "data": {
      "image/png": "[encoded data removed]",
      "text/plain": [
       "<Figure size 432x288 with 1 Axes>"
      ]
     },
     "metadata": {
      "needs_background": "light"
     },
     "output_type": "display_data"
    }
   ],
   "source": [
    "# plotting chart for the insurance products metnioned in the survey\n",
    "var.plot(kind='bar')\n",
    "plt.ylabel(\"Customers count\")\n",
    "plt.xlabel(\"\")\n",
    "plt.xticks(rotation = 80)\n",
    "plt.title(\"Insurance products purchased by customers\")\n",
    "plt.show();"
   ]
  },
  {
   "cell_type": "code",
   "execution_count": 45,
   "metadata": {},
   "outputs": [
    {
     "data": {
      "image/png": "[encoded data removed]",
      "text/plain": [
       "<Figure size 432x288 with 1 Axes>"
      ]
     },
     "metadata": {
      "needs_background": "light"
     },
     "output_type": "display_data"
    }
   ],
   "source": [
    "# employment status vs bought travel insurance\n",
    "df.groupby(['In welchem Beschäftigungsverhältnis stehst du?'])['Auslandskrankenversicherung'].count().plot(kind='bar')\n",
    "plt.ylabel(\"Customers count\")\n",
    "plt.xlabel(\"\")\n",
    "plt.title(\"Employment status of people who purchased the travel insurance\")\n",
    "plt.show();"
   ]
  },
  {
   "cell_type": "code",
   "execution_count": 46,
   "metadata": {},
   "outputs": [
    {
     "data": {
      "image/png": "[encoded data removed]",
      "text/plain": [
       "<Figure size 432x288 with 1 Axes>"
      ]
     },
     "metadata": {
      "needs_background": "light"
     },
     "output_type": "display_data"
    }
   ],
   "source": [
    "# employment status vs bought travel insurance\n",
    "df.groupby(['In welchem Beschäftigungsverhältnis stehst du?'])['Auslandskrankenversicherung'].mean().plot(kind='bar')\n",
    "plt.ylabel(\"Customers count\")\n",
    "plt.xlabel(\"\")\n",
    "plt.title(\"Employment status of people who purchased the travel insurance\")\n",
    "plt.show();"
   ]
  },
  {
   "cell_type": "markdown",
   "metadata": {},
   "source": [
    "As seen above, travel insurance doesn't seem to be the most frequent one. Only around 23% of the customers claimed they have existing travel insurance. It's quite a low number, considering how popular is the trend of travelling these days, which opens doors for selling this product to a big number of people.\n",
    "\n",
    "Again, those are mostly people that are working full time as this group represents majority of our dataset, but also includes many students. However, what surprised me was the proportional chart that showed the most likely to buy travel insurance are people in retirement. On the other hand, people who are looking for jobs or are doing other kinds of education preparations than regular studies, are the ones who don't necessarily have this insurance (yet)."
   ]
  },
  {
   "cell_type": "code",
   "execution_count": 47,
   "metadata": {},
   "outputs": [
    {
     "data": {
      "text/plain": [
       "count    2668.000000\n",
       "mean        3.258996\n",
       "std         1.223142\n",
       "min         1.000000\n",
       "25%         2.000000\n",
       "50%         3.000000\n",
       "75%         4.000000\n",
       "max         5.000000\n",
       "Name: Leben und reisen im Ausland(z.B. Auslandskrankenversicherung, Impfempfehlungen), dtype: float64"
      ]
     },
     "execution_count": 47,
     "metadata": {},
     "output_type": "execute_result"
    }
   ],
   "source": [
    "# importancet of the travel insurance for people who were filling out the surveu\n",
    "df['Leben und reisen im Ausland(z.B. Auslandskrankenversicherung, Impfempfehlungen)'].describe()"
   ]
  },
  {
   "cell_type": "code",
   "execution_count": 48,
   "metadata": {},
   "outputs": [
    {
     "data": {
      "text/plain": [
       "count    2668.000000\n",
       "mean        3.281484\n",
       "std         1.274715\n",
       "min         1.000000\n",
       "25%         2.000000\n",
       "50%         3.000000\n",
       "75%         4.000000\n",
       "max         5.000000\n",
       "Name: Leben und reisen im Ausland(z.B. Auslandskrankenversicherung, Impfempfehlungen).1, dtype: float64"
      ]
     },
     "execution_count": 48,
     "metadata": {},
     "output_type": "execute_result"
    }
   ],
   "source": [
    "# prefered future features of 'Leben und reisen im Ausland(z.B. Auslandskrankenversicherung, Impfempfehlungen).1'\n",
    "df['Leben und reisen im Ausland(z.B. Auslandskrankenversicherung, Impfempfehlungen).1'].describe()"
   ]
  },
  {
   "cell_type": "code",
   "execution_count": 49,
   "metadata": {},
   "outputs": [
    {
     "data": {
      "image/png": "[encoded data removed]",
      "text/plain": [
       "<Figure size 432x288 with 1 Axes>"
      ]
     },
     "metadata": {
      "needs_background": "light"
     },
     "output_type": "display_data"
    }
   ],
   "source": [
    "# chart for the travel insurance importance to customers\n",
    "df.groupby(['Leben und reisen im Ausland(z.B. Auslandskrankenversicherung, Impfempfehlungen)'])['Leben und reisen im Ausland(z.B. Auslandskrankenversicherung, Impfempfehlungen)'].count().plot(kind='bar')\n",
    "plt.ylabel(\"Customers count\")\n",
    "plt.xlabel(\"\")\n",
    "plt.xticks(rotation = 0)\n",
    "plt.title(\"Importance of the Travel Insurance\")\n",
    "plt.show();"
   ]
  },
  {
   "cell_type": "markdown",
   "metadata": {},
   "source": [
    "In average, we observe a medium importance and future preference of this insurance to people. Data is normally distributed, having the value 3.3 as the average level of importance assigned. From this basic visualisation we don't observe any special importance of the travel insurance, but we could compare it further to the ditributions of other products.\n",
    "\n",
    "However, we could get a better understanding of how important this insurance in particular is for the customers who were filling out the survey by looking at the other reponses and assess whether there is potential for them to buy it. "
   ]
  },
  {
   "cell_type": "code",
   "execution_count": 50,
   "metadata": {},
   "outputs": [
    {
     "data": {
      "text/plain": [
       "(9, 39, 148, 160, 128, 68, 36, 25, 4, 1, 0)"
      ]
     },
     "execution_count": 50,
     "metadata": {},
     "output_type": "execute_result"
    }
   ],
   "source": [
    "# just drafting a very basic representation of the number of customers who purchased the travel \n",
    "# insurance and 1,2,3,4,5,67,8,9 or 10 other insurance products\n",
    "travel_1 = df.query('Auslandskrankenversicherung == \"1\" & products == \"1\"').id.count()\n",
    "travel_2 = df.query('Auslandskrankenversicherung == \"1\" & products == \"2\"').id.count()\n",
    "travel_3 = df.query('Auslandskrankenversicherung == \"1\" & products == \"3\"').id.count()\n",
    "travel_4 = df.query('Auslandskrankenversicherung == \"1\" & products == \"4\"').id.count()\n",
    "travel_5 = df.query('Auslandskrankenversicherung == \"1\" & products == \"5\"').id.count()\n",
    "travel_6 = df.query('Auslandskrankenversicherung == \"1\" & products == \"6\"').id.count()\n",
    "travel_7 = df.query('Auslandskrankenversicherung == \"1\" & products == \"7\"').id.count()\n",
    "travel_8 = df.query('Auslandskrankenversicherung == \"1\" & products == \"8\"').id.count()\n",
    "travel_9 = df.query('Auslandskrankenversicherung == \"1\" & products == \"9\"').id.count()\n",
    "travel_10 = df.query('Auslandskrankenversicherung == \"1\" & products == \"10\"').id.count()\n",
    "travel_11 = df.query('Auslandskrankenversicherung == \"1\" & products == \"11\"').id.count()\n",
    "travel_1, travel_2, travel_3,travel_4,travel_5,travel_6,travel_7,travel_8,travel_9,travel_10,travel_11"
   ]
  },
  {
   "cell_type": "code",
   "execution_count": null,
   "metadata": {},
   "outputs": [],
   "source": [
    "df.to_csv('full_df_for_tableau.csv', index=False)"
   ]
  },
  {
   "cell_type": "markdown",
   "metadata": {},
   "source": [
    "Almost all of the customers purchasing the travel insurance also purchased other products (usually 2-4 other products), which is usually what an average customer (in our dataset) purchases. Based on this statistics we could conclude that people with the travel insurance already have other insurance that we cant really sell them again, but it might also mean that these customers tend to buy more insurance products, and therefore still have some potential. To be sure about this finding, I would look at the other products from this angle and compare the results further."
   ]
  },
  {
   "cell_type": "markdown",
   "metadata": {},
   "source": [
    "# Conclusion and Final Findings\n",
    "\n",
    "To conclude this analysis, I would just sum up all my findins that I obtained in the exploratory part here below, in a short summary:\n",
    "\n",
    "We could see the customers acquired are the so-called Milenials, young adults, around 20-35 years old. 40% of these are people who just started heir first jobs. We are msotly dealing with people who live either single or in relationships, however they are mostly not married and have no kids. Majority owns cars but doesn't own properties they live in.\n",
    "\n",
    "Most customers were acquired through comparison websites, such as Verivox, while the least successfull seem to be events such as meetups and career fairs.\n",
    "\n",
    "In average, these customers buy 2-3 insurance products. Young customers in their early 20s purchase 1.5 products in average while those in their late 30s own 2.5. Here we observe a natural trend of customers purchasing more products while acquiring assets in their lives, indicating the potential buying force of the young customers in the future.\n",
    "\n",
    "Having a look at the travel insurance in particular, we can conclude that although only around 23% of customers claim they have purchased the travel insurance, most of them have also purchased 2-4 other products too. This indicates a decent interest of this group, and a potential to sell this insurance to the rest 75% of customers who don't have it yet, however it doesn't necessarily mean a strong interest in purchasing more than that.\n",
    "Very interestingly, retired people seemed to be the ones who do have travel insurances, based on which we could fortify the assumed, yet not tested predictions for younger customers getting travel insurances as well.\n",
    "\n",
    "What I found out while looking at the travel insurances is that the basic health insurances seem to be attarcting customers from the very beginning of their life jurneys, exactly at the point when they are eligible and naturally motivated to close their first insurance contracts. This makes sense as after finishing studies people tend to switch from their family insurances to their private ones, which is the \"must have\" when entering the adulthood for the majority. These customers are very important as if treated well, they migh generate high value over their life cycle.\n",
    "\n",
    "I also noticed a great potential in the car insurance (more than 70% of the customers could still be possibly sold this product one day).\n",
    "\n",
    "\n",
    "## Recommendations and Suggestions\n",
    "\n",
    "Even though the data represented in this case study could be considered as clean, I have to admit I was struggling a little with not that intuitive questions. Based on the lacking information about the meaning of the scale from 0 to 5 for some questions, I was working with an assumption that this scale represents the importance or preference of the products in the eyes of customers (5 being of the highest importance). However, these columns were duplicated (financial or travel insurances) and had different values in the duplicated columns.\n",
    "\n",
    "I also didn't find anything that would say whether the products purchased are products purchased through Getsafe or whether they are provided by other insurance companies, and therefore I was more careful with any strong assumptions or conclusions.\n",
    "\n",
    "Even though not being able to reveal ground breaking data in such a short period of time, I still enjoyed working on the case study. No doubts, there is a lot of work that requires more time, but this could be done in the next steps - from comparison of all conditions and groups of ages, employment statuses, number of products purchased, importance of products versus their actual purchase, to a simple k-means clustering to get the perfect customer, or maybe to a further logistic regression. \n",
    "\n",
    "The dataset has a lot to offer and represents a great project for continuous data analysis. Especialy interesting might be to watch the life time value of these customers."
   ]
  }
 ],
 "metadata": {
  "kernelspec": {
   "display_name": "Python 3",
   "language": "python",
   "name": "python3"
  },
  "language_info": {
   "codemirror_mode": {
    "name": "ipython",
    "version": 3
   },
   "file_extension": ".py",
   "mimetype": "text/x-python",
   "name": "python",
   "nbconvert_exporter": "python",
   "pygments_lexer": "ipython3",
   "version": "3.6.6"
  }
 },
 "nbformat": 4,
 "nbformat_minor": 2
}
