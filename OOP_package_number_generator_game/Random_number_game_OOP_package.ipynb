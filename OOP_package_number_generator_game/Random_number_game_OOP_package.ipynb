{
 "cells": [
  {
   "cell_type": "code",
   "execution_count": null,
   "metadata": {},
   "outputs": [],
   "source": [
    "from random import randint\n"
   ]
  },
  {
   "cell_type": "code",
   "execution_count": 5,
   "metadata": {},
   "outputs": [],
   "source": [
    "class Game:\n",
    "    \n",
    "    def __init__(self, players, number_range=20):\n",
    "        self.number_range = number_range\n",
    "        self.players = []\n",
    "        \n",
    "                  \n",
    "    def play_game(self):\n",
    "        attempts = 1\n",
    "        generated_number = self.players[0].generate_number()   \n",
    "        output = int(players_guess)\n",
    "        \n",
    "        while output != generated_number:\n",
    "\n",
    "            if output > generated_number:\n",
    "                attempts += 1\n",
    "                print(\"Too high. The generated number is lower.\")\n",
    "                output = int(input(\"Computer chose a random integer between 0 and {}. Can you guess the number?\".format(number_range)))\n",
    "\n",
    "            if output < generated_number:\n",
    "                attempts += 1\n",
    "                print(\"Too low. The number is greater than {}.\".format(players_guess))\n",
    "                output = int(input(\"Computer chose a random integer between 0 and {}. Can you guess the number?\".format(number_range)))    \n",
    "\n",
    "        print(\"Dobre! You made it on {} attempt(s).\".format(attempts))\n",
    "\n",
    "\n"
   ]
  },
  {
   "cell_type": "code",
   "execution_count": null,
   "metadata": {},
   "outputs": [],
   "source": []
  },
  {
   "cell_type": "code",
   "execution_count": null,
   "metadata": {},
   "outputs": [],
   "source": [
    "class Player:\n",
    "    \n",
    "    def __init__(self):\n",
    "        \n",
    "#         return players.append('Player')\n",
    "\n",
    "        pass"
   ]
  },
  {
   "cell_type": "code",
   "execution_count": null,
   "metadata": {},
   "outputs": [],
   "source": [
    "class ComputerPlayer(Player):\n",
    "\n",
    "    def __init__(self):\n",
    "        \n",
    "        pass\n",
    "        \n",
    "    def generate_number(self, number_range):\n",
    "        self.number_range = number_range\n",
    "        self.generated_number = randint(0, number_range)\n",
    "        return self.generated_number"
   ]
  },
  {
   "cell_type": "code",
   "execution_count": null,
   "metadata": {},
   "outputs": [],
   "source": [
    "class PersonPlayer(Player):\n",
    "    \n",
    "    def __init__(self, )\n",
    "    "
   ]
  },
  {
   "cell_type": "code",
   "execution_count": 3,
   "metadata": {},
   "outputs": [
    {
     "name": "stdin",
     "output_type": "stream",
     "text": [
      "Computer chose a random integer between 0 and 20. Can you guess the number? 66\n"
     ]
    },
    {
     "name": "stdout",
     "output_type": "stream",
     "text": [
      "Too high. The generated number is lower.\n"
     ]
    },
    {
     "name": "stdin",
     "output_type": "stream",
     "text": [
      "Computer chose a random integer between 0 and 20. Can you guess the number? -11\n"
     ]
    },
    {
     "name": "stdout",
     "output_type": "stream",
     "text": [
      "Too low. The number is greater than 66.\n"
     ]
    },
    {
     "name": "stdin",
     "output_type": "stream",
     "text": [
      "Computer chose a random integer between 0 and 20. Can you guess the number? 12\n"
     ]
    },
    {
     "name": "stdout",
     "output_type": "stream",
     "text": [
      "Too low. The number is greater than 66.\n"
     ]
    },
    {
     "name": "stdin",
     "output_type": "stream",
     "text": [
      "Computer chose a random integer between 0 and 20. Can you guess the number? 15\n"
     ]
    },
    {
     "name": "stdout",
     "output_type": "stream",
     "text": [
      "Too low. The number is greater than 66.\n"
     ]
    },
    {
     "name": "stdin",
     "output_type": "stream",
     "text": [
      "Computer chose a random integer between 0 and 20. Can you guess the number? 17\n"
     ]
    },
    {
     "name": "stdout",
     "output_type": "stream",
     "text": [
      "Dobre! You made it on 5 attempt(s).\n"
     ]
    }
   ],
   "source": [
    "# testing\n",
    "\n",
    "def play_game(number_range, generated_number):\n",
    "    attempts = 1\n",
    "\n",
    "    players_guess = input(\"Computer chose a random integer between 0 and {}. Can you guess the number?\".format(number_range))\n",
    "    output = int(players_guess)\n",
    "    while output != generated_number:\n",
    "\n",
    "        if output > generated_number:\n",
    "            attempts += 1\n",
    "            print(\"Too high. The generated number is lower.\")\n",
    "            output = int(input(\"Computer chose a random integer between 0 and {}. Can you guess the number?\".format(number_range)))\n",
    "\n",
    "        if output < generated_number:\n",
    "            attempts += 1\n",
    "            print(\"Too low. The number is greater than {}.\".format(players_guess))\n",
    "            output = int(input(\"Computer chose a random integer between 0 and {}. Can you guess the number?\".format(number_range)))    \n",
    "                \n",
    "    print(\"Dobre! You made it on {} attempt(s).\".format(attempts))\n",
    "\n",
    "        \n",
    "play_game(20,17)\n",
    "        "
   ]
  },
  {
   "cell_type": "code",
   "execution_count": null,
   "metadata": {},
   "outputs": [],
   "source": []
  },
  {
   "cell_type": "code",
   "execution_count": null,
   "metadata": {},
   "outputs": [],
   "source": [
    "# testing\n",
    "\n",
    "def random_number(number_range):\n",
    "    print(randint(0, number_range))\n",
    "        \n",
    "random_number(20)"
   ]
  },
  {
   "cell_type": "code",
   "execution_count": null,
   "metadata": {},
   "outputs": [],
   "source": [
    "# testing\n",
    "\n",
    "def random_number(number_range):\n",
    "    return input(\"Computer chose a random integer between 0 and {}. Can you guess the number?\".format(number_range))\n",
    "    \n",
    "#     print(randint(0, number_range))\n",
    "\n",
    "random_number(20)"
   ]
  },
  {
   "cell_type": "code",
   "execution_count": null,
   "metadata": {},
   "outputs": [],
   "source": [
    "#testing data types\n",
    "\n",
    "players_guess = input(\"Computer chose a random integer between 0 and {}. Can you guess the number?\".format(17))\n",
    "players_guess\n",
    "type(players_guess)"
   ]
  },
  {
   "cell_type": "code",
   "execution_count": null,
   "metadata": {},
   "outputs": [],
   "source": [
    "players_guess = int(players_guess)\n",
    "type(players_guess)"
   ]
  }
 ],
 "metadata": {
  "kernelspec": {
   "display_name": "Python 3",
   "language": "python",
   "name": "python3"
  },
  "language_info": {
   "codemirror_mode": {
    "name": "ipython",
    "version": 3
   },
   "file_extension": ".py",
   "mimetype": "text/x-python",
   "name": "python",
   "nbconvert_exporter": "python",
   "pygments_lexer": "ipython3",
   "version": "3.6.8"
  }
 },
 "nbformat": 4,
 "nbformat_minor": 4
}
