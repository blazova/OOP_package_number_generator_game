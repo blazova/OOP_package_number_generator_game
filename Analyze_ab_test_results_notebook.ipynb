{
 "cells": [
  {
   "cell_type": "markdown",
   "metadata": {},
   "source": [
    "## Analyze A/B Test Results\n",
    "\n",
    "You may either submit your notebook through the workspace here, or you may work from your local machine and submit through the next page.  Either way assure that your code passes the project [RUBRIC](https://review.udacity.com/#!/projects/37e27304-ad47-4eb0-a1ab-8c12f60e43d0/rubric).  **Please save regularly\n",
    "\n",
    "This project will assure you have mastered the subjects covered in the statistics lessons.  The hope is to have this project be as comprehensive of these topics as possible.  Good luck!\n",
    "\n",
    "## Table of Contents\n",
    "- [Introduction](#intro)\n",
    "- [Part I - Probability](#probability)\n",
    "- [Part II - A/B Test](#ab_test)\n",
    "- [Part III - Regression](#regression)\n",
    "\n",
    "\n",
    "<a id='intro'></a>\n",
    "### Introduction\n",
    "\n",
    "A/B tests are very commonly performed by data analysts and data scientists.  It is important that you get some practice working with the difficulties of these \n",
    "\n",
    "For this project, you will be working to understand the results of an A/B test run by an e-commerce website.  Your goal is to work through this notebook to help the company understand if they should implement the new page, keep the old page, or perhaps run the experiment longer to make their decision.\n",
    "\n",
    "**As you work through this notebook, follow along in the classroom and answer the corresponding quiz questions associated with each question.** The labels for each classroom concept are provided for each question.  This will assure you are on the right track as you work through the project, and you can feel more confident in your final submission meeting the criteria.  As a final check, assure you meet all the criteria on the [RUBRIC](https://review.udacity.com/#!/projects/37e27304-ad47-4eb0-a1ab-8c12f60e43d0/rubric).\n",
    "\n",
    "<a id='probability'></a>\n",
    "#### Part I - Probability\n",
    "\n",
    "To get started, let's import our libraries."
   ]
  },
  {
   "cell_type": "code",
   "execution_count": 1,
   "metadata": {},
   "outputs": [
    {
     "name": "stderr",
     "output_type": "stream",
     "text": [
      "/opt/conda/lib/python3.6/site-packages/statsmodels/compat/pandas.py:56: FutureWarning: The pandas.core.datetools module is deprecated and will be removed in a future version. Please use the pandas.tseries module instead.\n",
      "  from pandas.core import datetools\n"
     ]
    }
   ],
   "source": [
    "import pandas as pd\n",
    "import numpy as np\n",
    "import random\n",
    "import matplotlib.pyplot as plt\n",
    "import statsmodels.api as sm\n",
    "%matplotlib inline\n",
    "#We are setting the seed to assure you get the same answers on quizzes as we set up\n",
    "random.seed(42)"
   ]
  },
  {
   "cell_type": "markdown",
   "metadata": {},
   "source": [
    "`1.` Now, read in the `ab_data.csv` data. Store it in `df`.  **Use your dataframe to answer the questions in Quiz 1 of the classroom.**\n",
    "\n",
    "a. Read in the dataset and take a look at the top few rows here:"
   ]
  },
  {
   "cell_type": "code",
   "execution_count": 2,
   "metadata": {},
   "outputs": [
    {
     "data": {
      "text/html": [
       "<div>\n",
       "<style>\n",
       "    .dataframe thead tr:only-child th {\n",
       "        text-align: right;\n",
       "    }\n",
       "\n",
       "    .dataframe thead th {\n",
       "        text-align: left;\n",
       "    }\n",
       "\n",
       "    .dataframe tbody tr th {\n",
       "        vertical-align: top;\n",
       "    }\n",
       "</style>\n",
       "<table border=\"1\" class=\"dataframe\">\n",
       "  <thead>\n",
       "    <tr style=\"text-align: right;\">\n",
       "      <th></th>\n",
       "      <th>user_id</th>\n",
       "      <th>timestamp</th>\n",
       "      <th>group</th>\n",
       "      <th>landing_page</th>\n",
       "      <th>converted</th>\n",
       "    </tr>\n",
       "  </thead>\n",
       "  <tbody>\n",
       "    <tr>\n",
       "      <th>0</th>\n",
       "      <td>851104</td>\n",
       "      <td>2017-01-21 22:11:48.556739</td>\n",
       "      <td>control</td>\n",
       "      <td>old_page</td>\n",
       "      <td>0</td>\n",
       "    </tr>\n",
       "    <tr>\n",
       "      <th>1</th>\n",
       "      <td>804228</td>\n",
       "      <td>2017-01-12 08:01:45.159739</td>\n",
       "      <td>control</td>\n",
       "      <td>old_page</td>\n",
       "      <td>0</td>\n",
       "    </tr>\n",
       "    <tr>\n",
       "      <th>2</th>\n",
       "      <td>661590</td>\n",
       "      <td>2017-01-11 16:55:06.154213</td>\n",
       "      <td>treatment</td>\n",
       "      <td>new_page</td>\n",
       "      <td>0</td>\n",
       "    </tr>\n",
       "  </tbody>\n",
       "</table>\n",
       "</div>"
      ],
      "text/plain": [
       "   user_id                   timestamp      group landing_page  converted\n",
       "0   851104  2017-01-21 22:11:48.556739    control     old_page          0\n",
       "1   804228  2017-01-12 08:01:45.159739    control     old_page          0\n",
       "2   661590  2017-01-11 16:55:06.154213  treatment     new_page          0"
      ]
     },
     "execution_count": 2,
     "metadata": {},
     "output_type": "execute_result"
    }
   ],
   "source": [
    "df = pd.read_csv('ab_data.csv')\n",
    "df.head(3)"
   ]
  },
  {
   "cell_type": "code",
   "execution_count": 49,
   "metadata": {},
   "outputs": [
    {
     "data": {
      "text/plain": [
       "('2017-01-02 13:42:05.378582', '2017-01-24 13:41:54.460509')"
      ]
     },
     "execution_count": 49,
     "metadata": {},
     "output_type": "execute_result"
    }
   ],
   "source": [
    "#tracked during:\n",
    "df.timestamp.min(), df.timestamp.max()"
   ]
  },
  {
   "cell_type": "markdown",
   "metadata": {},
   "source": [
    "b. Use the below cell to find the number of rows in the dataset."
   ]
  },
  {
   "cell_type": "code",
   "execution_count": 3,
   "metadata": {},
   "outputs": [
    {
     "name": "stdout",
     "output_type": "stream",
     "text": [
      "<class 'pandas.core.frame.DataFrame'>\n",
      "RangeIndex: 294478 entries, 0 to 294477\n",
      "Data columns (total 5 columns):\n",
      "user_id         294478 non-null int64\n",
      "timestamp       294478 non-null object\n",
      "group           294478 non-null object\n",
      "landing_page    294478 non-null object\n",
      "converted       294478 non-null int64\n",
      "dtypes: int64(2), object(3)\n",
      "memory usage: 11.2+ MB\n"
     ]
    }
   ],
   "source": [
    "df.info()"
   ]
  },
  {
   "cell_type": "markdown",
   "metadata": {},
   "source": [
    "c. The number of unique users in the dataset."
   ]
  },
  {
   "cell_type": "code",
   "execution_count": 4,
   "metadata": {},
   "outputs": [
    {
     "data": {
      "text/plain": [
       "290584"
      ]
     },
     "execution_count": 4,
     "metadata": {},
     "output_type": "execute_result"
    }
   ],
   "source": [
    "df.user_id.nunique()"
   ]
  },
  {
   "cell_type": "markdown",
   "metadata": {
    "collapsed": true
   },
   "source": [
    "d. The proportion of users converted."
   ]
  },
  {
   "cell_type": "code",
   "execution_count": 5,
   "metadata": {},
   "outputs": [
    {
     "data": {
      "text/plain": [
       "0.11965919355605512"
      ]
     },
     "execution_count": 5,
     "metadata": {},
     "output_type": "execute_result"
    }
   ],
   "source": [
    "users_converted = df.converted.sum()/df.converted.count()\n",
    "users_converted"
   ]
  },
  {
   "cell_type": "markdown",
   "metadata": {
    "collapsed": true
   },
   "source": [
    "e. The number of times the `new_page` and `treatment` don't line up."
   ]
  },
  {
   "cell_type": "code",
   "execution_count": 6,
   "metadata": {},
   "outputs": [
    {
     "data": {
      "text/plain": [
       "3893"
      ]
     },
     "execution_count": 6,
     "metadata": {},
     "output_type": "execute_result"
    }
   ],
   "source": [
    "a = df.query('(landing_page == \"new_page\") & (group != \"treatment\")').timestamp.count()\n",
    "b = df.query('(landing_page != \"new_page\") & (group == \"treatment\")').timestamp.count()\n",
    "a+b"
   ]
  },
  {
   "cell_type": "code",
   "execution_count": 7,
   "metadata": {},
   "outputs": [],
   "source": [
    "x = df.query('(landing_page == \"new_page\") & (group != \"treatment\")')\n",
    "y = df.query('(landing_page != \"new_page\") & (group == \"treatment\")')"
   ]
  },
  {
   "cell_type": "markdown",
   "metadata": {},
   "source": [
    "f. Do any of the rows have missing values?"
   ]
  },
  {
   "cell_type": "code",
   "execution_count": 8,
   "metadata": {},
   "outputs": [
    {
     "data": {
      "text/plain": [
       "user_id         0\n",
       "timestamp       0\n",
       "group           0\n",
       "landing_page    0\n",
       "converted       0\n",
       "dtype: int64"
      ]
     },
     "execution_count": 8,
     "metadata": {},
     "output_type": "execute_result"
    }
   ],
   "source": [
    "df.isnull().sum()"
   ]
  },
  {
   "cell_type": "code",
   "execution_count": 9,
   "metadata": {},
   "outputs": [
    {
     "data": {
      "text/plain": [
       "290585"
      ]
     },
     "execution_count": 9,
     "metadata": {},
     "output_type": "execute_result"
    }
   ],
   "source": [
    "294478 - 3893"
   ]
  },
  {
   "cell_type": "markdown",
   "metadata": {},
   "source": [
    "`2.` For the rows where **treatment** is not aligned with **new_page** or **control** is not aligned with **old_page**, we cannot be sure if this row truly received the new or old page.  Use **Quiz 2** in the classroom to provide how we should handle these rows.  \n",
    "\n",
    "a. Now use the answer to the quiz to create a new dataset that meets the specifications from the quiz.  Store your new dataframe in **df2**."
   ]
  },
  {
   "cell_type": "code",
   "execution_count": 10,
   "metadata": {},
   "outputs": [
    {
     "name": "stdout",
     "output_type": "stream",
     "text": [
      "<class 'pandas.core.frame.DataFrame'>\n",
      "Int64Index: 290585 entries, 0 to 294477\n",
      "Data columns (total 5 columns):\n",
      "user_id         290585 non-null int64\n",
      "timestamp       290585 non-null object\n",
      "group           290585 non-null object\n",
      "landing_page    290585 non-null object\n",
      "converted       290585 non-null int64\n",
      "dtypes: int64(2), object(3)\n",
      "memory usage: 13.3+ MB\n"
     ]
    }
   ],
   "source": [
    "df2 = df.drop(x.index)\n",
    "df2 = df2.drop(y.index)\n",
    "df2.info()"
   ]
  },
  {
   "cell_type": "code",
   "execution_count": 11,
   "metadata": {},
   "outputs": [
    {
     "data": {
      "text/plain": [
       "0"
      ]
     },
     "execution_count": 11,
     "metadata": {},
     "output_type": "execute_result"
    }
   ],
   "source": [
    "# Double Check all of the correct rows were removed - this should be 0\n",
    "df2[((df2['group'] == 'treatment') == (df2['landing_page'] == 'new_page')) == False].shape[0]"
   ]
  },
  {
   "cell_type": "markdown",
   "metadata": {},
   "source": [
    "`3.` Use **df2** and the cells below to answer questions for **Quiz3** in the classroom."
   ]
  },
  {
   "cell_type": "markdown",
   "metadata": {},
   "source": [
    "a. How many unique **user_id**s are in **df2**?"
   ]
  },
  {
   "cell_type": "code",
   "execution_count": 12,
   "metadata": {},
   "outputs": [
    {
     "data": {
      "text/plain": [
       "290584"
      ]
     },
     "execution_count": 12,
     "metadata": {},
     "output_type": "execute_result"
    }
   ],
   "source": [
    "df2.user_id.nunique()"
   ]
  },
  {
   "cell_type": "code",
   "execution_count": 13,
   "metadata": {},
   "outputs": [
    {
     "data": {
      "text/html": [
       "<div>\n",
       "<style>\n",
       "    .dataframe thead tr:only-child th {\n",
       "        text-align: right;\n",
       "    }\n",
       "\n",
       "    .dataframe thead th {\n",
       "        text-align: left;\n",
       "    }\n",
       "\n",
       "    .dataframe tbody tr th {\n",
       "        vertical-align: top;\n",
       "    }\n",
       "</style>\n",
       "<table border=\"1\" class=\"dataframe\">\n",
       "  <thead>\n",
       "    <tr style=\"text-align: right;\">\n",
       "      <th></th>\n",
       "      <th>user_id</th>\n",
       "      <th>timestamp</th>\n",
       "      <th>group</th>\n",
       "      <th>landing_page</th>\n",
       "      <th>converted</th>\n",
       "    </tr>\n",
       "  </thead>\n",
       "  <tbody>\n",
       "    <tr>\n",
       "      <th>0</th>\n",
       "      <td>851104</td>\n",
       "      <td>2017-01-21 22:11:48.556739</td>\n",
       "      <td>control</td>\n",
       "      <td>old_page</td>\n",
       "      <td>0</td>\n",
       "    </tr>\n",
       "    <tr>\n",
       "      <th>1</th>\n",
       "      <td>804228</td>\n",
       "      <td>2017-01-12 08:01:45.159739</td>\n",
       "      <td>control</td>\n",
       "      <td>old_page</td>\n",
       "      <td>0</td>\n",
       "    </tr>\n",
       "    <tr>\n",
       "      <th>2</th>\n",
       "      <td>661590</td>\n",
       "      <td>2017-01-11 16:55:06.154213</td>\n",
       "      <td>treatment</td>\n",
       "      <td>new_page</td>\n",
       "      <td>0</td>\n",
       "    </tr>\n",
       "    <tr>\n",
       "      <th>3</th>\n",
       "      <td>853541</td>\n",
       "      <td>2017-01-08 18:28:03.143765</td>\n",
       "      <td>treatment</td>\n",
       "      <td>new_page</td>\n",
       "      <td>0</td>\n",
       "    </tr>\n",
       "    <tr>\n",
       "      <th>4</th>\n",
       "      <td>864975</td>\n",
       "      <td>2017-01-21 01:52:26.210827</td>\n",
       "      <td>control</td>\n",
       "      <td>old_page</td>\n",
       "      <td>1</td>\n",
       "    </tr>\n",
       "  </tbody>\n",
       "</table>\n",
       "</div>"
      ],
      "text/plain": [
       "   user_id                   timestamp      group landing_page  converted\n",
       "0   851104  2017-01-21 22:11:48.556739    control     old_page          0\n",
       "1   804228  2017-01-12 08:01:45.159739    control     old_page          0\n",
       "2   661590  2017-01-11 16:55:06.154213  treatment     new_page          0\n",
       "3   853541  2017-01-08 18:28:03.143765  treatment     new_page          0\n",
       "4   864975  2017-01-21 01:52:26.210827    control     old_page          1"
      ]
     },
     "execution_count": 13,
     "metadata": {},
     "output_type": "execute_result"
    }
   ],
   "source": [
    "df2.head()"
   ]
  },
  {
   "cell_type": "markdown",
   "metadata": {
    "collapsed": true
   },
   "source": [
    "b. There is one **user_id** repeated in **df2**.  What is it?"
   ]
  },
  {
   "cell_type": "code",
   "execution_count": 14,
   "metadata": {},
   "outputs": [
    {
     "data": {
      "text/html": [
       "<div>\n",
       "<style>\n",
       "    .dataframe thead tr:only-child th {\n",
       "        text-align: right;\n",
       "    }\n",
       "\n",
       "    .dataframe thead th {\n",
       "        text-align: left;\n",
       "    }\n",
       "\n",
       "    .dataframe tbody tr th {\n",
       "        vertical-align: top;\n",
       "    }\n",
       "</style>\n",
       "<table border=\"1\" class=\"dataframe\">\n",
       "  <thead>\n",
       "    <tr style=\"text-align: right;\">\n",
       "      <th></th>\n",
       "      <th>user_id</th>\n",
       "      <th>timestamp</th>\n",
       "      <th>group</th>\n",
       "      <th>landing_page</th>\n",
       "      <th>converted</th>\n",
       "    </tr>\n",
       "  </thead>\n",
       "  <tbody>\n",
       "    <tr>\n",
       "      <th>2893</th>\n",
       "      <td>773192</td>\n",
       "      <td>2017-01-14 02:55:59.590927</td>\n",
       "      <td>treatment</td>\n",
       "      <td>new_page</td>\n",
       "      <td>0</td>\n",
       "    </tr>\n",
       "  </tbody>\n",
       "</table>\n",
       "</div>"
      ],
      "text/plain": [
       "      user_id                   timestamp      group landing_page  converted\n",
       "2893   773192  2017-01-14 02:55:59.590927  treatment     new_page          0"
      ]
     },
     "execution_count": 14,
     "metadata": {},
     "output_type": "execute_result"
    }
   ],
   "source": [
    "df2[df2.user_id.duplicated()]\n"
   ]
  },
  {
   "cell_type": "markdown",
   "metadata": {},
   "source": [
    "c. What is the row information for the repeat **user_id**? "
   ]
  },
  {
   "cell_type": "code",
   "execution_count": 15,
   "metadata": {},
   "outputs": [
    {
     "data": {
      "text/html": [
       "<div>\n",
       "<style>\n",
       "    .dataframe thead tr:only-child th {\n",
       "        text-align: right;\n",
       "    }\n",
       "\n",
       "    .dataframe thead th {\n",
       "        text-align: left;\n",
       "    }\n",
       "\n",
       "    .dataframe tbody tr th {\n",
       "        vertical-align: top;\n",
       "    }\n",
       "</style>\n",
       "<table border=\"1\" class=\"dataframe\">\n",
       "  <thead>\n",
       "    <tr style=\"text-align: right;\">\n",
       "      <th></th>\n",
       "      <th>user_id</th>\n",
       "      <th>timestamp</th>\n",
       "      <th>group</th>\n",
       "      <th>landing_page</th>\n",
       "      <th>converted</th>\n",
       "    </tr>\n",
       "  </thead>\n",
       "  <tbody>\n",
       "    <tr>\n",
       "      <th>1899</th>\n",
       "      <td>773192</td>\n",
       "      <td>2017-01-09 05:37:58.781806</td>\n",
       "      <td>treatment</td>\n",
       "      <td>new_page</td>\n",
       "      <td>0</td>\n",
       "    </tr>\n",
       "    <tr>\n",
       "      <th>2893</th>\n",
       "      <td>773192</td>\n",
       "      <td>2017-01-14 02:55:59.590927</td>\n",
       "      <td>treatment</td>\n",
       "      <td>new_page</td>\n",
       "      <td>0</td>\n",
       "    </tr>\n",
       "  </tbody>\n",
       "</table>\n",
       "</div>"
      ],
      "text/plain": [
       "      user_id                   timestamp      group landing_page  converted\n",
       "1899   773192  2017-01-09 05:37:58.781806  treatment     new_page          0\n",
       "2893   773192  2017-01-14 02:55:59.590927  treatment     new_page          0"
      ]
     },
     "execution_count": 15,
     "metadata": {},
     "output_type": "execute_result"
    }
   ],
   "source": [
    "df2.query('user_id == 773192')"
   ]
  },
  {
   "cell_type": "markdown",
   "metadata": {},
   "source": [
    "d. Remove **one** of the rows with a duplicate **user_id**, but keep your dataframe as **df2**."
   ]
  },
  {
   "cell_type": "code",
   "execution_count": 16,
   "metadata": {},
   "outputs": [
    {
     "data": {
      "text/html": [
       "<div>\n",
       "<style>\n",
       "    .dataframe thead tr:only-child th {\n",
       "        text-align: right;\n",
       "    }\n",
       "\n",
       "    .dataframe thead th {\n",
       "        text-align: left;\n",
       "    }\n",
       "\n",
       "    .dataframe tbody tr th {\n",
       "        vertical-align: top;\n",
       "    }\n",
       "</style>\n",
       "<table border=\"1\" class=\"dataframe\">\n",
       "  <thead>\n",
       "    <tr style=\"text-align: right;\">\n",
       "      <th></th>\n",
       "      <th>user_id</th>\n",
       "      <th>timestamp</th>\n",
       "      <th>group</th>\n",
       "      <th>landing_page</th>\n",
       "      <th>converted</th>\n",
       "    </tr>\n",
       "  </thead>\n",
       "  <tbody>\n",
       "    <tr>\n",
       "      <th>2893</th>\n",
       "      <td>773192</td>\n",
       "      <td>2017-01-14 02:55:59.590927</td>\n",
       "      <td>treatment</td>\n",
       "      <td>new_page</td>\n",
       "      <td>0</td>\n",
       "    </tr>\n",
       "  </tbody>\n",
       "</table>\n",
       "</div>"
      ],
      "text/plain": [
       "      user_id                   timestamp      group landing_page  converted\n",
       "2893   773192  2017-01-14 02:55:59.590927  treatment     new_page          0"
      ]
     },
     "execution_count": 16,
     "metadata": {},
     "output_type": "execute_result"
    }
   ],
   "source": [
    "df2 = df2.drop([1899])\n",
    "df2.query('user_id == 773192')"
   ]
  },
  {
   "cell_type": "markdown",
   "metadata": {},
   "source": [
    "`4.` Use **df2** in the below cells to answer the quiz questions related to **Quiz 4** in the classroom.\n",
    "\n",
    "a. What is the probability of an individual converting regardless of the page they receive?"
   ]
  },
  {
   "cell_type": "code",
   "execution_count": 17,
   "metadata": {},
   "outputs": [
    {
     "data": {
      "text/plain": [
       "0.11959708724499628"
      ]
     },
     "execution_count": 17,
     "metadata": {},
     "output_type": "execute_result"
    }
   ],
   "source": [
    "#probablity of converting\n",
    "conversion_rate = df2.converted.sum()/df2.converted.count()\n",
    "conversion_rate"
   ]
  },
  {
   "cell_type": "markdown",
   "metadata": {},
   "source": [
    "b. Given that an individual was in the `control` group, what is the probability they converted?"
   ]
  },
  {
   "cell_type": "code",
   "execution_count": 18,
   "metadata": {},
   "outputs": [
    {
     "data": {
      "text/plain": [
       "0.1203863045004612"
      ]
     },
     "execution_count": 18,
     "metadata": {},
     "output_type": "execute_result"
    }
   ],
   "source": [
    "df3 = df2.query('group == \"control\"')\n",
    "conversion_control = df3.converted.sum()/df3.converted.count()\n",
    "conversion_control"
   ]
  },
  {
   "cell_type": "markdown",
   "metadata": {},
   "source": [
    "c. Given that an individual was in the `treatment` group, what is the probability they converted?"
   ]
  },
  {
   "cell_type": "code",
   "execution_count": 19,
   "metadata": {},
   "outputs": [
    {
     "data": {
      "text/plain": [
       "0.11880806551510564"
      ]
     },
     "execution_count": 19,
     "metadata": {},
     "output_type": "execute_result"
    }
   ],
   "source": [
    "df4 = df2.query('group == \"treatment\"')\n",
    "conversion_treatment = df4.converted.sum()/df4.converted.count()\n",
    "conversion_treatment"
   ]
  },
  {
   "cell_type": "markdown",
   "metadata": {},
   "source": [
    "d. What is the probability that an individual received the new page?"
   ]
  },
  {
   "cell_type": "code",
   "execution_count": 20,
   "metadata": {},
   "outputs": [
    {
     "data": {
      "text/plain": [
       "0.50006194422266881"
      ]
     },
     "execution_count": 20,
     "metadata": {},
     "output_type": "execute_result"
    }
   ],
   "source": [
    "new_landing = df2.query('landing_page == \"new_page\"').count()\n",
    "p_new_landing = new_landing/df2.landing_page.count()\n",
    "\n",
    "p_new_landing.landing_page"
   ]
  },
  {
   "cell_type": "markdown",
   "metadata": {},
   "source": [
    "e. Use the results in the previous two portions of this question to suggest if you think there is evidence that one page leads to more conversions?  Write your response below."
   ]
  },
  {
   "cell_type": "markdown",
   "metadata": {},
   "source": [
    "> From the outputs above we can see the users were split in half and the same amount of users was testing the new page as the amount of people getting the old page, which should help us to get a non biased or further spoiled result.\n",
    ">\n",
    "> We can also see the total conversion rate (0.1196) is more or less the same as the conversion rate of those who were testing the old page (0.1204) and very similar to the new page testers (0.1188).\n",
    ">\n",
    "> At this point we can only observe a subtle difference, which doesn't seem to be very significant in real life and worth further resources.\n"
   ]
  },
  {
   "cell_type": "markdown",
   "metadata": {},
   "source": [
    "<a id='ab_test'></a>\n",
    "### Part II - A/B Test\n",
    "\n",
    "Notice that because of the time stamp associated with each event, you could technically run a hypothesis test continuously as each observation was observed.  \n",
    "\n",
    "However, then the hard question is do you stop as soon as one page is considered significantly better than another or does it need to happen consistently for a certain amount of time?  How long do you run to render a decision that neither page is better than another?  \n",
    "\n",
    "These questions are the difficult parts associated with A/B tests in general.  \n",
    "\n",
    "\n",
    "`1.` For now, consider you need to make the decision just based on all the data provided.  If you want to assume that the old page is better unless the new page proves to be definitely better at a Type I error rate of 5%, what should your null and alternative hypotheses be?  You can state your hypothesis in terms of words or in terms of **$p_{old}$** and **$p_{new}$**, which are the converted rates for the old and new pages."
   ]
  },
  {
   "cell_type": "markdown",
   "metadata": {},
   "source": [
    "H0: **$p_{new}$**  <=  **$p_{old}$**  \n",
    "H1: **$p_{new}$**   >  **$p_{old}$**"
   ]
  },
  {
   "cell_type": "markdown",
   "metadata": {},
   "source": [
    "`2.` Assume under the null hypothesis, $p_{new}$ and $p_{old}$ both have \"true\" success rates equal to the **converted** success rate regardless of page - that is $p_{new}$ and $p_{old}$ are equal. Furthermore, assume they are equal to the **converted** rate in **ab_data.csv** regardless of the page. <br><br>\n",
    "\n",
    "Use a sample size for each page equal to the ones in **ab_data.csv**.  <br><br>\n",
    "\n",
    "Perform the sampling distribution for the difference in **converted** between the two pages over 10,000 iterations of calculating an estimate from the null.  <br><br>\n",
    "\n",
    "Use the cells below to provide the necessary parts of this simulation.  If this doesn't make complete sense right now, don't worry - you are going to work through the problems below to complete this problem.  You can use **Quiz 5** in the classroom to make sure you are on the right track.<br><br>"
   ]
  },
  {
   "cell_type": "markdown",
   "metadata": {},
   "source": [
    "a. What is the **convert rate** for $p_{new}$ under the null? "
   ]
  },
  {
   "cell_type": "code",
   "execution_count": 21,
   "metadata": {},
   "outputs": [
    {
     "data": {
      "text/plain": [
       "0.11880806551510564"
      ]
     },
     "execution_count": 21,
     "metadata": {},
     "output_type": "execute_result"
    }
   ],
   "source": [
    "p_new = df2.query('landing_page ==\"new_page\"').converted.mean()\n",
    "p_new"
   ]
  },
  {
   "cell_type": "markdown",
   "metadata": {},
   "source": [
    "b. What is the **convert rate** for $p_{old}$ under the null? <br><br>"
   ]
  },
  {
   "cell_type": "code",
   "execution_count": 22,
   "metadata": {},
   "outputs": [
    {
     "data": {
      "text/plain": [
       "(0.1203863045004612, 0.11959718500778342)"
      ]
     },
     "execution_count": 22,
     "metadata": {},
     "output_type": "execute_result"
    }
   ],
   "source": [
    "p_old = df2.query('landing_page ==\"old_page\"').converted.mean()\n",
    "\n",
    "p_mean = np.mean([p_new, p_old])\n",
    "\n",
    "p_old, p_mean"
   ]
  },
  {
   "cell_type": "markdown",
   "metadata": {},
   "source": [
    "> Under the null, the following should apply:\n",
    "> $p_{new_0} - p_{old_0}= 0$\n",
    ">\n",
    "> Therefore p_new, p_old should be both equal to p_mean (0.1196)"
   ]
  },
  {
   "cell_type": "markdown",
   "metadata": {},
   "source": [
    "c. What is $n_{new}$?"
   ]
  },
  {
   "cell_type": "code",
   "execution_count": 23,
   "metadata": {},
   "outputs": [
    {
     "data": {
      "text/plain": [
       "145310"
      ]
     },
     "execution_count": 23,
     "metadata": {},
     "output_type": "execute_result"
    }
   ],
   "source": [
    "n_new = df2.query('landing_page == \"new_page\"').count()\n",
    "n_new[0]\n"
   ]
  },
  {
   "cell_type": "markdown",
   "metadata": {},
   "source": [
    "d. What is $n_{old}$?"
   ]
  },
  {
   "cell_type": "code",
   "execution_count": 24,
   "metadata": {},
   "outputs": [
    {
     "data": {
      "text/plain": [
       "145274"
      ]
     },
     "execution_count": 24,
     "metadata": {},
     "output_type": "execute_result"
    }
   ],
   "source": [
    "n_old = df2.query('landing_page == \"old_page\"').count()\n",
    "n_old[0]"
   ]
  },
  {
   "cell_type": "markdown",
   "metadata": {},
   "source": [
    "e. Simulate $n_{new}$ transactions with a convert rate of $p_{new}$ under the null.  Store these $n_{new}$ 1's and 0's in **new_page_converted**."
   ]
  },
  {
   "cell_type": "code",
   "execution_count": 25,
   "metadata": {},
   "outputs": [
    {
     "data": {
      "text/plain": [
       "0.12049411602780263"
      ]
     },
     "execution_count": 25,
     "metadata": {},
     "output_type": "execute_result"
    }
   ],
   "source": [
    "new_page_converted = np.random.choice([1, 0], size=n_new[0], p=[p_mean, (1-p_mean)])\n",
    "\n",
    "new_page_converted.mean()"
   ]
  },
  {
   "cell_type": "markdown",
   "metadata": {},
   "source": [
    "f. Simulate $n_{old}$ transactions with a convert rate of $p_{old}$ under the null.  Store these $n_{old}$ 1's and 0's in **old_page_converted**."
   ]
  },
  {
   "cell_type": "code",
   "execution_count": 26,
   "metadata": {},
   "outputs": [
    {
     "data": {
      "text/plain": [
       "0.11914038300039924"
      ]
     },
     "execution_count": 26,
     "metadata": {},
     "output_type": "execute_result"
    }
   ],
   "source": [
    "old_page_converted = np.random.choice([1, 0], size=n_old[0], p=[p_mean, (1-p_mean)])\n",
    "\n",
    "old_page_converted.mean()"
   ]
  },
  {
   "cell_type": "markdown",
   "metadata": {},
   "source": [
    "g. Find $p_{new}$ - $p_{old}$ for your simulated values from part (e) and (f)."
   ]
  },
  {
   "cell_type": "code",
   "execution_count": 27,
   "metadata": {},
   "outputs": [
    {
     "data": {
      "text/plain": [
       "0.0013537330274033949"
      ]
     },
     "execution_count": 27,
     "metadata": {},
     "output_type": "execute_result"
    }
   ],
   "source": [
    "new_page_converted.mean()-old_page_converted.mean()\n"
   ]
  },
  {
   "cell_type": "markdown",
   "metadata": {},
   "source": [
    "h. Simulate 10,000 $p_{new}$ - $p_{old}$ values using this same process similarly to the one you calculated in parts **a. through g.** above.  Store all 10,000 values in **p_diffs**."
   ]
  },
  {
   "cell_type": "code",
   "execution_count": 28,
   "metadata": {},
   "outputs": [
    {
     "data": {
      "text/plain": [
       "[9.4185984810882251e-05,\n",
       " -0.00011228452835629343,\n",
       " -0.00058022228266460529,\n",
       " 0.00097498631834599947,\n",
       " 0.0013607990463962022,\n",
       " 0.0027443726713519828,\n",
       " -0.0004700906915925257,\n",
       " -0.0027691654628154289,\n",
       " -0.0014336845571715773,\n",
       " 0.0030468444429774949,\n",
       " -1.6170715352356591e-05,\n",
       " -0.0017502252680223346,\n",
       " 0.00075490390562349408,\n",
       " 3.8986317580466667e-05,\n",
       " 0.00019041917384798879,\n",
       " -0.00020858593226950883,\n",
       " -0.00049762657376135888,\n",
       " 0.00085830202522377275,\n",
       " -0.00068356924110780926,\n",
       " 0.00049355945125933998,\n",
       " -0.0017022792106940465,\n",
       " 0.00095438343616155441,\n",
       " 0.0002456410109131224,\n",
       " 0.0003970585188335235,\n",
       " -0.0023424147137850598,\n",
       " 0.0003075843818467483,\n",
       " 0.0014915676270907813,\n",
       " 0.00037631238540924983,\n",
       " 0.00056897999736799099,\n",
       " -0.00015344424768379272,\n",
       " 0.00082379221414485837,\n",
       " -0.00018116772076193222,\n",
       " -0.0014818301430124803,\n",
       " 0.0010990862317010741,\n",
       " 0.00047965593310865529,\n",
       " 0.0019253588145354272,\n",
       " 0.00056228574944994225,\n",
       " -0.00015363695470879679,\n",
       " 0.00076192217420303909,\n",
       " -0.0015578305155680289,\n",
       " 0.00076866246716246478,\n",
       " -0.00024987867060541347,\n",
       " -0.0021288662440217543,\n",
       " 0.0012920028279575918,\n",
       " -0.0022940900638943745,\n",
       " 0.00076866246716246478,\n",
       " 0.0011820315418443472,\n",
       " -0.00049082659278536223,\n",
       " -0.00092427670584947774,\n",
       " 0.0016220838127437714,\n",
       " -0.00066950030188256404,\n",
       " -0.00079365649251042503,\n",
       " 0.00034193047722301528,\n",
       " 0.0003349616644286596,\n",
       " 0.00026612622243628314,\n",
       " 0.00017686355156543154,\n",
       " -0.00043581963257995071,\n",
       " 0.0015257073724668363,\n",
       " 0.00083754736494001669,\n",
       " 0.0010372213078749803,\n",
       " 0.0012849402197085691,\n",
       " 0.00055560173376331679,\n",
       " 0.00026635644764314015,\n",
       " -0.0014267157443772077,\n",
       " -0.00097245810450033443,\n",
       " 0.001319255618390594,\n",
       " -3.6654221503618079e-05,\n",
       " 3.2327882472385494e-05,\n",
       " -0.00033246585264913586,\n",
       " -4.3375755372096481e-05,\n",
       " 0.00052791236812323172,\n",
       " 0.0020420379915419423,\n",
       " 0.0017875122772447183,\n",
       " -3.6681507454047746e-05,\n",
       " -0.0017642021171648398,\n",
       " 0.0034393599458052565,\n",
       " -0.00094511663472837681,\n",
       " 0.0010165638537896482,\n",
       " 0.0019597049099117081,\n",
       " -0.001358023553624646,\n",
       " -0.00015359261503931909,\n",
       " -0.0019225151068877899,\n",
       " 4.5926139052493431e-05,\n",
       " -4.3319478099310138e-05,\n",
       " 0.00012187705582286656,\n",
       " 0.00048643715499373241,\n",
       " 0.00069998050864132633,\n",
       " -0.00094521895704254011,\n",
       " -0.00031918650061481257,\n",
       " -1.5792122789973218e-05,\n",
       " 0.00037618789326035462,\n",
       " -0.0005662266744311667,\n",
       " 0.00099573245177025926,\n",
       " -0.0014611948587618939,\n",
       " 0.0026202625257654849,\n",
       " 0.0015396637571465088,\n",
       " -0.00071773286169049544,\n",
       " -0.00046994914572459634,\n",
       " -0.00044922177139126995,\n",
       " -0.00058672382355764996,\n",
       " 0.00099620142904348341,\n",
       " -0.0012065685275224197,\n",
       " 7.3554111304094394e-05,\n",
       " 0.001993958915205235,\n",
       " -0.0016056060357060586,\n",
       " -0.0011446456210516265,\n",
       " -8.4639502385672194e-05,\n",
       " -0.00021567753184086047,\n",
       " -0.00092453933312248993,\n",
       " -0.00013307841219381555,\n",
       " -0.00022222682314718134,\n",
       " -0.0026246161507471472,\n",
       " 0.00048646444094417596,\n",
       " -0.002748226622366165,\n",
       " -0.00059387340577368719,\n",
       " -0.00096553533674734182,\n",
       " 0.001773419462812828,\n",
       " 0.00092726195936505829,\n",
       " 0.00342544278467935,\n",
       " 0.002076428426587687,\n",
       " -0.0023350997104944482,\n",
       " 0.00028013206290111725,\n",
       " -0.00040114610579837506,\n",
       " -0.0016609233735977308,\n",
       " -0.00039438193763231821,\n",
       " 2.533348909947164e-05,\n",
       " 0.00019738798664235835,\n",
       " 6.6634754294900289e-05,\n",
       " -0.001165350825550221,\n",
       " -0.00042184278343744552,\n",
       " 0.0016838856378094819,\n",
       " -0.00036001878853701708,\n",
       " -0.00032560447828462735,\n",
       " -0.00069038457043094081,\n",
       " 0.003026412097983322,\n",
       " -0.0019017246337940524,\n",
       " -0.0016951569144284251,\n",
       " -0.0020945286755049974,\n",
       " -0.00040842700165093226,\n",
       " -0.0017573066353622768,\n",
       " 0.0024824125777309636,\n",
       " 4.6277445664447137e-05,\n",
       " -0.0012617204443395452,\n",
       " 0.001284894174667206,\n",
       " -6.4161112350108462e-05,\n",
       " -6.4290720614715302e-05,\n",
       " 0.0010989515073207695,\n",
       " -0.00042924987681079718,\n",
       " 0.0011197385696706808,\n",
       " 0.0010853822420629905,\n",
       " -0.0020807394172717847,\n",
       " 0.0018902896414724341,\n",
       " -0.0013992259072497237,\n",
       " 0.0015946519582609731,\n",
       " -0.0011790275292378471,\n",
       " 0.0015672661488195655,\n",
       " -0.00016055119560227926,\n",
       " 0.0011335755783171697,\n",
       " -0.00035314377119730067,\n",
       " 0.0016429612598045235,\n",
       " -0.0021496720654626128,\n",
       " -0.00086945904192525791,\n",
       " -0.0013856685795952811,\n",
       " -0.00015325665677450029,\n",
       " 0.0010441952367850477,\n",
       " -0.0020188966632804228,\n",
       " 0.00085834977563704895,\n",
       " 0.0012157637033356761,\n",
       " -0.00050451523407631094,\n",
       " 0.0012299059735527279,\n",
       " 0.0012848771209481719,\n",
       " 0.0010372588260568333,\n",
       " 0.00073474612550565588,\n",
       " -0.0015851498155052407,\n",
       " 0.00034898285324062861,\n",
       " -0.0012135543940358096,\n",
       " 0.0014157070950312628,\n",
       " -0.002211441488462168,\n",
       " -0.0015851583423647508,\n",
       " 0.0022348420332528873,\n",
       " -0.00202576997524824,\n",
       " -0.0015714799333052254,\n",
       " 0.0017324200484441776,\n",
       " 0.00045206718441082039,\n",
       " -0.00066987377832924966,\n",
       " -0.00046338109532734206,\n",
       " -6.4080959870690957e-05,\n",
       " 0.0014776385283615523,\n",
       " -0.0011722565395841933,\n",
       " 0.00043142337330071001,\n",
       " -0.0030925743695182917,\n",
       " 0.0019320121335278245,\n",
       " -0.0013235904842813506,\n",
       " -0.0013441217408458744,\n",
       " -0.0016264169732626149,\n",
       " 0.0011267176146964736,\n",
       " 0.00067239175994349143,\n",
       " 0.001181731396389496,\n",
       " -0.0003532392720238392,\n",
       " -0.00039436488391329794,\n",
       " -0.00012607890270520394,\n",
       " 0.00083044723850914104,\n",
       " -0.0011652570300955678,\n",
       " -0.0019635912629920593,\n",
       " -0.00041505815080856989,\n",
       " -0.00075928822729941226,\n",
       " -0.00013297608987966614,\n",
       " 0.001291873219692985,\n",
       " -1.5768247583328177e-05,\n",
       " 0.0008996544515762761,\n",
       " 0.00078950751215707549,\n",
       " -9.1502582122066078e-05,\n",
       " 0.0011060124101978791,\n",
       " 0.00027345998481781431,\n",
       " 0.00027309503523063883,\n",
       " 0.0011956161554492473,\n",
       " 0.00031439800579798061,\n",
       " -0.00053880846292360396,\n",
       " 0.0012503724259849552,\n",
       " -0.0011926394287931769,\n",
       " 0.00074816020192028376,\n",
       " -0.0015577588899481076,\n",
       " -0.0015230376127532558,\n",
       " 0.0010510787809842881,\n",
       " -0.00086237255846961791,\n",
       " 0.00071359752431236767,\n",
       " 0.00043807157617738179,\n",
       " 0.001670456213047733,\n",
       " 0.0021592935842515426,\n",
       " -0.00058688071777268647,\n",
       " -0.0012893279521282996,\n",
       " 2.5410230835090641e-05,\n",
       " 0.00059667788986758619,\n",
       " -0.0013371017668944302,\n",
       " -9.8553252767766275e-05,\n",
       " -0.0013099444772879526,\n",
       " -0.0011652723784426888,\n",
       " -0.00058010120125952247,\n",
       " -2.1478211685022064e-06,\n",
       " 0.0013125170308030953,\n",
       " -0.00016732389062784625,\n",
       " -0.0017848919733163132,\n",
       " -0.0022666820846182351,\n",
       " 0.00082399515340127183,\n",
       " 0.0010507104206533141,\n",
       " 5.281991548315712e-05,\n",
       " -0.00070433072287919007,\n",
       " 0.0018150976151987408,\n",
       " -0.00071100450633440615,\n",
       " -0.00029801743495870558,\n",
       " -5.7035405340716272e-05,\n",
       " -0.0013165875640489128,\n",
       " 0.00013553841116338561,\n",
       " 0.00083742287279110761,\n",
       " -0.0011237732901065722,\n",
       " 0.0024203600629955635,\n",
       " 0.0014021412405172962,\n",
       " -0.0018396431277363234,\n",
       " 0.0006308722071445283,\n",
       " 0.0015601540847853673,\n",
       " 0.0015260944918887437,\n",
       " -0.0012754943542256231,\n",
       " -0.0010963977128965602,\n",
       " -0.00050444019771259119,\n",
       " 0.0013466039096501625,\n",
       " -0.00013277144525135343,\n",
       " 3.2353463050915909e-05,\n",
       " 0.00070694420531998425,\n",
       " 0.0001011360385143184,\n",
       " 0.00055528453458941751,\n",
       " 5.9880818360266708e-05,\n",
       " -0.00072481593440235081,\n",
       " 0.00047945299385222795,\n",
       " -0.00049078566385969691,\n",
       " -0.0012961074686414775,\n",
       " -0.0010206275655478686,\n",
       " -0.00062813593792675204,\n",
       " -0.00044949463089569153,\n",
       " -0.0020737040949732055,\n",
       " -0.00053181748029450249,\n",
       " -0.0018193881414200058,\n",
       " -0.00044948951477997989,\n",
       " -0.0014127866456479926,\n",
       " -0.001158424647053416,\n",
       " -0.003973315015036824,\n",
       " 0.00052769066977588486,\n",
       " 0.0021867066796433937,\n",
       " -0.00033945342453443883,\n",
       " -0.0015919719663159831,\n",
       " -0.00014647714026133629,\n",
       " -5.7103620216825135e-05,\n",
       " -0.00014667496340202424,\n",
       " 0.00067240369754681395,\n",
       " -0.00097968101770819216,\n",
       " 0.0007689626126173299,\n",
       " 0.0003898390163694504,\n",
       " 1.1537409378661878e-05,\n",
       " 0.00030776856201224223,\n",
       " -0.00024295078673670922,\n",
       " 0.00027342417200786062,\n",
       " -0.0011033852847818632,\n",
       " -0.00098621666603929126,\n",
       " 0.0010372298347344766,\n",
       " 0.00049348100415180784,\n",
       " 0.0006516558587506549,\n",
       " -0.001846458457059455,\n",
       " 0.0004658001653712468,\n",
       " -0.0024662980449084992,\n",
       " -0.0014820978864011902,\n",
       " -0.0020671104639974208,\n",
       " 0.00098193296130562324,\n",
       " 0.00014946409914880221,\n",
       " -2.262450583213893e-05,\n",
       " -0.0016194652141872656,\n",
       " -0.00011894296346437461,\n",
       " 0.0015534376670325867,\n",
       " -0.0023148361973186343,\n",
       " 0.00093378908083663337,\n",
       " -2.9932687635125799e-05,\n",
       " 0.00093412333372953904,\n",
       " 0.00012178667111202579,\n",
       " 0.00024594797785559841,\n",
       " -0.00020867120086463797,\n",
       " 0.00034901013919105828,\n",
       " -0.00072492337283222574,\n",
       " 0.0012160894293690716,\n",
       " -0.00029081498621366664,\n",
       " 0.00097528305305706608,\n",
       " -0.0024178898317945979,\n",
       " -0.00034642223732880839,\n",
       " 0.0020762715323726366,\n",
       " -0.0012338656576248996,\n",
       " -0.0016195521881543079,\n",
       " -0.00031903301714357457,\n",
       " -0.00084172704198760828,\n",
       " -0.0006351661441096057,\n",
       " 0.0022552931373379798,\n",
       " 0.0024342618757743489,\n",
       " -0.0022045784087257603,\n",
       " 0.0018287026932664596,\n",
       " 0.0011681280236936764,\n",
       " 0.0012505531954066368,\n",
       " -0.00064938003994657878,\n",
       " 0.0012370060999836036,\n",
       " -0.001020723066374421,\n",
       " -0.00071750263648365231,\n",
       " -0.0017504094481878146,\n",
       " 0.0018838153865298329,\n",
       " -0.00059403371073253608,\n",
       " 0.0014637810552522446,\n",
       " -0.001413033924573856,\n",
       " -0.0015435671639458803,\n",
       " -0.00024296954582762875,\n",
       " 0.0013951263826815496,\n",
       " -0.0023284378646425546,\n",
       " 0.0013743853653730015,\n",
       " 0.0011129744015046378,\n",
       " 0.0014639618246739261,\n",
       " 0.0018700721733379971,\n",
       " -0.0022322490152749258,\n",
       " -0.00083491341803637598,\n",
       " 0.00011465925873072047,\n",
       " 0.0026958706627834145,\n",
       " 0.0015395955422704138,\n",
       " -0.00055273244553712131,\n",
       " -0.00068359823243015205,\n",
       " 0.00091330898542918426,\n",
       " -0.00028450274160181366,\n",
       " -0.00035302098442030472,\n",
       " -0.0010276356018960042,\n",
       " -0.0012274545014426819,\n",
       " -0.0004151246603127795,\n",
       " -0.0017363217498716499,\n",
       " 0.0025033565342959252,\n",
       " 0.00043817730923534359,\n",
       " 0.0023308910421245138,\n",
       " 0.0011062051172228832,\n",
       " 0.0015878673256320974,\n",
       " 0.0011059459006936695,\n",
       " 0.00014900876485079984,\n",
       " -0.0020464410723087939,\n",
       " -0.0011101341046007851,\n",
       " -0.00097266445450054639,\n",
       " -0.0017434696267158017,\n",
       " -0.00084159061223539056,\n",
       " 0.00025955135055141798,\n",
       " -0.00064900144738419541,\n",
       " -0.00035998468109896264,\n",
       " 0.00058970566632940424,\n",
       " 0.00040357370270177606,\n",
       " -0.001440585155089838,\n",
       " -0.00042206277641289314,\n",
       " -0.0021563526704054398,\n",
       " 0.00079617106338086829,\n",
       " 0.0010851656598313691,\n",
       " 0.0014296737119423447,\n",
       " 0.00069275418468965622,\n",
       " -5.7202531787176047e-05,\n",
       " 0.0028405717529510349,\n",
       " 0.0019659387074160428,\n",
       " -9.8609530040552618e-05,\n",
       " 0.00031464357935195864,\n",
       " -0.0010759125013734133,\n",
       " -0.00086933454977637659,\n",
       " -0.0025972098768428931,\n",
       " 0.0018149799445374565,\n",
       " 0.00087200260411805786,\n",
       " 0.00016952978918390038,\n",
       " -0.0006077598702053516,\n",
       " -0.00064897245606185261,\n",
       " 3.9300106010567437e-05,\n",
       " 9.4402567042503605e-05,\n",
       " 0.0010648816821927087,\n",
       " -0.00088315109396003288,\n",
       " 0.0014226145144371205,\n",
       " 0.0010438336979416846,\n",
       " -0.00044947587180474424,\n",
       " -0.00081426108006676934,\n",
       " 0.0012642298990942769,\n",
       " 0.0010924601986591342,\n",
       " -0.0011444819053489652,\n",
       " 0.00089279989869939236,\n",
       " 0.00058999899029667235,\n",
       " 0.0002663257509488981,\n",
       " -0.00037372789429079845,\n",
       " 0.001223196377287572,\n",
       " 0.00050704685866577448,\n",
       " -0.0030302916295760485,\n",
       " 0.00070677196275781284,\n",
       " 0.00071363845323803299,\n",
       " -9.8713557726615164e-05,\n",
       " 0.001532761453856335,\n",
       " 0.0011060362854045103,\n",
       " -0.0013856003647191723,\n",
       " 0.00215205532269655,\n",
       " -0.0016125458571780715,\n",
       " 0.0013815093670105083,\n",
       " 0.0013193630568204689,\n",
       " 0.0004384706332026117,\n",
       " 0.00025949677865054477,\n",
       " -0.00073168413025447021,\n",
       " 0.00054168286726551107,\n",
       " 0.0018218208544391323,\n",
       " 0.00068562677230833702,\n",
       " 0.001759751285984712,\n",
       " -0.0018398818798026767,\n",
       " -5.0394023951641498e-05,\n",
       " -0.0014680971620520539,\n",
       " -0.00021555645043577765,\n",
       " 0.0015671689426211,\n",
       " 0.00086528959710907571,\n",
       " 0.001959711731399319,\n",
       " -0.0013510513300864779,\n",
       " -0.00024267281111657601,\n",
       " 0.0014710431920138545,\n",
       " -0.00081415023089309591,\n",
       " 1.8814894487406697e-05,\n",
       " -0.00011907768784469308,\n",
       " -0.00056635116658007578,\n",
       " 0.00032109907520364023,\n",
       " -0.0025280231282385907,\n",
       " -0.00040826840206396875,\n",
       " 0.0016909721212651357,\n",
       " 0.0011475234361373182,\n",
       " -0.0012688035170513867,\n",
       " 0.00016321242845634965,\n",
       " -0.00039451836738453594,\n",
       " 0.001436325325562815,\n",
       " -0.00098650146314703535,\n",
       " 0.00036939473377196885,\n",
       " 1.8542034982985123e-05,\n",
       " 0.00021835922915776351,\n",
       " -0.0010138804511008459,\n",
       " -0.00031165150434876721,\n",
       " 0.0015737318769026426,\n",
       " 0.00039723758288329192,\n",
       " 0.00083774348270881926,\n",
       " 0.00083764116039464209,\n",
       " 0.0021866145895606537,\n",
       " -0.00091069720836028933,\n",
       " -0.00099300641478387852,\n",
       " -0.00018124275712565197,\n",
       " -0.00048404196015647272,\n",
       " 0.0009269549924225684,\n",
       " 0.00097539731297453802,\n",
       " 0.0010095353529786799,\n",
       " -0.00030529150932363802,\n",
       " -0.0011926496610246001,\n",
       " 0.00014245776817256584,\n",
       " 0.00017682432801167935,\n",
       " 0.00067922243761374401,\n",
       " -0.00047707996884971404,\n",
       " -0.00058696939711162799,\n",
       " 0.0024551546711822358,\n",
       " 0.00030758608721864755,\n",
       " -0.00042166030864386472,\n",
       " 0.0004176903923402836,\n",
       " -0.00058019840745797413,\n",
       " -0.00017438308813305659,\n",
       " -0.00030480718370329285,\n",
       " 0.0032464484656644366,\n",
       " 0.00071368620365129531,\n",
       " -0.0016538982835305749,\n",
       " -0.00068347032953745834,\n",
       " -0.0014889166264681203,\n",
       " -5.0167209488596876e-05,\n",
       " 4.8585098077341682e-06,\n",
       " -0.0017573782609821842,\n",
       " -0.00042887298962032694,\n",
       " 0.0019664588458463556,\n",
       " -0.0011788450544442663,\n",
       " 0.00083070133892262921,\n",
       " 0.001890719395191906,\n",
       " -0.00015335386297295195,\n",
       " -0.00098634456893198497,\n",
       " -0.00038058074179579682,\n",
       " -0.0014131703543260737,\n",
       " 0.00041094839400897254,\n",
       " 0.0020765802046870119,\n",
       " 0.0022418824716671643,\n",
       " 0.0017049165683414719,\n",
       " -0.00015366594603113959,\n",
       " -0.00017433874846359276,\n",
       " -0.00063526335030805736,\n",
       " -0.0001535823828079097,\n",
       " -7.7740609839310748e-05,\n",
       " 0.00024573139562396318,\n",
       " -0.00039465479713673979,\n",
       " -0.00058008585291240145,\n",
       " 0.0010510480842900322,\n",
       " 0.0019940475945441904,\n",
       " -0.00023612351981026902,\n",
       " 0.002104240579004768,\n",
       " 0.00056218854325149059,\n",
       " -0.00032562664811935926,\n",
       " -0.0011513807978953267,\n",
       " -0.0013578444895748776,\n",
       " 0.00016995442678766071,\n",
       " 0.0013054100828846088,\n",
       " -0.0012823011566892306,\n",
       " -0.00060056253757603817,\n",
       " -0.00022923827023911547,\n",
       " -0.0022458165751607917,\n",
       " -0.001392454917596056,\n",
       " -0.0010622375030576725,\n",
       " 0.0013260999390360684,\n",
       " 0.00037645052053336681,\n",
       " -0.00031876527375487851,\n",
       " 0.0011125582907603876,\n",
       " 0.00096852400100672087,\n",
       " 0.0018356305771351639,\n",
       " 0.00024557620678081205,\n",
       " -0.0011448741408865842,\n",
       " 0.00038341080646821235,\n",
       " -0.0016265738674776514,\n",
       " 0.001002672273242286,\n",
       " -8.8233099956036565e-06,\n",
       " 0.00047261890543817686,\n",
       " 1.8345917214168672e-05,\n",
       " -0.00058021205043318202,\n",
       " -0.0013164971793380859,\n",
       " 0.00026633086706459586,\n",
       " 4.6845618736635064e-06,\n",
       " -0.00036007336043789029,\n",
       " 0.00098221093692577033,\n",
       " 0.00040402221551218143,\n",
       " 0.0010785276891861068,\n",
       " -0.00072461981663354824,\n",
       " 0.001257250854068484,\n",
       " -0.00085559133658454078,\n",
       " 0.00043124089850712921,\n",
       " 0.0010231779492282655,\n",
       " 0.001230175422313351,\n",
       " -0.0021081235213413069,\n",
       " -0.0019016615350336552,\n",
       " 0.0011882465802577485,\n",
       " -0.00064215542136680792,\n",
       " -0.00038763993930099327,\n",
       " 0.0023930390576864524,\n",
       " 0.00088569977226851671,\n",
       " -9.8676039544762228e-05,\n",
       " 0.00042452277538244931,\n",
       " -0.0001327884989703737,\n",
       " 0.00032159533842729404,\n",
       " 0.00036270389659771862,\n",
       " -0.00069043061547231777,\n",
       " 0.00076899672005538433,\n",
       " -0.00033232601215311963,\n",
       " 0.00054174426065400905,\n",
       " 0.00014919635576009227,\n",
       " -0.00066276000892313836,\n",
       " 4.6231400623070185e-05,\n",
       " 0.0035288187344448968,\n",
       " 0.00021126251347070024,\n",
       " -0.00016041135510626303,\n",
       " -0.00075941442482022059,\n",
       " 0.00056227381184661973,\n",
       " -0.00029105714902384616,\n",
       " -0.00037391719057200401,\n",
       " -0.00082114462426600976,\n",
       " 0.0011884631624893838,\n",
       " -0.00077994227064093202,\n",
       " 4.9812965847301216e-06,\n",
       " -0.00010537369820660947,\n",
       " -0.00069721183735739489,\n",
       " 0.00075494142380536089,\n",
       " -0.0014886250078727792,\n",
       " -0.00011890715065442092,\n",
       " 0.0027714259332723701,\n",
       " -0.00069704982702663287,\n",
       " 0.0011680308174952109,\n",
       " -0.0016815450148730954,\n",
       " 0.0024825865256650342,\n",
       " 0.00065178376164334861,\n",
       " -0.00033253406752524473,\n",
       " -0.00050452887705153271,\n",
       " -0.0001535960257831176,\n",
       " -0.00028446522341996072,\n",
       " 0.0008239167062937397,\n",
       " -0.0033333074148385183,\n",
       " 0.0019732451838471304,\n",
       " -0.000359896001760035,\n",
       " 0.00039028582380794263,\n",
       " 0.00032133612189809424,\n",
       " 0.0022279243816155925,\n",
       " -0.00029114071224707605,\n",
       " -0.0011310217838929604,\n",
       " 0.00058286816717155465,\n",
       " -0.00036661583025661415,\n",
       " 0.00064468534058437221,\n",
       " 0.0011887002091838517,\n",
       " 0.0012229712681964128,\n",
       " 0.0002593040716255407,\n",
       " -0.0011238329781231571,\n",
       " 0.0028059186906322781,\n",
       " -0.00044933773668064114,\n",
       " -0.0017845389613324603,\n",
       " 0.00027993253438851617,\n",
       " 0.0012370606718844768,\n",
       " 0.0016289775891744213,\n",
       " -0.0023905176653283983,\n",
       " -0.00022220294794055018,\n",
       " -0.0018329591120496841,\n",
       " -9.845263582551611e-05,\n",
       " -0.00049079077997539466,\n",
       " 0.00058267375477465133,\n",
       " 0.00083069281206311907,\n",
       " -0.00011214127711646482,\n",
       " -2.9692230196845526e-05,\n",
       " -0.00018099377282786155,\n",
       " 0.00021830295188497717,\n",
       " -0.001296018789302536,\n",
       " -0.0006421144924411426,\n",
       " 0.0013814394467625002,\n",
       " -0.00099336454288344311,\n",
       " 0.00024560178735935634,\n",
       " 0.0013609269492888959,\n",
       " -0.0003735658839600503,\n",
       " -0.00028395702259297051,\n",
       " -0.0011648647945579627,\n",
       " -0.0017228906197379878,\n",
       " -0.00080063894828003024,\n",
       " -0.0016126669385831544,\n",
       " -0.00061446946647052136,\n",
       " -0.00022922974337960533,\n",
       " 0.0006656685207030999,\n",
       " 0.00045212346168360673,\n",
       " 0.001064762306159539,\n",
       " -0.00031871240722589067,\n",
       " -5.0209843786161446e-05,\n",
       " 0.00034887029869505592,\n",
       " -5.0395729323554628e-05,\n",
       " 0.00021126080809880099,\n",
       " 0.00057638538536942951,\n",
       " 4.6089854755154702e-05,\n",
       " 0.0013195489423578621,\n",
       " -0.0013443621982841408,\n",
       " -0.0003875614921934889,\n",
       " -0.0012753766835643388,\n",
       " -0.0017090075660501358,\n",
       " -0.0016056401431440992,\n",
       " -0.0011858854928585572,\n",
       " 0.0013400887257818961,\n",
       " -0.0016746034880291694,\n",
       " -0.00077997126196327482,\n",
       " -0.00034609651129539898,\n",
       " -0.00088308117371202477,\n",
       " 8.0364324511528196e-05,\n",
       " -0.0006974454733080504,\n",
       " 0.0012573753462173792,\n",
       " -0.0003667232686864752,\n",
       " 0.00034892998671164077,\n",
       " -0.0013993452832829073,\n",
       " -0.001454261858777478,\n",
       " 0.00089242812762461987,\n",
       " -0.0015710655279328745,\n",
       " -0.00033921467246805781,\n",
       " -0.00055954436411645436,\n",
       " 0.00092015160070275936,\n",
       " -0.0029478698686068866,\n",
       " 2.5202175462979426e-05,\n",
       " 0.0015534291401730765,\n",
       " 8.042230715621379e-05,\n",
       " -0.00066280605396451531,\n",
       " -0.00032579718530963142,\n",
       " 0.0013192317431839767,\n",
       " 0.00019729078044390669,\n",
       " -0.00099988484286742119,\n",
       " -0.0010551578410896295,\n",
       " -0.00041502063262671696,\n",
       " 0.0010026535141513526,\n",
       " -1.5950722376908977e-05,\n",
       " -0.00051830108156572519,\n",
       " 0.0013880603636887284,\n",
       " 7.3799684858072423e-05,\n",
       " -0.0018051725402111474,\n",
       " -0.0019222439527552537,\n",
       " -0.0015162683284714873,\n",
       " -0.0015440344358472052,\n",
       " 0.00054836517758023728,\n",
       " 0.0015120750084486739,\n",
       " 0.00031416095910351272,\n",
       " 0.00021826713907502349,\n",
       " 0.0014430605024065152,\n",
       " -2.9456888874290765e-05,\n",
       " -0.0014063618464905669,\n",
       " -0.0015646867738168257,\n",
       " -0.00091042264348396851,\n",
       " -0.0013306070474889964,\n",
       " 9.4300244728354188e-05,\n",
       " -0.00065604188579847234,\n",
       " -0.00093838998474418678,\n",
       " 0.00044549742864165298,\n",
       " -0.00071110853402045482,\n",
       " 0.0027991118881686566,\n",
       " 0.0032880890998684964,\n",
       " -0.00034630115592372557,\n",
       " -0.00040795631900579499,\n",
       " 5.9611369599643638e-05,\n",
       " 0.00064491897653502772,\n",
       " 0.00064516113934522112,\n",
       " 0.0013403871658648481,\n",
       " -0.0014474704046609915,\n",
       " 0.00019068521186479948,\n",
       " -0.0004629769221864144,\n",
       " 0.00047291734552114273,\n",
       " 0.00065185709263515523,\n",
       " 0.00065861273394170194,\n",
       " -0.00053211421500555522,\n",
       " -9.8558368883477909e-05,\n",
       " -0.000456562355260412,\n",
       " 0.0025103748028754702,\n",
       " 0.00067229625911693902,\n",
       " 0.00037652555689708656,\n",
       " 0.0015533029426522821,\n",
       " 0.0017532054054222035,\n",
       " 0.0023241678028841223,\n",
       " 0.00080318592121661481,\n",
       " -0.001763973597329882,\n",
       " -0.0010896676521685716,\n",
       " -0.00044261620281216274,\n",
       " -9.8345197395641182e-05,\n",
       " -0.0010346146469217832,\n",
       " 0.0010856380478483918,\n",
       " -0.00054605525133810673,\n",
       " -0.00054579091869319529,\n",
       " 0.00044502845136844271,\n",
       " 0.00090629412759343775,\n",
       " -0.0015575252539974521,\n",
       " 0.0004247530005893202,\n",
       " 0.00067255718101805195,\n",
       " 0.0014156627553617851,\n",
       " -0.0018394691798022528,\n",
       " -0.00032518495679659254,\n",
       " -0.0011515359867384778,\n",
       " -0.00075907164506777702,\n",
       " -0.0019222098453172132,\n",
       " 0.00036266978915967807,\n",
       " -0.00030491973824886554,\n",
       " 0.0032120682628501152,\n",
       " 0.00061723302163874116,\n",
       " -0.00060760979747792598,\n",
       " -0.00021535010043555181,\n",
       " -0.0025145988195925395,\n",
       " 0.0020489164196254711,\n",
       " 0.0016426065424487851,\n",
       " 0.00049356115663123923,\n",
       " -0.00082122818748923965,\n",
       " 0.00051407706484864202,\n",
       " 0.0009820745071735526,\n",
       " -0.0025074270675417565,\n",
       " -0.00097952412349315565,\n",
       " -0.00053903698275856171,\n",
       " 0.00060351538902544966,\n",
       " 0.0018357022027550851,\n",
       " 0.00054168457263739644,\n",
       " 0.0029779663666875539,\n",
       " -0.00029782472793371539,\n",
       " -0.00040124501736872598,\n",
       " -0.0012687472397786004,\n",
       " -8.6766480119765399e-06,\n",
       " 0.00088575263879750454,\n",
       " -0.0011308324876117687,\n",
       " -0.00013288058905312761,\n",
       " -0.0011376546384225111,\n",
       " 0.00042471889315125189,\n",
       " 0.0013881200517053133,\n",
       " -0.0020393989285226038,\n",
       " 0.0018077945495114517,\n",
       " 4.6096676242765589e-05,\n",
       " 0.00070685552598104273,\n",
       " -0.00044247977305995889,\n",
       " -0.00037380975214212908,\n",
       " -0.00033932211089793274,\n",
       " -0.0011930077891241508,\n",
       " -0.0012065787597538291,\n",
       " -0.0019635383964630715,\n",
       " 0.0010234337550136668,\n",
       " -0.0012409691947995738,\n",
       " -0.0012820811637137969,\n",
       " 0.0004867321843328859,\n",
       " 0.00089282206853412427,\n",
       " 0.00069990206153380807,\n",
       " 0.002785315808447833,\n",
       " 8.0599665834082956e-05,\n",
       " -0.001798328219565673,\n",
       " 6.0001899765349531e-05,\n",
       " 8.0406958809078888e-05,\n",
       " 0.0025099672189907302,\n",
       " -0.0014269749609064075,\n",
       " 0.00043845016873976517,\n",
       " -0.0007179033988807676,\n",
       " 0.00018360725526866961,\n",
       " -0.0011719785639640462,\n",
       " -0.001364973607328096,\n",
       " 0.00043859683072340616,\n",
       " 0.0024345534943697039,\n",
       " 0.0013536767501305946,\n",
       " -0.00097243081854989089,\n",
       " -0.0030511042725045179,\n",
       " -0.0002085074851619767,\n",
       " -0.00053877094474175102,\n",
       " 0.0014227492388174251,\n",
       " -0.00074542734344629213,\n",
       " 0.00033495825368484722,\n",
       " -0.00019477962031726193,\n",
       " 0.0013124590481583959,\n",
       " 0.00044545479434410229,\n",
       " -0.0011449287127874574,\n",
       " -0.001832759583537083,\n",
       " -5.7078039638280842e-05,\n",
       " -0.0002429354383895882,\n",
       " 0.00048688737317602315,\n",
       " -2.3004803766421555e-05,\n",
       " -0.00080717630198301471,\n",
       " -0.00035325291499906097,\n",
       " -0.0015575303701131638,\n",
       " 0.0032601029995173308,\n",
       " -0.00052523749229392569,\n",
       " -9.1848488389667526e-06,\n",
       " 0.00073449543583596621,\n",
       " -0.00088995619105174117,\n",
       " -0.00051801457908606796,\n",
       " -0.0022251881123978023,\n",
       " 0.00025245292949245546,\n",
       " -0.00062156788752948389,\n",
       " 0.0029781215555306911,\n",
       " 0.00036257769907692416,\n",
       " -0.00090367382366504656,\n",
       " 0.0013881729182343011,\n",
       " -0.0008280980887132583,\n",
       " -0.00033249825471529104,\n",
       " -0.00025006455614280665,\n",
       " -8.4835620154474767e-05,\n",
       " 0.00078954161959512992,\n",
       " -0.0001536301332211859,\n",
       " -0.0018468319335061267,\n",
       " 0.0010027575418374152,\n",
       " 0.001746359379404816,\n",
       " 0.0014707242874680837,\n",
       " 0.00039006924157632128,\n",
       " 0.0031433283216842911,\n",
       " 0.00034209419292567655,\n",
       " 0.0030470559090934185,\n",
       " -0.00040153663596408096,\n",
       " 0.00041075057086827071,\n",
       " 0.0028197795744853982,\n",
       " -0.00036707969141412666,\n",
       " -4.3476372314360523e-05,\n",
       " 0.00069993275822805012,\n",
       " 0.00044549231252595523,\n",
       " -0.0011791008602296676,\n",
       " 1.1677249874664231e-05,\n",
       " 0.00011479739385482357,\n",
       " 0.0005415958932984688,\n",
       " 8.0524629470363207e-05,\n",
       " -0.00076604898472165672,\n",
       " 0.0025720504304203723,\n",
       " 0.001759766634331833,\n",
       " -0.00058695575413640622,\n",
       " -0.0008555265324522443,\n",
       " 0.00052106463673394499,\n",
       " 0.0011678517534454425,\n",
       " 0.00056253302837583341,\n",
       " 0.0012712890965994733,\n",
       " 0.0005138536611293959,\n",
       " 0.0011335261225319943,\n",
       " -0.0010137951825057029,\n",
       " 0.0010438916805863702,\n",
       " -0.0015849264117859946,\n",
       " 0.0010853481346249499,\n",
       " -0.0011172581062382919,\n",
       " 0.0011679967100571564,\n",
       " 0.00014240149089977949,\n",
       " -0.0004564378631115168,\n",
       " 0.00054849308047293099,\n",
       " 0.00059674610474368117,\n",
       " 0.0004659093091730071,\n",
       " 0.0015742247293825257,\n",
       " 0.00055507818458920555,\n",
       " 4.9250193119299013e-06,\n",
       " 0.00040391307171040725,\n",
       " -0.0011584894511857124,\n",
       " -0.00029113048001566666,\n",
       " -9.1214374270523479e-05,\n",
       " 0.00045912126580031909,\n",
       " 0.0017322273414191736,\n",
       " -0.00043570707803437803,\n",
       " -0.0011859008412056643,\n",
       " -0.0014196633683596083,\n",
       " -0.00058713481818618851,\n",
       " -0.00012589131179592539,\n",
       " -0.0015368729160278455,\n",
       " -0.0017573424481722444,\n",
       " -8.4675315195625878e-05,\n",
       " 0.0012641071123172809,\n",
       " -0.00013971638283907795,\n",
       " -0.00011931302916724784,\n",
       " -0.001385728267611866,\n",
       " 0.00135399394930448,\n",
       " -9.1645833361894691e-05,\n",
       " 0.00065880885171050452,\n",
       " -0.00089683632450716921,\n",
       " 0.0025722874771148541,\n",
       " -0.00044977431188771011,\n",
       " 2.5662625876679557e-05,\n",
       " 0.0001907329622780618,\n",
       " -0.0023147151159135515,\n",
       " -0.00024300535863759631,\n",
       " 0.00081700417077215648,\n",
       " 0.0018834760175212018,\n",
       " 0.00036953627963988434,\n",
       " -0.00025694127885443618,\n",
       " 0.00089305058836908202,\n",
       " 0.00032809858469223796,\n",
       " 0.0004176733386212772,\n",
       " 0.0011680751571646886,\n",
       " 0.00025929554476601668,\n",
       " 0.0006932726177480697,\n",
       " 0.001168085389396098,\n",
       " 0.00086528789173717646,\n",
       " -0.001771022562603683,\n",
       " -0.0031681177024039386,\n",
       " 0.0015741258178121609,\n",
       " 0.00097551327826390921,\n",
       " -0.0019430361312208905,\n",
       " -0.001413272676640237,\n",
       " 0.00080304608072059858,\n",
       " -0.0011514899416971008,\n",
       " 0.00014235715123031567,\n",
       " 0.0025374587614901273,\n",
       " -2.2143306726979395e-06,\n",
       " -0.00086233674565966423,\n",
       " -0.0023285367762129056,\n",
       " 0.00014933108014039687,\n",
       " -0.00085551800559273417,\n",
       " 0.00019762162259302773,\n",
       " 0.00089951120033646137,\n",
       " 0.00052086851896514241,\n",
       " -0.00053189422203012149,\n",
       " 0.0010783247499296794,\n",
       " 0.0015740900050022072,\n",
       " 0.000562207302342424,\n",
       " 0.00052102029706448116,\n",
       " 0.0014573579614667181,\n",
       " -0.0019843049943501639,\n",
       " -0.00214941967042101,\n",
       " 0.0021314422082806955,\n",
       " 0.00035569074413388524,\n",
       " -0.00026353320445832162,\n",
       " -0.00038052616989490973,\n",
       " -0.00045631678170643397,\n",
       " -0.00081412465031455161,\n",
       " -0.00039436147316948555,\n",
       " 0.00065173771660197166,\n",
       " -4.3217155785160721e-05,\n",
       " 0.001498253348149306,\n",
       " 0.0010370985210979844,\n",
       " -0.001406239059713571,\n",
       " 0.00084423138062664216,\n",
       " ...]"
      ]
     },
     "execution_count": 28,
     "metadata": {},
     "output_type": "execute_result"
    }
   ],
   "source": [
    "p_diffs = []\n",
    "\n",
    "for i in range(10000):\n",
    "    new_page_converted = np.random.choice([1, 0], size=n_new[0], p=[p_mean, (1-p_mean)])\n",
    "    old_page_converted = np.random.choice([1, 0], size=n_old[0], p=[p_mean, (1-p_mean)])\n",
    "    p_diff = new_page_converted.mean()-old_page_converted.mean()\n",
    "    p_diffs.append(p_diff)\n",
    "    \n",
    "p_diffs"
   ]
  },
  {
   "cell_type": "markdown",
   "metadata": {},
   "source": [
    "i. Plot a histogram of the **p_diffs**.  Does this plot look like what you expected?  Use the matching problem in the classroom to assure you fully understand what was computed here."
   ]
  },
  {
   "cell_type": "code",
   "execution_count": 29,
   "metadata": {},
   "outputs": [
    {
     "data": {
      "image/png": "[encoded data removed]",
      "text/plain": [
       "<matplotlib.figure.Figure at 0x7fac7d61ebe0>"
      ]
     },
     "metadata": {
      "needs_background": "light"
     },
     "output_type": "display_data"
    }
   ],
   "source": [
    "plt.hist(p_diffs)\n",
    "plt.axvline(x=(p_new-p_old), color='r')\n",
    "plt.show()"
   ]
  },
  {
   "cell_type": "markdown",
   "metadata": {},
   "source": [
    ">Like expected, our histogram shows normal distribution. As per the test under the null hypotesis, the mean of this  distribution lays at 0.\n",
    "\n"
   ]
  },
  {
   "cell_type": "markdown",
   "metadata": {},
   "source": [
    "j. What proportion of the **p_diffs** are greater than the actual difference observed in **ab_data.csv**?"
   ]
  },
  {
   "cell_type": "code",
   "execution_count": 30,
   "metadata": {},
   "outputs": [
    {
     "data": {
      "text/plain": [
       "-0.0015782389853555567"
      ]
     },
     "execution_count": 30,
     "metadata": {},
     "output_type": "execute_result"
    }
   ],
   "source": [
    "p_diff = p_new - p_old\n",
    "p_diff"
   ]
  },
  {
   "cell_type": "code",
   "execution_count": 31,
   "metadata": {},
   "outputs": [
    {
     "data": {
      "text/plain": [
       "0.9032"
      ]
     },
     "execution_count": 31,
     "metadata": {},
     "output_type": "execute_result"
    }
   ],
   "source": [
    "greater_than_diff = [i for i in p_diffs if i > p_diff]\n",
    "p_greater_than_diff = len(greater_than_diff)/len(p_diffs)\n",
    "p_greater_than_diff"
   ]
  },
  {
   "cell_type": "markdown",
   "metadata": {},
   "source": [
    "k. In words, explain what you just computed in part **j.**.  What is this value called in scientific studies?  What does this value mean in terms of whether or not there is a difference between the new and old pages?"
   ]
  },
  {
   "cell_type": "markdown",
   "metadata": {},
   "source": [
    ">The probability for a conversion of a new page is lower than the total conversion rate and old page conversion rate.\n",
    ">\n",
    "> As per the hypothesis we would expect the proportion greater than our actual difference to be 0.5. But according to the outputs above, about 90% of the population in the simulated sample lies above the real difference. Therefore, we can conclude the new page really doesn't have better results than the existing one.\n",
    ">\n",
    ">The value we calculated in the part j is the observed difference of conversion rate between p_new and p_old. We reffer to this term as to the p-value."
   ]
  },
  {
   "cell_type": "markdown",
   "metadata": {},
   "source": [
    "l. We could also use a built-in to achieve similar results.  Though using the built-in might be easier to code, the above portions are a walkthrough of the ideas that are critical to correctly thinking about statistical significance. Fill in the below to calculate the number of conversions for each page, as well as the number of individuals who received each page. Let `n_old` and `n_new` refer the the number of rows associated with the old page and new pages, respectively."
   ]
  },
  {
   "cell_type": "code",
   "execution_count": 32,
   "metadata": {},
   "outputs": [
    {
     "name": "stdout",
     "output_type": "stream",
     "text": [
      "convert_old:  17489 \n",
      "n_old:  145274 \n",
      "convert_new:  17264 \n",
      "n_new:  145310\n"
     ]
    }
   ],
   "source": [
    "import statsmodels.api as sm\n",
    "\n",
    "convert_old = len(df2[(df2['landing_page']=='old_page')&(df2['converted']==1)])\n",
    "convert_new = len(df2[(df2['landing_page']=='new_page')&(df2['converted']==1)])\n",
    "\n",
    "print(\"convert_old: \",convert_old, \"\\nn_old: \", n_old[0], \"\\nconvert_new: \", convert_new, \"\\nn_new: \", n_new[0])\n"
   ]
  },
  {
   "cell_type": "markdown",
   "metadata": {},
   "source": [
    "m. Now use `stats.proportions_ztest` to compute your test statistic and p-value.  [Here](http://knowledgetack.com/python/statsmodels/proportions_ztest/) is a helpful link on using the built in."
   ]
  },
  {
   "cell_type": "code",
   "execution_count": 46,
   "metadata": {},
   "outputs": [
    {
     "data": {
      "text/plain": [
       "(1.3109241984234394, 0.90505831275902449)"
      ]
     },
     "execution_count": 46,
     "metadata": {},
     "output_type": "execute_result"
    }
   ],
   "source": [
    "z_score, p_value = sm.stats.proportions_ztest([convert_old, convert_new], [n_old[0], n_new[0]], alternative='smaller')\n",
    "\n",
    "z_score, p_value"
   ]
  },
  {
   "cell_type": "code",
   "execution_count": 36,
   "metadata": {},
   "outputs": [
    {
     "name": "stdout",
     "output_type": "stream",
     "text": [
      "0.905058312759\n",
      "1.95996398454\n"
     ]
    }
   ],
   "source": [
    "from scipy.stats import norm\n",
    "\n",
    " # Tells us how significant our z-score is\n",
    "print(norm.cdf(z_score))\n",
    "\n",
    "# Tells us what our critical value at 95% confidence is\n",
    "print(norm.ppf(1-(0.05/2)))"
   ]
  },
  {
   "cell_type": "markdown",
   "metadata": {},
   "source": [
    "n. What do the z-score and p-value you computed in the previous question mean for the conversion rates of the old and new pages?  Do they agree with the findings in parts **j.** and **k.**?"
   ]
  },
  {
   "cell_type": "markdown",
   "metadata": {},
   "source": [
    "Based on the z-score and our outputs above we can conclude, that the difference between simulated and real data differences is -1.31 standard deviations.\n",
    "Using the one-tail test, our p-value calculated here is 0.9 which more or less corresponds to the p-value calculated above. \n",
    "\n",
    "Therefoere, we can confirm we dont have enough of evidence in order to reject the null hypothesis and agan, we fail to reject the null.\n",
    "\n"
   ]
  },
  {
   "cell_type": "markdown",
   "metadata": {},
   "source": [
    "<a id='regression'></a>\n",
    "### Part III - A regression approach\n",
    "\n",
    "`1.` In this final part, you will see that the result you acheived in the previous A/B test can also be acheived by performing regression.<br><br>\n",
    "\n",
    "a. Since each row is either a conversion or no conversion, what type of regression should you be performing in this case?"
   ]
  },
  {
   "cell_type": "markdown",
   "metadata": {},
   "source": [
    "> We can use logistic regression"
   ]
  },
  {
   "cell_type": "markdown",
   "metadata": {},
   "source": [
    "b. The goal is to use **statsmodels** to fit the regression model you specified in part **a.** to see if there is a significant difference in conversion based on which page a customer receives.  However, you first need to create a colun for the intercept, and create a dummy variable column for which page each user received.  Add an **intercept** column, as well as an **ab_page** column, which is 1 when an individual receives the **treatment** and 0 if **control**."
   ]
  },
  {
   "cell_type": "code",
   "execution_count": 37,
   "metadata": {},
   "outputs": [],
   "source": [
    "df2['intercept'] = 1"
   ]
  },
  {
   "cell_type": "code",
   "execution_count": 38,
   "metadata": {},
   "outputs": [
    {
     "data": {
      "text/html": [
       "<div>\n",
       "<style>\n",
       "    .dataframe thead tr:only-child th {\n",
       "        text-align: right;\n",
       "    }\n",
       "\n",
       "    .dataframe thead th {\n",
       "        text-align: left;\n",
       "    }\n",
       "\n",
       "    .dataframe tbody tr th {\n",
       "        vertical-align: top;\n",
       "    }\n",
       "</style>\n",
       "<table border=\"1\" class=\"dataframe\">\n",
       "  <thead>\n",
       "    <tr style=\"text-align: right;\">\n",
       "      <th></th>\n",
       "      <th>new_page</th>\n",
       "      <th>old_page</th>\n",
       "    </tr>\n",
       "  </thead>\n",
       "  <tbody>\n",
       "    <tr>\n",
       "      <th>0</th>\n",
       "      <td>0</td>\n",
       "      <td>1</td>\n",
       "    </tr>\n",
       "    <tr>\n",
       "      <th>1</th>\n",
       "      <td>0</td>\n",
       "      <td>1</td>\n",
       "    </tr>\n",
       "    <tr>\n",
       "      <th>2</th>\n",
       "      <td>1</td>\n",
       "      <td>0</td>\n",
       "    </tr>\n",
       "    <tr>\n",
       "      <th>3</th>\n",
       "      <td>1</td>\n",
       "      <td>0</td>\n",
       "    </tr>\n",
       "    <tr>\n",
       "      <th>4</th>\n",
       "      <td>0</td>\n",
       "      <td>1</td>\n",
       "    </tr>\n",
       "  </tbody>\n",
       "</table>\n",
       "</div>"
      ],
      "text/plain": [
       "   new_page  old_page\n",
       "0         0         1\n",
       "1         0         1\n",
       "2         1         0\n",
       "3         1         0\n",
       "4         0         1"
      ]
     },
     "execution_count": 38,
     "metadata": {},
     "output_type": "execute_result"
    }
   ],
   "source": [
    "df5 = pd.get_dummies(df2['landing_page'])\n",
    "df5.head()"
   ]
  },
  {
   "cell_type": "code",
   "execution_count": 39,
   "metadata": {},
   "outputs": [
    {
     "data": {
      "text/html": [
       "<div>\n",
       "<style>\n",
       "    .dataframe thead tr:only-child th {\n",
       "        text-align: right;\n",
       "    }\n",
       "\n",
       "    .dataframe thead th {\n",
       "        text-align: left;\n",
       "    }\n",
       "\n",
       "    .dataframe tbody tr th {\n",
       "        vertical-align: top;\n",
       "    }\n",
       "</style>\n",
       "<table border=\"1\" class=\"dataframe\">\n",
       "  <thead>\n",
       "    <tr style=\"text-align: right;\">\n",
       "      <th></th>\n",
       "      <th>control</th>\n",
       "      <th>treatment</th>\n",
       "    </tr>\n",
       "  </thead>\n",
       "  <tbody>\n",
       "    <tr>\n",
       "      <th>0</th>\n",
       "      <td>1</td>\n",
       "      <td>0</td>\n",
       "    </tr>\n",
       "    <tr>\n",
       "      <th>1</th>\n",
       "      <td>1</td>\n",
       "      <td>0</td>\n",
       "    </tr>\n",
       "    <tr>\n",
       "      <th>2</th>\n",
       "      <td>0</td>\n",
       "      <td>1</td>\n",
       "    </tr>\n",
       "    <tr>\n",
       "      <th>3</th>\n",
       "      <td>0</td>\n",
       "      <td>1</td>\n",
       "    </tr>\n",
       "    <tr>\n",
       "      <th>4</th>\n",
       "      <td>1</td>\n",
       "      <td>0</td>\n",
       "    </tr>\n",
       "  </tbody>\n",
       "</table>\n",
       "</div>"
      ],
      "text/plain": [
       "   control  treatment\n",
       "0        1          0\n",
       "1        1          0\n",
       "2        0          1\n",
       "3        0          1\n",
       "4        1          0"
      ]
     },
     "execution_count": 39,
     "metadata": {},
     "output_type": "execute_result"
    }
   ],
   "source": [
    "df6 = pd.get_dummies(df2['group'])\n",
    "df6.head()"
   ]
  },
  {
   "cell_type": "code",
   "execution_count": 40,
   "metadata": {},
   "outputs": [
    {
     "data": {
      "text/html": [
       "<div>\n",
       "<style>\n",
       "    .dataframe thead tr:only-child th {\n",
       "        text-align: right;\n",
       "    }\n",
       "\n",
       "    .dataframe thead th {\n",
       "        text-align: left;\n",
       "    }\n",
       "\n",
       "    .dataframe tbody tr th {\n",
       "        vertical-align: top;\n",
       "    }\n",
       "</style>\n",
       "<table border=\"1\" class=\"dataframe\">\n",
       "  <thead>\n",
       "    <tr style=\"text-align: right;\">\n",
       "      <th></th>\n",
       "      <th>user_id</th>\n",
       "      <th>timestamp</th>\n",
       "      <th>group</th>\n",
       "      <th>landing_page</th>\n",
       "      <th>converted</th>\n",
       "      <th>intercept</th>\n",
       "      <th>new_page</th>\n",
       "      <th>old_page</th>\n",
       "      <th>control</th>\n",
       "      <th>treatment</th>\n",
       "      <th>ab_page</th>\n",
       "    </tr>\n",
       "  </thead>\n",
       "  <tbody>\n",
       "    <tr>\n",
       "      <th>0</th>\n",
       "      <td>851104</td>\n",
       "      <td>2017-01-21 22:11:48.556739</td>\n",
       "      <td>control</td>\n",
       "      <td>old_page</td>\n",
       "      <td>0</td>\n",
       "      <td>1</td>\n",
       "      <td>0</td>\n",
       "      <td>1</td>\n",
       "      <td>1</td>\n",
       "      <td>0</td>\n",
       "      <td>0</td>\n",
       "    </tr>\n",
       "  </tbody>\n",
       "</table>\n",
       "</div>"
      ],
      "text/plain": [
       "   user_id                   timestamp    group landing_page  converted  \\\n",
       "0   851104  2017-01-21 22:11:48.556739  control     old_page          0   \n",
       "\n",
       "   intercept  new_page  old_page  control  treatment  ab_page  \n",
       "0          1         0         1        1          0        0  "
      ]
     },
     "execution_count": 40,
     "metadata": {},
     "output_type": "execute_result"
    }
   ],
   "source": [
    "df_new = df2.join(df5, how = 'outer')\n",
    "df_new = df_new.join(df6, how = 'outer')\n",
    "df_new['ab_page'] = df_new['treatment']\n",
    "df_new.head(1)"
   ]
  },
  {
   "cell_type": "markdown",
   "metadata": {},
   "source": [
    "c. Use **statsmodels** to import your regression model.  Instantiate the model, and fit the model using the two columns you created in part **b.** to predict whether or not an individual converts."
   ]
  },
  {
   "cell_type": "code",
   "execution_count": 41,
   "metadata": {},
   "outputs": [
    {
     "name": "stdout",
     "output_type": "stream",
     "text": [
      "Optimization terminated successfully.\n",
      "         Current function value: 0.366118\n",
      "         Iterations 6\n"
     ]
    }
   ],
   "source": [
    "logit = sm.Logit(df_new['converted'], df_new[['ab_page', 'intercept']])\n",
    "\n",
    "# Calculate results\n",
    "result=logit.fit()"
   ]
  },
  {
   "cell_type": "markdown",
   "metadata": {},
   "source": [
    "d. Provide the summary of your model below, and use it as necessary to answer the following questions."
   ]
  },
  {
   "cell_type": "code",
   "execution_count": 42,
   "metadata": {},
   "outputs": [
    {
     "data": {
      "text/html": [
       "<table class=\"simpletable\">\n",
       "<caption>Logit Regression Results</caption>\n",
       "<tr>\n",
       "  <th>Dep. Variable:</th>     <td>converted</td>    <th>  No. Observations:  </th>   <td>290584</td>   \n",
       "</tr>\n",
       "<tr>\n",
       "  <th>Model:</th>               <td>Logit</td>      <th>  Df Residuals:      </th>   <td>290582</td>   \n",
       "</tr>\n",
       "<tr>\n",
       "  <th>Method:</th>               <td>MLE</td>       <th>  Df Model:          </th>   <td>     1</td>   \n",
       "</tr>\n",
       "<tr>\n",
       "  <th>Date:</th>          <td>Fri, 04 Jan 2019</td> <th>  Pseudo R-squ.:     </th>  <td>8.077e-06</td> \n",
       "</tr>\n",
       "<tr>\n",
       "  <th>Time:</th>              <td>12:26:34</td>     <th>  Log-Likelihood:    </th> <td>-1.0639e+05</td>\n",
       "</tr>\n",
       "<tr>\n",
       "  <th>converged:</th>           <td>True</td>       <th>  LL-Null:           </th> <td>-1.0639e+05</td>\n",
       "</tr>\n",
       "<tr>\n",
       "  <th> </th>                      <td> </td>        <th>  LLR p-value:       </th>   <td>0.1899</td>   \n",
       "</tr>\n",
       "</table>\n",
       "<table class=\"simpletable\">\n",
       "<tr>\n",
       "      <td></td>         <th>coef</th>     <th>std err</th>      <th>z</th>      <th>P>|z|</th>  <th>[0.025</th>    <th>0.975]</th>  \n",
       "</tr>\n",
       "<tr>\n",
       "  <th>ab_page</th>   <td>   -0.0150</td> <td>    0.011</td> <td>   -1.311</td> <td> 0.190</td> <td>   -0.037</td> <td>    0.007</td>\n",
       "</tr>\n",
       "<tr>\n",
       "  <th>intercept</th> <td>   -1.9888</td> <td>    0.008</td> <td> -246.669</td> <td> 0.000</td> <td>   -2.005</td> <td>   -1.973</td>\n",
       "</tr>\n",
       "</table>"
      ],
      "text/plain": [
       "<class 'statsmodels.iolib.summary.Summary'>\n",
       "\"\"\"\n",
       "                           Logit Regression Results                           \n",
       "==============================================================================\n",
       "Dep. Variable:              converted   No. Observations:               290584\n",
       "Model:                          Logit   Df Residuals:                   290582\n",
       "Method:                           MLE   Df Model:                            1\n",
       "Date:                Fri, 04 Jan 2019   Pseudo R-squ.:               8.077e-06\n",
       "Time:                        12:26:34   Log-Likelihood:            -1.0639e+05\n",
       "converged:                       True   LL-Null:                   -1.0639e+05\n",
       "                                        LLR p-value:                    0.1899\n",
       "==============================================================================\n",
       "                 coef    std err          z      P>|z|      [0.025      0.975]\n",
       "------------------------------------------------------------------------------\n",
       "ab_page       -0.0150      0.011     -1.311      0.190      -0.037       0.007\n",
       "intercept     -1.9888      0.008   -246.669      0.000      -2.005      -1.973\n",
       "==============================================================================\n",
       "\"\"\""
      ]
     },
     "execution_count": 42,
     "metadata": {},
     "output_type": "execute_result"
    }
   ],
   "source": [
    "result.summary()"
   ]
  },
  {
   "cell_type": "markdown",
   "metadata": {},
   "source": [
    "e. What is the p-value associated with **ab_page**? Why does it differ from the value you found in the **Part II**?<br><br>  **Hint**: What are the null and alternative hypotheses associated with your regression model, and how do they compare to the null and alternative hypotheses in the **Part II**?"
   ]
  },
  {
   "cell_type": "markdown",
   "metadata": {},
   "source": [
    "The result from the regression approach doesn't match our previous simulations. The reason why is this happening is that in our calculations above we used one-tail test and we were trying to prove whether or not the new page is better than the old page.\n",
    "\n",
    "Using the regression approach gives us results considering the two-tail approach and is tyrng to reply to a question whether the conversion of one page is significantly different than the conversion of the other page.\n",
    "H0 in this model would be that our 'ab_page' is totally insignificant when predicting the result. Again, we fail to reject H0."
   ]
  },
  {
   "cell_type": "markdown",
   "metadata": {},
   "source": [
    "f. Now, you are considering other things that might influence whether or not an individual converts.  Discuss why it is a good idea to consider other factors to add into your regression model.  Are there any disadvantages to adding additional terms into your regression model?"
   ]
  },
  {
   "cell_type": "markdown",
   "metadata": {},
   "source": [
    "> In my opinion we should only choose the variables in our model that might be very much correlated to the result. However, we should keep it simple and try not to add too many variables that may spoil the result. Too many variables might possibly cause multicollinearity and therefore wrong interpretation of results."
   ]
  },
  {
   "cell_type": "markdown",
   "metadata": {},
   "source": [
    "g. Now along with testing if the conversion rate changes for different pages, also add an effect based on which country a user lives. You will need to read in the **countries.csv** dataset and merge together your datasets on the approporiate rows.  [Here](https://pandas.pydata.org/pandas-docs/stable/generated/pandas.DataFrame.join.html) are the docs for joining tables. \n",
    "\n",
    "Does it appear that country had an impact on conversion?  Don't forget to create dummy variables for these country columns - **Hint: You will need two columns for the three dummy varaibles.** Provide the statistical output as well as a written response to answer this question."
   ]
  },
  {
   "cell_type": "code",
   "execution_count": 50,
   "metadata": {},
   "outputs": [
    {
     "data": {
      "text/html": [
       "<div>\n",
       "<style>\n",
       "    .dataframe thead tr:only-child th {\n",
       "        text-align: right;\n",
       "    }\n",
       "\n",
       "    .dataframe thead th {\n",
       "        text-align: left;\n",
       "    }\n",
       "\n",
       "    .dataframe tbody tr th {\n",
       "        vertical-align: top;\n",
       "    }\n",
       "</style>\n",
       "<table border=\"1\" class=\"dataframe\">\n",
       "  <thead>\n",
       "    <tr style=\"text-align: right;\">\n",
       "      <th></th>\n",
       "      <th>user_id</th>\n",
       "      <th>country</th>\n",
       "    </tr>\n",
       "  </thead>\n",
       "  <tbody>\n",
       "    <tr>\n",
       "      <th>0</th>\n",
       "      <td>834778</td>\n",
       "      <td>UK</td>\n",
       "    </tr>\n",
       "    <tr>\n",
       "      <th>1</th>\n",
       "      <td>928468</td>\n",
       "      <td>US</td>\n",
       "    </tr>\n",
       "  </tbody>\n",
       "</table>\n",
       "</div>"
      ],
      "text/plain": [
       "   user_id country\n",
       "0   834778      UK\n",
       "1   928468      US"
      ]
     },
     "execution_count": 50,
     "metadata": {},
     "output_type": "execute_result"
    }
   ],
   "source": [
    "df_countries = pd.read_csv('countries.csv')\n",
    "df_countries.head(2)"
   ]
  },
  {
   "cell_type": "code",
   "execution_count": 51,
   "metadata": {},
   "outputs": [],
   "source": [
    "df7 = pd.get_dummies(data=df_countries, columns=['country'])"
   ]
  },
  {
   "cell_type": "code",
   "execution_count": 52,
   "metadata": {},
   "outputs": [
    {
     "data": {
      "text/html": [
       "<div>\n",
       "<style>\n",
       "    .dataframe thead tr:only-child th {\n",
       "        text-align: right;\n",
       "    }\n",
       "\n",
       "    .dataframe thead th {\n",
       "        text-align: left;\n",
       "    }\n",
       "\n",
       "    .dataframe tbody tr th {\n",
       "        vertical-align: top;\n",
       "    }\n",
       "</style>\n",
       "<table border=\"1\" class=\"dataframe\">\n",
       "  <thead>\n",
       "    <tr style=\"text-align: right;\">\n",
       "      <th></th>\n",
       "      <th>user_id</th>\n",
       "      <th>timestamp</th>\n",
       "      <th>group</th>\n",
       "      <th>landing_page</th>\n",
       "      <th>converted</th>\n",
       "      <th>intercept</th>\n",
       "      <th>new_page</th>\n",
       "      <th>old_page</th>\n",
       "      <th>control</th>\n",
       "      <th>treatment</th>\n",
       "      <th>ab_page</th>\n",
       "      <th>country_CA</th>\n",
       "      <th>country_UK</th>\n",
       "      <th>country_US</th>\n",
       "    </tr>\n",
       "  </thead>\n",
       "  <tbody>\n",
       "    <tr>\n",
       "      <th>0</th>\n",
       "      <td>851104</td>\n",
       "      <td>2017-01-21 22:11:48.556739</td>\n",
       "      <td>control</td>\n",
       "      <td>old_page</td>\n",
       "      <td>0</td>\n",
       "      <td>1</td>\n",
       "      <td>0</td>\n",
       "      <td>1</td>\n",
       "      <td>1</td>\n",
       "      <td>0</td>\n",
       "      <td>0</td>\n",
       "      <td>0</td>\n",
       "      <td>0</td>\n",
       "      <td>1</td>\n",
       "    </tr>\n",
       "    <tr>\n",
       "      <th>1</th>\n",
       "      <td>804228</td>\n",
       "      <td>2017-01-12 08:01:45.159739</td>\n",
       "      <td>control</td>\n",
       "      <td>old_page</td>\n",
       "      <td>0</td>\n",
       "      <td>1</td>\n",
       "      <td>0</td>\n",
       "      <td>1</td>\n",
       "      <td>1</td>\n",
       "      <td>0</td>\n",
       "      <td>0</td>\n",
       "      <td>0</td>\n",
       "      <td>0</td>\n",
       "      <td>1</td>\n",
       "    </tr>\n",
       "    <tr>\n",
       "      <th>2</th>\n",
       "      <td>661590</td>\n",
       "      <td>2017-01-11 16:55:06.154213</td>\n",
       "      <td>treatment</td>\n",
       "      <td>new_page</td>\n",
       "      <td>0</td>\n",
       "      <td>1</td>\n",
       "      <td>1</td>\n",
       "      <td>0</td>\n",
       "      <td>0</td>\n",
       "      <td>1</td>\n",
       "      <td>1</td>\n",
       "      <td>0</td>\n",
       "      <td>0</td>\n",
       "      <td>1</td>\n",
       "    </tr>\n",
       "    <tr>\n",
       "      <th>3</th>\n",
       "      <td>853541</td>\n",
       "      <td>2017-01-08 18:28:03.143765</td>\n",
       "      <td>treatment</td>\n",
       "      <td>new_page</td>\n",
       "      <td>0</td>\n",
       "      <td>1</td>\n",
       "      <td>1</td>\n",
       "      <td>0</td>\n",
       "      <td>0</td>\n",
       "      <td>1</td>\n",
       "      <td>1</td>\n",
       "      <td>0</td>\n",
       "      <td>0</td>\n",
       "      <td>1</td>\n",
       "    </tr>\n",
       "    <tr>\n",
       "      <th>4</th>\n",
       "      <td>864975</td>\n",
       "      <td>2017-01-21 01:52:26.210827</td>\n",
       "      <td>control</td>\n",
       "      <td>old_page</td>\n",
       "      <td>1</td>\n",
       "      <td>1</td>\n",
       "      <td>0</td>\n",
       "      <td>1</td>\n",
       "      <td>1</td>\n",
       "      <td>0</td>\n",
       "      <td>0</td>\n",
       "      <td>0</td>\n",
       "      <td>0</td>\n",
       "      <td>1</td>\n",
       "    </tr>\n",
       "  </tbody>\n",
       "</table>\n",
       "</div>"
      ],
      "text/plain": [
       "   user_id                   timestamp      group landing_page  converted  \\\n",
       "0   851104  2017-01-21 22:11:48.556739    control     old_page          0   \n",
       "1   804228  2017-01-12 08:01:45.159739    control     old_page          0   \n",
       "2   661590  2017-01-11 16:55:06.154213  treatment     new_page          0   \n",
       "3   853541  2017-01-08 18:28:03.143765  treatment     new_page          0   \n",
       "4   864975  2017-01-21 01:52:26.210827    control     old_page          1   \n",
       "\n",
       "   intercept  new_page  old_page  control  treatment  ab_page  country_CA  \\\n",
       "0          1         0         1        1          0        0           0   \n",
       "1          1         0         1        1          0        0           0   \n",
       "2          1         1         0        0          1        1           0   \n",
       "3          1         1         0        0          1        1           0   \n",
       "4          1         0         1        1          0        0           0   \n",
       "\n",
       "   country_UK  country_US  \n",
       "0           0           1  \n",
       "1           0           1  \n",
       "2           0           1  \n",
       "3           0           1  \n",
       "4           0           1  "
      ]
     },
     "execution_count": 52,
     "metadata": {},
     "output_type": "execute_result"
    }
   ],
   "source": [
    "df8 = df_new.merge(df7, on='user_id')\n",
    "df8.head()"
   ]
  },
  {
   "cell_type": "code",
   "execution_count": 53,
   "metadata": {},
   "outputs": [
    {
     "name": "stdout",
     "output_type": "stream",
     "text": [
      "Optimization terminated successfully.\n",
      "         Current function value: 0.366116\n",
      "         Iterations 6\n"
     ]
    }
   ],
   "source": [
    "logit_countries = sm.Logit(df8['converted'],df8[['intercept','country_UK', 'country_US']])\n",
    "\n",
    "results = logit_countries.fit()"
   ]
  },
  {
   "cell_type": "code",
   "execution_count": 54,
   "metadata": {},
   "outputs": [
    {
     "data": {
      "text/html": [
       "<table class=\"simpletable\">\n",
       "<caption>Logit Regression Results</caption>\n",
       "<tr>\n",
       "  <th>Dep. Variable:</th>         <td>0</td>        <th>  No. Observations:  </th>   <td>290584</td>   \n",
       "</tr>\n",
       "<tr>\n",
       "  <th>Model:</th>               <td>Logit</td>      <th>  Df Residuals:      </th>   <td>290581</td>   \n",
       "</tr>\n",
       "<tr>\n",
       "  <th>Method:</th>               <td>MLE</td>       <th>  Df Model:          </th>   <td>     2</td>   \n",
       "</tr>\n",
       "<tr>\n",
       "  <th>Date:</th>          <td>Fri, 04 Jan 2019</td> <th>  Pseudo R-squ.:     </th>  <td>1.521e-05</td> \n",
       "</tr>\n",
       "<tr>\n",
       "  <th>Time:</th>              <td>13:09:24</td>     <th>  Log-Likelihood:    </th> <td>-1.0639e+05</td>\n",
       "</tr>\n",
       "<tr>\n",
       "  <th>converged:</th>           <td>True</td>       <th>  LL-Null:           </th> <td>-1.0639e+05</td>\n",
       "</tr>\n",
       "<tr>\n",
       "  <th> </th>                      <td> </td>        <th>  LLR p-value:       </th>   <td>0.1984</td>   \n",
       "</tr>\n",
       "</table>\n",
       "<table class=\"simpletable\">\n",
       "<tr>\n",
       "       <td></td>         <th>coef</th>     <th>std err</th>      <th>z</th>      <th>P>|z|</th>  <th>[0.025</th>    <th>0.975]</th>  \n",
       "</tr>\n",
       "<tr>\n",
       "  <th>intercept</th>  <td>   -2.0375</td> <td>    0.026</td> <td>  -78.364</td> <td> 0.000</td> <td>   -2.088</td> <td>   -1.987</td>\n",
       "</tr>\n",
       "<tr>\n",
       "  <th>country_UK</th> <td>    0.0507</td> <td>    0.028</td> <td>    1.786</td> <td> 0.074</td> <td>   -0.005</td> <td>    0.106</td>\n",
       "</tr>\n",
       "<tr>\n",
       "  <th>country_US</th> <td>    0.0408</td> <td>    0.027</td> <td>    1.518</td> <td> 0.129</td> <td>   -0.012</td> <td>    0.093</td>\n",
       "</tr>\n",
       "</table>"
      ],
      "text/plain": [
       "<class 'statsmodels.iolib.summary.Summary'>\n",
       "\"\"\"\n",
       "                           Logit Regression Results                           \n",
       "==============================================================================\n",
       "Dep. Variable:                      0   No. Observations:               290584\n",
       "Model:                          Logit   Df Residuals:                   290581\n",
       "Method:                           MLE   Df Model:                            2\n",
       "Date:                Fri, 04 Jan 2019   Pseudo R-squ.:               1.521e-05\n",
       "Time:                        13:09:24   Log-Likelihood:            -1.0639e+05\n",
       "converged:                       True   LL-Null:                   -1.0639e+05\n",
       "                                        LLR p-value:                    0.1984\n",
       "==============================================================================\n",
       "                 coef    std err          z      P>|z|      [0.025      0.975]\n",
       "------------------------------------------------------------------------------\n",
       "intercept     -2.0375      0.026    -78.364      0.000      -2.088      -1.987\n",
       "country_UK     0.0507      0.028      1.786      0.074      -0.005       0.106\n",
       "country_US     0.0408      0.027      1.518      0.129      -0.012       0.093\n",
       "==============================================================================\n",
       "\"\"\""
      ]
     },
     "execution_count": 54,
     "metadata": {},
     "output_type": "execute_result"
    }
   ],
   "source": [
    "results.summary(0)"
   ]
  },
  {
   "cell_type": "markdown",
   "metadata": {},
   "source": [
    "h. Though you have now looked at the individual factors of country and page on conversion, we would now like to look at an interaction between page and country to see if there significant effects on conversion.  Create the necessary additional columns, and fit the new model.  \n",
    "\n",
    "Provide the summary results, and your conclusions based on the results."
   ]
  },
  {
   "cell_type": "code",
   "execution_count": 55,
   "metadata": {},
   "outputs": [
    {
     "name": "stdout",
     "output_type": "stream",
     "text": [
      "Optimization terminated successfully.\n",
      "         Current function value: 0.366113\n",
      "         Iterations 6\n"
     ]
    },
    {
     "data": {
      "text/html": [
       "<table class=\"simpletable\">\n",
       "<caption>Logit Regression Results</caption>\n",
       "<tr>\n",
       "  <th>Dep. Variable:</th>         <td>0</td>        <th>  No. Observations:  </th>   <td>290584</td>   \n",
       "</tr>\n",
       "<tr>\n",
       "  <th>Model:</th>               <td>Logit</td>      <th>  Df Residuals:      </th>   <td>290580</td>   \n",
       "</tr>\n",
       "<tr>\n",
       "  <th>Method:</th>               <td>MLE</td>       <th>  Df Model:          </th>   <td>     3</td>   \n",
       "</tr>\n",
       "<tr>\n",
       "  <th>Date:</th>          <td>Fri, 04 Jan 2019</td> <th>  Pseudo R-squ.:     </th>  <td>2.323e-05</td> \n",
       "</tr>\n",
       "<tr>\n",
       "  <th>Time:</th>              <td>13:09:25</td>     <th>  Log-Likelihood:    </th> <td>-1.0639e+05</td>\n",
       "</tr>\n",
       "<tr>\n",
       "  <th>converged:</th>           <td>True</td>       <th>  LL-Null:           </th> <td>-1.0639e+05</td>\n",
       "</tr>\n",
       "<tr>\n",
       "  <th> </th>                      <td> </td>        <th>  LLR p-value:       </th>   <td>0.1760</td>   \n",
       "</tr>\n",
       "</table>\n",
       "<table class=\"simpletable\">\n",
       "<tr>\n",
       "       <td></td>         <th>coef</th>     <th>std err</th>      <th>z</th>      <th>P>|z|</th>  <th>[0.025</th>    <th>0.975]</th>  \n",
       "</tr>\n",
       "<tr>\n",
       "  <th>intercept</th>  <td>   -2.0300</td> <td>    0.027</td> <td>  -76.249</td> <td> 0.000</td> <td>   -2.082</td> <td>   -1.978</td>\n",
       "</tr>\n",
       "<tr>\n",
       "  <th>country_UK</th> <td>    0.0506</td> <td>    0.028</td> <td>    1.784</td> <td> 0.074</td> <td>   -0.005</td> <td>    0.106</td>\n",
       "</tr>\n",
       "<tr>\n",
       "  <th>country_US</th> <td>    0.0408</td> <td>    0.027</td> <td>    1.516</td> <td> 0.130</td> <td>   -0.012</td> <td>    0.093</td>\n",
       "</tr>\n",
       "<tr>\n",
       "  <th>ab_page</th>    <td>   -0.0149</td> <td>    0.011</td> <td>   -1.307</td> <td> 0.191</td> <td>   -0.037</td> <td>    0.007</td>\n",
       "</tr>\n",
       "</table>"
      ],
      "text/plain": [
       "<class 'statsmodels.iolib.summary.Summary'>\n",
       "\"\"\"\n",
       "                           Logit Regression Results                           \n",
       "==============================================================================\n",
       "Dep. Variable:                      0   No. Observations:               290584\n",
       "Model:                          Logit   Df Residuals:                   290580\n",
       "Method:                           MLE   Df Model:                            3\n",
       "Date:                Fri, 04 Jan 2019   Pseudo R-squ.:               2.323e-05\n",
       "Time:                        13:09:25   Log-Likelihood:            -1.0639e+05\n",
       "converged:                       True   LL-Null:                   -1.0639e+05\n",
       "                                        LLR p-value:                    0.1760\n",
       "==============================================================================\n",
       "                 coef    std err          z      P>|z|      [0.025      0.975]\n",
       "------------------------------------------------------------------------------\n",
       "intercept     -2.0300      0.027    -76.249      0.000      -2.082      -1.978\n",
       "country_UK     0.0506      0.028      1.784      0.074      -0.005       0.106\n",
       "country_US     0.0408      0.027      1.516      0.130      -0.012       0.093\n",
       "ab_page       -0.0149      0.011     -1.307      0.191      -0.037       0.007\n",
       "==============================================================================\n",
       "\"\"\""
      ]
     },
     "execution_count": 55,
     "metadata": {},
     "output_type": "execute_result"
    }
   ],
   "source": [
    "logit_countries = sm.Logit(df8['converted'],df8[['intercept','country_UK', 'country_US', 'ab_page']])\n",
    "\n",
    "results = logit_countries.fit()\n",
    "results.summary(0)"
   ]
  },
  {
   "cell_type": "markdown",
   "metadata": {},
   "source": [
    ">Even though the country seemed to have a little impact on the conversion rate, it is still not statistically significant.\n",
    "\n",
    "To conclude the findings of this analysis, I would say even thought we expected the new page to conver better than the old one, we couldn't prove this alternative hypothesis based on our statistical tests performed above.\n",
    "\n",
    "The difference in conversions of the new page vs the old page doesnt seem to be statistically significant as proven in the test. On the contrary, the performance showed in the histogram indicates the new page converts even slightly worse than the old one.\n",
    "\n",
    "The countries where our customers were tracked didnt' seem to have much any significant influence on the results and the distribution of the new page vs the old was fair across the customers (50:50).\n",
    "\n",
    "Therefore, we can conclude that based on the analysis above the new page tested here is not worth any more resources and the company in question could do better by implementing a different approach into their new landing page.\n",
    "\n",
    "Other solution could be performing the time series analysis and tracking the conversion over time. Sometimes, giving the old customers more time to get used to the new landing page can help them to convert later. Our dataset only tracked about 3 weeks of usage.\n"
   ]
  },
  {
   "cell_type": "markdown",
   "metadata": {},
   "source": [
    "<a id='conclusions'></a>\n",
    "## Finishing Up\n",
    "\n",
    "> Congratulations!  You have reached the end of the A/B Test Results project!  This is the final project in Term 1.  You should be very proud of all you have accomplished!\n",
    "\n",
    "\n",
    "## Directions to Submit\n",
    "\n",
    "> Before you submit your project, you need to create a .html or .pdf version of this notebook in the workspace here. To do that, run the code cell below. If it worked correctly, you should get a return code of 0, and you should see the generated .html file in the workspace directory (click on the orange Jupyter icon in the upper left).\n",
    "\n",
    "> Alternatively, you can download this report as .html via the **File** > **Download as** submenu, and then manually upload it into the workspace directory by clicking on the orange Jupyter icon in the upper left, then using the Upload button.\n",
    "\n",
    "> Once you've done this, you can submit your project by clicking on the \"Submit Project\" button in the lower right here. This will create and submit a zip file with this .ipynb doc and the .html or .pdf version you created. Congratulations!"
   ]
  },
  {
   "cell_type": "code",
   "execution_count": 56,
   "metadata": {},
   "outputs": [
    {
     "data": {
      "text/plain": [
       "0"
      ]
     },
     "execution_count": 56,
     "metadata": {},
     "output_type": "execute_result"
    }
   ],
   "source": [
    "from subprocess import call\n",
    "call(['python', '-m', 'nbconvert', 'Analyze_ab_test_results_notebook.ipynb'])"
   ]
  }
 ],
 "metadata": {
  "kernelspec": {
   "display_name": "Python 3",
   "language": "python",
   "name": "python3"
  },
  "language_info": {
   "codemirror_mode": {
    "name": "ipython",
    "version": 3
   },
   "file_extension": ".py",
   "mimetype": "text/x-python",
   "name": "python",
   "nbconvert_exporter": "python",
   "pygments_lexer": "ipython3",
   "version": "3.6.3"
  }
 },
 "nbformat": 4,
 "nbformat_minor": 2
}
